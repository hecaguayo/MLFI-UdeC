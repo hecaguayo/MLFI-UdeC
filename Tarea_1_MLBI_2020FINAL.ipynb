{
  "nbformat": 4,
  "nbformat_minor": 0,
  "metadata": {
    "colab": {
      "name": "Tarea 1 MLBI 2020-1",
      "provenance": [],
      "collapsed_sections": [],
      "toc_visible": true,
      "include_colab_link": true
    },
    "kernelspec": {
      "name": "python3",
      "display_name": "Python 3"
    }
  },
  "cells": [
    {
      "cell_type": "markdown",
      "metadata": {
        "id": "view-in-github",
        "colab_type": "text"
      },
      "source": [
        "<a href=\"https://colab.research.google.com/github/hecaguayo/Tarea1MLFBI/blob/master/Tarea_1_MLBI_2020FINAL.ipynb\" target=\"_parent\"><img src=\"https://colab.research.google.com/assets/colab-badge.svg\" alt=\"Open In Colab\"/></a>"
      ]
    },
    {
      "cell_type": "markdown",
      "metadata": {
        "id": "4f3CKqFUqL2-",
        "colab_type": "text"
      },
      "source": [
        "# **Tarea 1 de MLBI 2020-1**\n",
        "Hector Aguayo & Fabián Segura"
      ]
    },
    {
      "cell_type": "markdown",
      "metadata": {
        "id": "GTJMbnfEEm6Z",
        "colab_type": "text"
      },
      "source": [
        "#EJERCICIO 1"
      ]
    },
    {
      "cell_type": "markdown",
      "metadata": {
        "id": "Bd2Zkk1LE2Zr",
        "colab_type": "text"
      },
      "source": [
        " **Enunciado:**\n",
        "\n",
        "El set de datos 1 contiene información respecto a los estudiantes que han ingresado a la faculta de ingeniería. Se le pide que implemente una regresión logística que permita aprender a clasificar a que cluster pertenece cada alumno de acuerdo la información que se entrega. Recuerde que por convención la última columna del set de datos representa la señal que usted quiere aprender. También tenga en cuenta que las clases están desbalanceadas y que se espera que usted utilice 80% de los datos para entrenar y el 20% restante para testear. \n",
        "\n",
        "Además, presente una matriz de confusión y el f1-score. "
      ]
    },
    {
      "cell_type": "markdown",
      "metadata": {
        "id": "6TjLjL9IU80G",
        "colab_type": "text"
      },
      "source": [
        " ## Preparación\n",
        "Cargamos las librerias necesarias para la elaboración."
      ]
    },
    {
      "cell_type": "code",
      "metadata": {
        "id": "rVFf5asKE2Zt",
        "colab_type": "code",
        "outputId": "c9ee8b98-0a90-411a-b381-b54b8135dcce",
        "colab": {
          "base_uri": "https://localhost:8080/",
          "height": 34
        }
      },
      "source": [
        "from __future__ import absolute_import\n",
        "from __future__ import division\n",
        "from __future__ import print_function\n",
        "import os\n",
        "import logging\n",
        "os.environ['TF_CPP_MIN_VLOG_LEVEL'] = '0'\n",
        "os.environ['TF_CPP_MIN_LOG_LEVEL'] = '3'\n",
        "logging.getLogger(\"tensorflow\").setLevel(logging.WARNING)\n",
        "\n",
        "import numpy as np\n",
        "import pandas as pd\n",
        "import seaborn as sns\n",
        "from datetime import datetime\n",
        "\n",
        "import tensorflow as tf\n",
        "from tensorflow import keras\n",
        "from tensorflow.keras import Sequential\n",
        "from keras.layers import Dense, Dropout\n",
        "from tensorflow.keras.layers import Flatten, Dense\n",
        "tf.get_logger().setLevel(\"ERROR\")\n",
        "tf.autograph.set_verbosity(2)\n",
        "\n",
        "from sklearn.model_selection import train_test_split\n",
        "from sklearn.preprocessing import StandardScaler\n",
        "\n",
        "print(\"TensorFlow version: \", tf.__version__)"
      ],
      "execution_count": 4,
      "outputs": [
        {
          "output_type": "stream",
          "text": [
            "TensorFlow version:  2.2.0-rc3\n"
          ],
          "name": "stdout"
        }
      ]
    },
    {
      "cell_type": "markdown",
      "metadata": {
        "id": "ipRyUHjhU80Q",
        "colab_type": "text"
      },
      "source": [
        " A continuación, se carga el conjunto de datos desde Github."
      ]
    },
    {
      "cell_type": "code",
      "metadata": {
        "id": "9ivCDWnwE2Zx",
        "colab_type": "code",
        "colab": {}
      },
      "source": [
        "url = 'https://github.com/FxknTT/TareaMLBI1/blob/master/dataset1.xlsx?raw=true'\n",
        "dataset = pd.read_excel(url)"
      ],
      "execution_count": 0,
      "outputs": []
    },
    {
      "cell_type": "markdown",
      "metadata": {
        "id": "HzzlSs3PtTmt",
        "colab_type": "text"
      },
      "source": [
        " ## Limpieza de los datos\n",
        "\n",
        "Se presencia variables que son categoricas por lo cual hay que cambiarlas a valores númericos."
      ]
    },
    {
      "cell_type": "markdown",
      "metadata": {
        "id": "lFk0YVywcohY",
        "colab_type": "text"
      },
      "source": [
        "Primero transformamos las variables de carreras a booleanas, teniendo cada carrera una columna"
      ]
    },
    {
      "cell_type": "code",
      "metadata": {
        "id": "gzb10yoVrydW",
        "colab_type": "code",
        "cellView": "both",
        "colab": {}
      },
      "source": [
        "carreras = pd.get_dummies(dataset['crr_Nom'],prefix=\"Carrera\")\n",
        "X=dataset.drop(labels=['crr_Nom', 'cluster'], axis=1)"
      ],
      "execution_count": 0,
      "outputs": []
    },
    {
      "cell_type": "markdown",
      "metadata": {
        "id": "W5fsQz3Pc2PM",
        "colab_type": "text"
      },
      "source": [
        "Concatenamos estas variables booleanas a nuestra data"
      ]
    },
    {
      "cell_type": "code",
      "metadata": {
        "id": "qhI2zOHmchuE",
        "colab_type": "code",
        "colab": {}
      },
      "source": [
        "X = pd.concat([X, carreras], axis=1)"
      ],
      "execution_count": 0,
      "outputs": []
    },
    {
      "cell_type": "markdown",
      "metadata": {
        "id": "ULkYxdb9c5fB",
        "colab_type": "text"
      },
      "source": [
        "Además le damos la información de los cluster a las y"
      ]
    },
    {
      "cell_type": "code",
      "metadata": {
        "id": "u1QwANQbck1N",
        "colab_type": "code",
        "colab": {}
      },
      "source": [
        "y = dataset['cluster']"
      ],
      "execution_count": 0,
      "outputs": []
    },
    {
      "cell_type": "markdown",
      "metadata": {
        "id": "OxIT4JGBdHOz",
        "colab_type": "text"
      },
      "source": [
        "Luego hacemos que los cluster coincidan con los indices de los arrays.\n",
        "\n",
        "*   C1 = 0\n",
        "*   C2 = 1\n",
        "*   C3 = 2\n",
        "*   C4 = 3"
      ]
    },
    {
      "cell_type": "code",
      "metadata": {
        "id": "dFQMxsFkdFIe",
        "colab_type": "code",
        "outputId": "35a6b7dd-b055-4d02-f6c5-86084704dc1f",
        "colab": {
          "base_uri": "https://localhost:8080/",
          "height": 123
        }
      },
      "source": [
        "y = y.replace(['C1'], 0)\n",
        "y = y.replace(['C2'], 1)\n",
        "y = y.replace(['C3'], 2)\n",
        "y = y.replace(['C4'], 3)\n",
        "y.head()"
      ],
      "execution_count": 0,
      "outputs": [
        {
          "output_type": "execute_result",
          "data": {
            "text/plain": [
              "0    1\n",
              "1    0\n",
              "2    2\n",
              "3    1\n",
              "4    1\n",
              "Name: cluster, dtype: int64"
            ]
          },
          "metadata": {
            "tags": []
          },
          "execution_count": 6
        }
      ]
    },
    {
      "cell_type": "markdown",
      "metadata": {
        "id": "CtjqZtu4c_TO",
        "colab_type": "text"
      },
      "source": [
        "Observamos nuestros datos"
      ]
    },
    {
      "cell_type": "code",
      "metadata": {
        "id": "_LKQQ8pfcmme",
        "colab_type": "code",
        "outputId": "2d9015c7-52de-4a95-9bd3-7fd39fe7a7f3",
        "colab": {
          "base_uri": "https://localhost:8080/",
          "height": 265
        }
      },
      "source": [
        "print(X.head())\n",
        "print(y.head())"
      ],
      "execution_count": 0,
      "outputs": [
        {
          "output_type": "stream",
          "text": [
            "   psu_Nem  ...  Carrera_INGENIERÍA CIVIL DE MINAS\n",
            "0      783  ...                                  0\n",
            "1      799  ...                                  0\n",
            "2      688  ...                                  0\n",
            "3      605  ...                                  0\n",
            "4      603  ...                                  0\n",
            "\n",
            "[5 rows x 28 columns]\n",
            "0    1\n",
            "1    0\n",
            "2    2\n",
            "3    1\n",
            "4    1\n",
            "Name: cluster, dtype: int64\n"
          ],
          "name": "stdout"
        }
      ]
    },
    {
      "cell_type": "markdown",
      "metadata": {
        "id": "0cpcsieFhsNI",
        "colab_type": "text"
      },
      "source": [
        " ### Paso 1: Standarización de datos"
      ]
    },
    {
      "cell_type": "markdown",
      "metadata": {
        "id": "EL8-9d4ZJNR7",
        "colab_type": "text"
      },
      "source": [
        "Como se puyede ver las escalas de los datos son muy diferentes, los atributos varían mucho y en machine learning esto es perjudicial para que los modelos obtengan valores razonables.\n",
        "\n",
        "Por lo cual se estandizaran los valores de los datos usando `StandardScaler`. \n",
        "\n",
        "Además usaremos esta herramienta para separar los datos `train_test_split`\n"
      ]
    },
    {
      "cell_type": "code",
      "metadata": {
        "id": "rhEbFCZ86cDZ",
        "colab_type": "code",
        "outputId": "9c43d8e7-e756-4643-8ada-d40abdf580fb",
        "colab": {
          "base_uri": "https://localhost:8080/",
          "height": 247
        }
      },
      "source": [
        "from sklearn.preprocessing import StandardScaler\n",
        "\n",
        "X_train, X_test, y_train, y_test = train_test_split(X, y, test_size=0.2, random_state = 0, stratify = y) #Dibidimos en 80% entrenamiento y 20% testeo.\n",
        "\n",
        "scaler = StandardScaler()\n",
        "X_train = scaler.fit_transform(X_train)\n",
        "X_test = scaler.transform(X_test)\n",
        "X_train"
      ],
      "execution_count": 0,
      "outputs": [
        {
          "output_type": "execute_result",
          "data": {
            "text/plain": [
              "array([[-0.67829316, -0.07778272, -0.30892258, ..., -0.28640746,\n",
              "        -0.28835194, -0.18809386],\n",
              "       [-2.40729041, -1.38038018,  0.85514198, ..., -0.28640746,\n",
              "        -0.28835194, -0.18809386],\n",
              "       [-0.02294743, -1.59492565,  0.29074704, ..., -0.28640746,\n",
              "        -0.28835194, -0.18809386],\n",
              "       ...,\n",
              "       [ 1.05070409, -0.01648401,  0.02618691, ..., -0.28640746,\n",
              "         3.4679843 , -0.18809386],\n",
              "       [ 1.32957462,  2.46611351,  0.62585654, ..., -0.28640746,\n",
              "        -0.28835194, -0.18809386],\n",
              "       [ 0.61845478, -0.49154897, -0.09727448, ..., -0.28640746,\n",
              "        -0.28835194, -0.18809386]])"
            ]
          },
          "metadata": {
            "tags": []
          },
          "execution_count": 8
        }
      ]
    },
    {
      "cell_type": "markdown",
      "metadata": {
        "id": "UMl3qrU5MGV6",
        "colab_type": "text"
      },
      "source": [
        " ### Paso 2: Creamos nuestra neurona"
      ]
    },
    {
      "cell_type": "markdown",
      "metadata": {
        "id": "cw4nrfcB7kyk",
        "colab_type": "text"
      },
      "source": [
        " A continuación, definiremos nuestro modelo el cual es un modelo de manera sequencial, que tiene una primera capa de input para luego salir en una capa de salida con softmax, el cual nos encasilla en una de las clases."
      ]
    },
    {
      "cell_type": "code",
      "metadata": {
        "id": "l1NvvNkH8Kbt",
        "colab_type": "code",
        "colab": {}
      },
      "source": [
        "model = Sequential()\n",
        "model.add(Dense(X.shape[1], activation='relu', input_dim = X.shape[1]))\n",
        "model.add(Dense(4, activation = 'softmax'))\n"
      ],
      "execution_count": 0,
      "outputs": []
    },
    {
      "cell_type": "markdown",
      "metadata": {
        "id": "42tVMV_mF6ax",
        "colab_type": "text"
      },
      "source": [
        "Ocuparemos el optimizador `adam`, la función de perdida `sparse_categorical_crossentropy`, el cual nos dice si fue bien encasillada en la clase y la metrica a ocupar es `accuracy` que es cuántas variables encasillamos bien."
      ]
    },
    {
      "cell_type": "code",
      "metadata": {
        "id": "bRoNiX14fsaQ",
        "colab_type": "code",
        "colab": {}
      },
      "source": [
        "model.compile(optimizer='adam', loss = 'sparse_categorical_crossentropy', metrics=['accuracy'])"
      ],
      "execution_count": 0,
      "outputs": []
    },
    {
      "cell_type": "markdown",
      "metadata": {
        "id": "kJMr4I8pptZz",
        "colab_type": "text"
      },
      "source": [
        ""
      ]
    },
    {
      "cell_type": "markdown",
      "metadata": {
        "id": "4YS50CQb2ooO",
        "colab_type": "text"
      },
      "source": [
        " ### Paso 5: Entrena el modelo"
      ]
    },
    {
      "cell_type": "code",
      "metadata": {
        "id": "i_1G_LrEGceq",
        "colab_type": "code",
        "colab": {}
      },
      "source": [
        "Entrenamos el modelo con nuestras variables de entrenamiento, y le damos un batch size de 10 y realizaremos 20 ejercicios."
      ],
      "execution_count": 0,
      "outputs": []
    },
    {
      "cell_type": "code",
      "metadata": {
        "id": "aIkKFDZEd0Ui",
        "colab_type": "code",
        "outputId": "32e3417e-48c1-4199-9872-56bea7c24257",
        "colab": {
          "base_uri": "https://localhost:8080/",
          "height": 745
        }
      },
      "source": [
        "model.fit(X_train, y_train.to_numpy(), batch_size=10, epochs=20, verbose=1)"
      ],
      "execution_count": 0,
      "outputs": [
        {
          "output_type": "stream",
          "text": [
            "Epoch 1/20\n",
            "630/630 [==============================] - 1s 1ms/step - loss: 0.8253 - accuracy: 0.6400\n",
            "Epoch 2/20\n",
            "630/630 [==============================] - 1s 1ms/step - loss: 0.4970 - accuracy: 0.7953\n",
            "Epoch 3/20\n",
            "630/630 [==============================] - 1s 1ms/step - loss: 0.4354 - accuracy: 0.8175\n",
            "Epoch 4/20\n",
            "630/630 [==============================] - 1s 1ms/step - loss: 0.4061 - accuracy: 0.8269\n",
            "Epoch 5/20\n",
            "630/630 [==============================] - 1s 1ms/step - loss: 0.3865 - accuracy: 0.8349\n",
            "Epoch 6/20\n",
            "630/630 [==============================] - 1s 1ms/step - loss: 0.3732 - accuracy: 0.8446\n",
            "Epoch 7/20\n",
            "630/630 [==============================] - 1s 1ms/step - loss: 0.3625 - accuracy: 0.8508\n",
            "Epoch 8/20\n",
            "630/630 [==============================] - 1s 1ms/step - loss: 0.3511 - accuracy: 0.8538\n",
            "Epoch 9/20\n",
            "630/630 [==============================] - 1s 1ms/step - loss: 0.3452 - accuracy: 0.8546\n",
            "Epoch 10/20\n",
            "630/630 [==============================] - 1s 1ms/step - loss: 0.3371 - accuracy: 0.8565\n",
            "Epoch 11/20\n",
            "630/630 [==============================] - 1s 1ms/step - loss: 0.3299 - accuracy: 0.8606\n",
            "Epoch 12/20\n",
            "630/630 [==============================] - 1s 1ms/step - loss: 0.3247 - accuracy: 0.8619\n",
            "Epoch 13/20\n",
            "630/630 [==============================] - 1s 1ms/step - loss: 0.3200 - accuracy: 0.8675\n",
            "Epoch 14/20\n",
            "630/630 [==============================] - 1s 1ms/step - loss: 0.3183 - accuracy: 0.8659\n",
            "Epoch 15/20\n",
            "630/630 [==============================] - 1s 1ms/step - loss: 0.3105 - accuracy: 0.8703\n",
            "Epoch 16/20\n",
            "630/630 [==============================] - 1s 1ms/step - loss: 0.3073 - accuracy: 0.8729\n",
            "Epoch 17/20\n",
            "630/630 [==============================] - 1s 1ms/step - loss: 0.3043 - accuracy: 0.8729\n",
            "Epoch 18/20\n",
            "630/630 [==============================] - 1s 1ms/step - loss: 0.3016 - accuracy: 0.8722\n",
            "Epoch 19/20\n",
            "630/630 [==============================] - 1s 1ms/step - loss: 0.2970 - accuracy: 0.8760\n",
            "Epoch 20/20\n",
            "630/630 [==============================] - 1s 1ms/step - loss: 0.2950 - accuracy: 0.8770\n"
          ],
          "name": "stdout"
        },
        {
          "output_type": "execute_result",
          "data": {
            "text/plain": [
              "<tensorflow.python.keras.callbacks.History at 0x7f61f70fac50>"
            ]
          },
          "metadata": {
            "tags": []
          },
          "execution_count": 11
        }
      ]
    },
    {
      "cell_type": "markdown",
      "metadata": {
        "id": "7Nwxqxlx2sOv",
        "colab_type": "text"
      },
      "source": [
        " ### Paso 6: Evalúa el modelo"
      ]
    },
    {
      "cell_type": "markdown",
      "metadata": {
        "id": "U33DacPqGz6P",
        "colab_type": "text"
      },
      "source": [
        "A modo de visualización primaria vemos si predijo bien"
      ]
    },
    {
      "cell_type": "code",
      "metadata": {
        "id": "qWlpwJFQd463",
        "colab_type": "code",
        "outputId": "70cc5e31-18f0-4d68-d262-f8cddc7f446e",
        "colab": {
          "base_uri": "https://localhost:8080/",
          "height": 107
        }
      },
      "source": [
        "y_pred = model.predict_classes(X_test)\n",
        "y_pred"
      ],
      "execution_count": 0,
      "outputs": [
        {
          "output_type": "stream",
          "text": [
            "WARNING:tensorflow:From <ipython-input-12-5398495920a8>:1: Sequential.predict_classes (from tensorflow.python.keras.engine.sequential) is deprecated and will be removed after 2021-01-01.\n",
            "Instructions for updating:\n",
            "Please use instead:* `np.argmax(model.predict(x), axis=-1)`,   if your model does multi-class classification   (e.g. if it uses a `softmax` last-layer activation).* `(model.predict(x) > 0.5).astype(\"int32\")`,   if your model does binary classification   (e.g. if it uses a `sigmoid` last-layer activation).\n"
          ],
          "name": "stdout"
        },
        {
          "output_type": "execute_result",
          "data": {
            "text/plain": [
              "array([2, 0, 2, ..., 1, 1, 1])"
            ]
          },
          "metadata": {
            "tags": []
          },
          "execution_count": 12
        }
      ]
    },
    {
      "cell_type": "code",
      "metadata": {
        "id": "z5g4Ff9Sd6q7",
        "colab_type": "code",
        "outputId": "1c9812dc-2682-4ce9-f21f-9ffd3331fd6f",
        "colab": {
          "base_uri": "https://localhost:8080/",
          "height": 230
        }
      },
      "source": [
        "y_test"
      ],
      "execution_count": 0,
      "outputs": [
        {
          "output_type": "execute_result",
          "data": {
            "text/plain": [
              "3429    2\n",
              "781     0\n",
              "7540    2\n",
              "5035    1\n",
              "3035    2\n",
              "       ..\n",
              "1060    2\n",
              "6010    2\n",
              "6061    3\n",
              "5953    1\n",
              "139     1\n",
              "Name: cluster, Length: 1574, dtype: int64"
            ]
          },
          "metadata": {
            "tags": []
          },
          "execution_count": 13
        }
      ]
    },
    {
      "cell_type": "markdown",
      "metadata": {
        "id": "ok8Eu_NIHISi",
        "colab_type": "text"
      },
      "source": [
        "Analizamos el rendimiento del modelo con las variables de testeo"
      ]
    },
    {
      "cell_type": "code",
      "metadata": {
        "id": "vE6rlGDcgF5g",
        "colab_type": "code",
        "outputId": "9268c444-7723-4006-a9c8-605e81160b5b",
        "colab": {
          "base_uri": "https://localhost:8080/",
          "height": 52
        }
      },
      "source": [
        "model.evaluate(X_test, y_test.to_numpy())"
      ],
      "execution_count": 0,
      "outputs": [
        {
          "output_type": "stream",
          "text": [
            "50/50 [==============================] - 0s 1ms/step - loss: 0.3500 - accuracy: 0.8469\n"
          ],
          "name": "stdout"
        },
        {
          "output_type": "execute_result",
          "data": {
            "text/plain": [
              "[0.3499736785888672, 0.846886932849884]"
            ]
          },
          "metadata": {
            "tags": []
          },
          "execution_count": 14
        }
      ]
    },
    {
      "cell_type": "markdown",
      "metadata": {
        "id": "rI11-esYHL7a",
        "colab_type": "text"
      },
      "source": [
        "Tenemos un accuracy del 85%, lo cual es aceptable."
      ]
    },
    {
      "cell_type": "markdown",
      "metadata": {
        "id": "f05il1p1HXTM",
        "colab_type": "text"
      },
      "source": [
        "Desde sklearn importamos la api de la matriz de confusión la cual nos presenta"
      ]
    },
    {
      "cell_type": "code",
      "metadata": {
        "id": "7G12E76-339G",
        "colab_type": "code",
        "cellView": "both",
        "outputId": "301016d1-616b-4864-dbfb-abf157e822f0",
        "colab": {
          "base_uri": "https://localhost:8080/",
          "height": 105
        }
      },
      "source": [
        "from sklearn.metrics  import confusion_matrix, accuracy_score\n",
        "print(confusion_matrix(y_test, y_pred))\n",
        "\n",
        "accuracy_score(y_test, y_pred)\n"
      ],
      "execution_count": 0,
      "outputs": [
        {
          "output_type": "stream",
          "text": [
            "[[230  36   0   0]\n",
            " [ 36 629  48  14]\n",
            " [  0  35 297  23]\n",
            " [  0  17  32 177]]\n"
          ],
          "name": "stdout"
        },
        {
          "output_type": "execute_result",
          "data": {
            "text/plain": [
              "0.8468869123252859"
            ]
          },
          "metadata": {
            "tags": []
          },
          "execution_count": 15
        }
      ]
    },
    {
      "cell_type": "markdown",
      "metadata": {
        "id": "O-YkmY8mHtUD",
        "colab_type": "text"
      },
      "source": [
        "De la cual podemos ver las clasificaciones que fueron acertas y las que no en donde fueron clasificadas."
      ]
    },
    {
      "cell_type": "markdown",
      "metadata": {
        "id": "AWcaPPxtH0WS",
        "colab_type": "text"
      },
      "source": [
        "Ahora veremos el f-1 score, el cual lo calcularemos bajo el parametro de micro, el que calcula las metricas globales contando el total de verdaderos positivos, falsos negativos y falsos positivos.\n",
        "\n"
      ]
    },
    {
      "cell_type": "code",
      "metadata": {
        "id": "OJ56n-SeH2si",
        "colab_type": "code",
        "outputId": "612f7aee-8335-47ce-c08d-8840c9eff746",
        "colab": {
          "base_uri": "https://localhost:8080/",
          "height": 34
        }
      },
      "source": [
        "from sklearn.metrics import f1_score\n",
        "f1_score(y_test, y_pred, average='micro')"
      ],
      "execution_count": 0,
      "outputs": [
        {
          "output_type": "execute_result",
          "data": {
            "text/plain": [
              "0.8468869123252859"
            ]
          },
          "metadata": {
            "tags": []
          },
          "execution_count": 16
        }
      ]
    },
    {
      "cell_type": "markdown",
      "metadata": {
        "id": "V-vCipk5J4cx",
        "colab_type": "text"
      },
      "source": [
        "#EJERCICIO 2"
      ]
    },
    {
      "cell_type": "markdown",
      "metadata": {
        "id": "bSAzcOvhEzg0",
        "colab_type": "text"
      },
      "source": [
        "##Preparación"
      ]
    },
    {
      "cell_type": "markdown",
      "metadata": {
        "id": "Hp85ArQvF3K_",
        "colab_type": "text"
      },
      "source": [
        "Cargamos nuestro dataframe desde colab"
      ]
    },
    {
      "cell_type": "code",
      "metadata": {
        "id": "IyBgnMstE3Bz",
        "colab_type": "code",
        "colab": {}
      },
      "source": [
        "url = 'https://raw.githubusercontent.com/hecaguayo/Tarea1MLFBI/master/dataset2%5B1%5D.csv'\n",
        "dataset2 = pd.read_csv(url)"
      ],
      "execution_count": 0,
      "outputs": []
    },
    {
      "cell_type": "markdown",
      "metadata": {
        "id": "Zl6mWlFSF7Fn",
        "colab_type": "text"
      },
      "source": [
        "Visualizamos si los datos fueron cargados correctamente"
      ]
    },
    {
      "cell_type": "code",
      "metadata": {
        "id": "2z7OsdXTE_q9",
        "colab_type": "code",
        "colab": {
          "base_uri": "https://localhost:8080/",
          "height": 204
        },
        "outputId": "8231c1b9-ba71-4be0-e498-7fee9e2b7361"
      },
      "source": [
        "dataset2.head()"
      ],
      "execution_count": 6,
      "outputs": [
        {
          "output_type": "execute_result",
          "data": {
            "text/html": [
              "<div>\n",
              "<style scoped>\n",
              "    .dataframe tbody tr th:only-of-type {\n",
              "        vertical-align: middle;\n",
              "    }\n",
              "\n",
              "    .dataframe tbody tr th {\n",
              "        vertical-align: top;\n",
              "    }\n",
              "\n",
              "    .dataframe thead th {\n",
              "        text-align: right;\n",
              "    }\n",
              "</style>\n",
              "<table border=\"1\" class=\"dataframe\">\n",
              "  <thead>\n",
              "    <tr style=\"text-align: right;\">\n",
              "      <th></th>\n",
              "      <th>x</th>\n",
              "      <th>y</th>\n",
              "      <th>condition</th>\n",
              "    </tr>\n",
              "  </thead>\n",
              "  <tbody>\n",
              "    <tr>\n",
              "      <th>0</th>\n",
              "      <td>7391.708670</td>\n",
              "      <td>5.898348e+06</td>\n",
              "      <td>1</td>\n",
              "    </tr>\n",
              "    <tr>\n",
              "      <th>1</th>\n",
              "      <td>48438.984252</td>\n",
              "      <td>5.946210e+06</td>\n",
              "      <td>1</td>\n",
              "    </tr>\n",
              "    <tr>\n",
              "      <th>2</th>\n",
              "      <td>-2768.592216</td>\n",
              "      <td>5.946243e+06</td>\n",
              "      <td>1</td>\n",
              "    </tr>\n",
              "    <tr>\n",
              "      <th>3</th>\n",
              "      <td>41644.498119</td>\n",
              "      <td>5.915993e+06</td>\n",
              "      <td>1</td>\n",
              "    </tr>\n",
              "    <tr>\n",
              "      <th>4</th>\n",
              "      <td>53467.799848</td>\n",
              "      <td>5.953068e+06</td>\n",
              "      <td>1</td>\n",
              "    </tr>\n",
              "  </tbody>\n",
              "</table>\n",
              "</div>"
            ],
            "text/plain": [
              "              x             y  condition\n",
              "0   7391.708670  5.898348e+06          1\n",
              "1  48438.984252  5.946210e+06          1\n",
              "2  -2768.592216  5.946243e+06          1\n",
              "3  41644.498119  5.915993e+06          1\n",
              "4  53467.799848  5.953068e+06          1"
            ]
          },
          "metadata": {
            "tags": []
          },
          "execution_count": 6
        }
      ]
    },
    {
      "cell_type": "markdown",
      "metadata": {
        "id": "c_ajFBkHGGit",
        "colab_type": "text"
      },
      "source": [
        "Visualiamos los datos mediante seaborn pairplot"
      ]
    },
    {
      "cell_type": "code",
      "metadata": {
        "id": "ObnK76XOFCNO",
        "colab_type": "code",
        "colab": {
          "base_uri": "https://localhost:8080/",
          "height": 405
        },
        "outputId": "4fd25e8d-c60c-453f-ada3-18d6e0ac9f76"
      },
      "source": [
        "sns.pairplot(dataset2, hue='condition')"
      ],
      "execution_count": 7,
      "outputs": [
        {
          "output_type": "execute_result",
          "data": {
            "text/plain": [
              "<seaborn.axisgrid.PairGrid at 0x7f2da2691978>"
            ]
          },
          "metadata": {
            "tags": []
          },
          "execution_count": 7
        },
        {
          "output_type": "display_data",
          "data": {
            "image/png": "[encoded data removed]",
            "text/plain": [
              "<Figure size 414.25x360 with 6 Axes>"
            ]
          },
          "metadata": {
            "tags": [],
            "needs_background": "light"
          }
        }
      ]
    },
    {
      "cell_type": "code",
      "metadata": {
        "id": "d88vnGUNFYjw",
        "colab_type": "code",
        "colab": {
          "base_uri": "https://localhost:8080/",
          "height": 286
        },
        "outputId": "6b0fd295-6e0b-4ece-f849-f6b0608d28f7"
      },
      "source": [
        "sns.heatmap(dataset2.corr(), annot=True)"
      ],
      "execution_count": 8,
      "outputs": [
        {
          "output_type": "execute_result",
          "data": {
            "text/plain": [
              "<matplotlib.axes._subplots.AxesSubplot at 0x7f2d9fbe5d30>"
            ]
          },
          "metadata": {
            "tags": []
          },
          "execution_count": 8
        },
        {
          "output_type": "display_data",
          "data": {
            "image/png": "[encoded data removed]",
            "text/plain": [
              "<Figure size 432x288 with 2 Axes>"
            ]
          },
          "metadata": {
            "tags": [],
            "needs_background": "light"
          }
        }
      ]
    },
    {
      "cell_type": "markdown",
      "metadata": {
        "id": "mQ7bjaDrGLeN",
        "colab_type": "text"
      },
      "source": [
        "Asignamos nuestros dataset X e Y, donde X son las variables que utilizaremos para asignar las variables Y"
      ]
    },
    {
      "cell_type": "code",
      "metadata": {
        "id": "cK-tU6UAFtGs",
        "colab_type": "code",
        "colab": {}
      },
      "source": [
        "X=dataset2.drop(labels=['condition'], axis=1)\n",
        "y=dataset2['condition']"
      ],
      "execution_count": 0,
      "outputs": []
    },
    {
      "cell_type": "markdown",
      "metadata": {
        "id": "IiNPUo2TGgaJ",
        "colab_type": "text"
      },
      "source": [
        "##Paso 1: Standarización de datos y creación de los set de entrenamiento y testeo"
      ]
    },
    {
      "cell_type": "code",
      "metadata": {
        "id": "xYDd1D0JFz_Q",
        "colab_type": "code",
        "colab": {
          "base_uri": "https://localhost:8080/",
          "height": 136
        },
        "outputId": "271399e2-89ff-4247-f57e-59beb40aa2df"
      },
      "source": [
        "X_train, X_test, y_train, y_test = train_test_split(X, y, test_size=0.2) #Dividimos en 80% entrenamiento y 20% testeo.\n",
        "scaler = StandardScaler()\n",
        "X_train = scaler.fit_transform(X_train)\n",
        "X_test = scaler.transform(X_test)\n",
        "X_train"
      ],
      "execution_count": 12,
      "outputs": [
        {
          "output_type": "execute_result",
          "data": {
            "text/plain": [
              "array([[ 1.46406838, -0.69268078],\n",
              "       [ 0.80791725,  1.25074007],\n",
              "       [ 0.03345593,  1.05261785],\n",
              "       ...,\n",
              "       [ 0.33973832, -0.60820715],\n",
              "       [-0.85493183,  1.23440792],\n",
              "       [ 0.93092755,  1.58280032]])"
            ]
          },
          "metadata": {
            "tags": []
          },
          "execution_count": 12
        }
      ]
    },
    {
      "cell_type": "markdown",
      "metadata": {
        "id": "eSdCVr9vG0SY",
        "colab_type": "text"
      },
      "source": [
        "##Paso 2: Creación de neurona"
      ]
    },
    {
      "cell_type": "code",
      "metadata": {
        "id": "OJX2Zsm-Gype",
        "colab_type": "code",
        "colab": {}
      },
      "source": [
        "model = Sequential()\n",
        "model.add(Dense(9, activation='relu', input_dim=2))\n",
        "model.add(Dense(2, activation='relu'))\n",
        "model.add(Dense(1, activation='sigmoid'))"
      ],
      "execution_count": 0,
      "outputs": []
    },
    {
      "cell_type": "markdown",
      "metadata": {
        "id": "pc7plGRCG8cI",
        "colab_type": "text"
      },
      "source": [
        "##Paso 3: Entrenamiento de modelo"
      ]
    },
    {
      "cell_type": "code",
      "metadata": {
        "id": "OGAR7Fq6G9-4",
        "colab_type": "code",
        "colab": {}
      },
      "source": [
        "model.compile(optimizer='sgd', loss='binary_crossentropy', metrics=['accuracy'])"
      ],
      "execution_count": 0,
      "outputs": []
    },
    {
      "cell_type": "code",
      "metadata": {
        "id": "8TjGq0SnHDwR",
        "colab_type": "code",
        "colab": {
          "base_uri": "https://localhost:8080/",
          "height": 374
        },
        "outputId": "7834f1cf-5ff9-442a-a82c-4cf3af2c24d8"
      },
      "source": [
        "model.fit(X_train, y_train.to_numpy(), batch_size=20, epochs=10, verbose=1)"
      ],
      "execution_count": 16,
      "outputs": [
        {
          "output_type": "stream",
          "text": [
            "Epoch 1/10\n",
            "3266/3266 [==============================] - 4s 1ms/step - loss: 0.3297 - accuracy: 0.8263\n",
            "Epoch 2/10\n",
            "3266/3266 [==============================] - 4s 1ms/step - loss: 0.2590 - accuracy: 0.8751\n",
            "Epoch 3/10\n",
            "3266/3266 [==============================] - 4s 1ms/step - loss: 0.2273 - accuracy: 0.8977\n",
            "Epoch 4/10\n",
            "3266/3266 [==============================] - 4s 1ms/step - loss: 0.1901 - accuracy: 0.9293\n",
            "Epoch 5/10\n",
            "3266/3266 [==============================] - 4s 1ms/step - loss: 0.1464 - accuracy: 0.9625\n",
            "Epoch 6/10\n",
            "3266/3266 [==============================] - 4s 1ms/step - loss: 0.1156 - accuracy: 0.9714\n",
            "Epoch 7/10\n",
            "3266/3266 [==============================] - 4s 1ms/step - loss: 0.0976 - accuracy: 0.9744\n",
            "Epoch 8/10\n",
            "3266/3266 [==============================] - 4s 1ms/step - loss: 0.0861 - accuracy: 0.9765\n",
            "Epoch 9/10\n",
            "3266/3266 [==============================] - 4s 1ms/step - loss: 0.0777 - accuracy: 0.9779\n",
            "Epoch 10/10\n",
            "3266/3266 [==============================] - 4s 1ms/step - loss: 0.0710 - accuracy: 0.9797\n"
          ],
          "name": "stdout"
        },
        {
          "output_type": "execute_result",
          "data": {
            "text/plain": [
              "<tensorflow.python.keras.callbacks.History at 0x7f2d968cc630>"
            ]
          },
          "metadata": {
            "tags": []
          },
          "execution_count": 16
        }
      ]
    },
    {
      "cell_type": "markdown",
      "metadata": {
        "id": "AfYkscdYHcML",
        "colab_type": "text"
      },
      "source": [
        "##Paso 4: Evaluación del modelo"
      ]
    },
    {
      "cell_type": "code",
      "metadata": {
        "id": "qbcqBWQtHFJv",
        "colab_type": "code",
        "colab": {
          "base_uri": "https://localhost:8080/",
          "height": 136
        },
        "outputId": "fff06e0c-5d32-4736-a15c-0f0b9b8ec19d"
      },
      "source": [
        "y_pred = model.predict_classes(X_test)\n",
        "y_pred"
      ],
      "execution_count": 17,
      "outputs": [
        {
          "output_type": "execute_result",
          "data": {
            "text/plain": [
              "array([[0],\n",
              "       [0],\n",
              "       [1],\n",
              "       ...,\n",
              "       [0],\n",
              "       [0],\n",
              "       [0]], dtype=int32)"
            ]
          },
          "metadata": {
            "tags": []
          },
          "execution_count": 17
        }
      ]
    },
    {
      "cell_type": "code",
      "metadata": {
        "id": "6kYiBhOYHXbN",
        "colab_type": "code",
        "colab": {
          "base_uri": "https://localhost:8080/",
          "height": 221
        },
        "outputId": "65f27846-30d1-45fc-d7a9-dff321f99c7e"
      },
      "source": [
        "y_test"
      ],
      "execution_count": 18,
      "outputs": [
        {
          "output_type": "execute_result",
          "data": {
            "text/plain": [
              "30587    0\n",
              "20002    0\n",
              "2327     1\n",
              "45242    0\n",
              "28793    0\n",
              "        ..\n",
              "64514    0\n",
              "73895    0\n",
              "79131    0\n",
              "23638    0\n",
              "68627    0\n",
              "Name: condition, Length: 16330, dtype: int64"
            ]
          },
          "metadata": {
            "tags": []
          },
          "execution_count": 18
        }
      ]
    },
    {
      "cell_type": "markdown",
      "metadata": {
        "id": "EzKfYHxYHkfC",
        "colab_type": "text"
      },
      "source": [
        "Aquí nos percatamos que el resulto obtenido por el modelo es acertado."
      ]
    },
    {
      "cell_type": "code",
      "metadata": {
        "id": "i0KmAyHtHolr",
        "colab_type": "code",
        "colab": {
          "base_uri": "https://localhost:8080/",
          "height": 51
        },
        "outputId": "6c8b51da-61e5-4859-c2be-9fa409242f15"
      },
      "source": [
        "model.evaluate(X_test, y_test)"
      ],
      "execution_count": 19,
      "outputs": [
        {
          "output_type": "stream",
          "text": [
            "511/511 [==============================] - 1s 1ms/step - loss: 0.0688 - accuracy: 0.9816\n"
          ],
          "name": "stdout"
        },
        {
          "output_type": "execute_result",
          "data": {
            "text/plain": [
              "[0.06883596628904343, 0.9815676808357239]"
            ]
          },
          "metadata": {
            "tags": []
          },
          "execution_count": 19
        }
      ]
    },
    {
      "cell_type": "code",
      "metadata": {
        "id": "1ge4NZ0VHryA",
        "colab_type": "code",
        "colab": {}
      },
      "source": [
        ""
      ],
      "execution_count": 0,
      "outputs": []
    }
  ]
}