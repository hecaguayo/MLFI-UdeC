{
  "nbformat": 4,
  "nbformat_minor": 0,
  "metadata": {
    "colab": {
      "name": "Tarea 1 MLBI.ipynb",
      "provenance": [],
      "collapsed_sections": [],
      "toc_visible": true,
      "include_colab_link": true
    },
    "kernelspec": {
      "name": "python3",
      "display_name": "Python 3"
    }
  },
  "cells": [
    {
      "cell_type": "markdown",
      "metadata": {
        "id": "view-in-github",
        "colab_type": "text"
      },
      "source": [
        "<a href=\"https://colab.research.google.com/github/hecaguayo/Tarea1MLFBI/blob/master/Tarea_1_MLBI.ipynb\" target=\"_parent\"><img src=\"https://colab.research.google.com/assets/colab-badge.svg\" alt=\"Open In Colab\"/></a>"
      ]
    },
    {
      "cell_type": "markdown",
      "metadata": {
        "id": "a-3eVRZa63DO",
        "colab_type": "text"
      },
      "source": [
        "## **Tarea 1 de MLBI 2020-1**\n",
        "Hector Aguayo & Fabián Segura"
      ]
    },
    {
      "cell_type": "markdown",
      "metadata": {
        "id": "4_0Ji31b_K6X",
        "colab_type": "text"
      },
      "source": [
        "# Importación de modulos requeridos"
      ]
    },
    {
      "cell_type": "markdown",
      "metadata": {
        "id": "HuN3ttF27UYN",
        "colab_type": "text"
      },
      "source": [
        "Se importan numpy, pandas, tensorflow, etc"
      ]
    },
    {
      "cell_type": "code",
      "metadata": {
        "id": "WPf3_xNi7N0V",
        "colab_type": "code",
        "outputId": "7ad4b653-5105-48cf-838f-f10bb9cd2f27",
        "colab": {
          "base_uri": "https://localhost:8080/",
          "height": 34
        }
      },
      "source": [
        "from __future__ import absolute_import, division, print_function, unicode_literals\n",
        "import os\n",
        "import pathlib\n",
        "import matplotlib.pyplot as plt\n",
        "import pandas as pd\n",
        "import seaborn as sns\n",
        "import logging\n",
        "import numpy as np\n",
        "\n",
        "os.environ['TF_CPP_MIN_VLOG_LEVEL'] = '0'\n",
        "os.environ['TF_CPP_MIN_LOG_LEVEL'] = '3'\n",
        "logging.getLogger(\"tensorflow\").setLevel(logging.WARNING)\n",
        "\n",
        "from datetime import datetime\n",
        "import tensorflow as tf\n",
        "from tensorflow import keras\n",
        "from tensorflow.keras import layers\n",
        "tf.get_logger().setLevel(\"ERROR\")\n",
        "tf.autograph.set_verbosity(2)\n",
        "\n",
        "print(\"TensorFlow version: \", tf.__version__)"
      ],
      "execution_count": 44,
      "outputs": [
        {
          "output_type": "stream",
          "text": [
            "TensorFlow version:  2.2.0-rc3\n"
          ],
          "name": "stdout"
        }
      ]
    },
    {
      "cell_type": "markdown",
      "metadata": {
        "id": "Q8sEazMy72nr",
        "colab_type": "text"
      },
      "source": [
        "Se deben leer los datos de los dataset envíados, el primero es un archivo .xls"
      ]
    },
    {
      "cell_type": "markdown",
      "metadata": {
        "id": "iY0CoiVj_pYZ",
        "colab_type": "text"
      },
      "source": [
        "# Leen los datos desde excel"
      ]
    },
    {
      "cell_type": "markdown",
      "metadata": {
        "id": "0CqnC-k8MfbX",
        "colab_type": "text"
      },
      "source": [
        "Se abre archivo desde Github y se importan usando pandas"
      ]
    },
    {
      "cell_type": "code",
      "metadata": {
        "id": "wNBdeRHe79nT",
        "colab_type": "code",
        "colab": {}
      },
      "source": [
        "url = 'https://github.com/FxknTT/TareaMLBI1/blob/master/dataset1.xlsx?raw=true'\n",
        "dataset = pd.read_excel(url)"
      ],
      "execution_count": 0,
      "outputs": []
    },
    {
      "cell_type": "markdown",
      "metadata": {
        "id": "O0Dr8WQdAIZX",
        "colab_type": "text"
      },
      "source": [
        "Se verifica que ningun dato falte"
      ]
    },
    {
      "cell_type": "code",
      "metadata": {
        "id": "ZN4VGwBTAOxV",
        "colab_type": "code",
        "outputId": "231b44c1-b9d0-42da-9d96-2d30cded1751",
        "colab": {
          "base_uri": "https://localhost:8080/",
          "height": 306
        }
      },
      "source": [
        "dataset.isna().sum()"
      ],
      "execution_count": 79,
      "outputs": [
        {
          "output_type": "execute_result",
          "data": {
            "text/plain": [
              "crr_Nom                     0\n",
              "psu_Nem                     0\n",
              "psu_Leng                    0\n",
              "psu_Mate                    0\n",
              "psu_Cie                     0\n",
              "psu_Pond                    0\n",
              "Longitud                    0\n",
              "Latitud                     0\n",
              "cred_apr                    0\n",
              "distancia                   0\n",
              "F                           0\n",
              "M                           0\n",
              "PARTICULAR_SUBVENCIONADO    0\n",
              "PARTICULAR_PAGADO           0\n",
              "MUNICIPAL                   0\n",
              "cluster                     0\n",
              "dtype: int64"
            ]
          },
          "metadata": {
            "tags": []
          },
          "execution_count": 79
        }
      ]
    },
    {
      "cell_type": "markdown",
      "metadata": {
        "id": "CPeoXg6eDJAF",
        "colab_type": "text"
      },
      "source": [
        "Se debe alertar que \"crr_Nom\" es categorica, no numerica. Se convierte a un \"one hot\""
      ]
    },
    {
      "cell_type": "markdown",
      "metadata": {
        "id": "NRm0Dj5GLEPc",
        "colab_type": "text"
      },
      "source": [
        "Cambiando las carrearas a filas one hot (variables dummy)"
      ]
    },
    {
      "cell_type": "code",
      "metadata": {
        "id": "AD-yALlK7DNP",
        "colab_type": "code",
        "colab": {}
      },
      "source": [
        "carreras = pd.get_dummies(dataset['crr_Nom'],prefix=\"Carrera\")"
      ],
      "execution_count": 0,
      "outputs": []
    },
    {
      "cell_type": "markdown",
      "metadata": {
        "id": "wPt3PkPq5vYM",
        "colab_type": "text"
      },
      "source": [
        "Ahora obtenemos una nueva tabla llamada carrera en donde nos indica con valores 0 o 1 si pertenece o no a alguna Ingeniería."
      ]
    },
    {
      "cell_type": "code",
      "metadata": {
        "id": "7nZAOEq1Nu5t",
        "colab_type": "code",
        "outputId": "9db8ba0b-7c95-4c5c-f167-8f89145012e7",
        "colab": {
          "base_uri": "https://localhost:8080/",
          "height": 258
        }
      },
      "source": [
        "carreras.head() "
      ],
      "execution_count": 81,
      "outputs": [
        {
          "output_type": "execute_result",
          "data": {
            "text/html": [
              "<div>\n",
              "<style scoped>\n",
              "    .dataframe tbody tr th:only-of-type {\n",
              "        vertical-align: middle;\n",
              "    }\n",
              "\n",
              "    .dataframe tbody tr th {\n",
              "        vertical-align: top;\n",
              "    }\n",
              "\n",
              "    .dataframe thead th {\n",
              "        text-align: right;\n",
              "    }\n",
              "</style>\n",
              "<table border=\"1\" class=\"dataframe\">\n",
              "  <thead>\n",
              "    <tr style=\"text-align: right;\">\n",
              "      <th></th>\n",
              "      <th>Carrera_INGENIERIA CIVIL</th>\n",
              "      <th>Carrera_INGENIERIA CIVIL - PLAN COMUN</th>\n",
              "      <th>Carrera_INGENIERIA CIVIL AEROESPACIAL</th>\n",
              "      <th>Carrera_INGENIERIA CIVIL BIOMEDICA</th>\n",
              "      <th>Carrera_INGENIERIA CIVIL DE MATERIALES</th>\n",
              "      <th>Carrera_INGENIERIA CIVIL ELECTRICA</th>\n",
              "      <th>Carrera_INGENIERIA CIVIL ELECTRONICA</th>\n",
              "      <th>Carrera_INGENIERIA CIVIL EN TELECOMUNICACIONES</th>\n",
              "      <th>Carrera_INGENIERIA CIVIL INDUSTRIAL</th>\n",
              "      <th>Carrera_INGENIERIA CIVIL INFORMATICA</th>\n",
              "      <th>Carrera_INGENIERIA CIVIL MECANICA</th>\n",
              "      <th>Carrera_INGENIERIA CIVIL METALURGICA</th>\n",
              "      <th>Carrera_INGENIERIA CIVIL QUIMICA</th>\n",
              "      <th>Carrera_INGENIERÍA CIVIL DE MINAS</th>\n",
              "    </tr>\n",
              "  </thead>\n",
              "  <tbody>\n",
              "    <tr>\n",
              "      <th>0</th>\n",
              "      <td>0</td>\n",
              "      <td>0</td>\n",
              "      <td>0</td>\n",
              "      <td>0</td>\n",
              "      <td>0</td>\n",
              "      <td>0</td>\n",
              "      <td>0</td>\n",
              "      <td>0</td>\n",
              "      <td>1</td>\n",
              "      <td>0</td>\n",
              "      <td>0</td>\n",
              "      <td>0</td>\n",
              "      <td>0</td>\n",
              "      <td>0</td>\n",
              "    </tr>\n",
              "    <tr>\n",
              "      <th>1</th>\n",
              "      <td>0</td>\n",
              "      <td>0</td>\n",
              "      <td>0</td>\n",
              "      <td>1</td>\n",
              "      <td>0</td>\n",
              "      <td>0</td>\n",
              "      <td>0</td>\n",
              "      <td>0</td>\n",
              "      <td>0</td>\n",
              "      <td>0</td>\n",
              "      <td>0</td>\n",
              "      <td>0</td>\n",
              "      <td>0</td>\n",
              "      <td>0</td>\n",
              "    </tr>\n",
              "    <tr>\n",
              "      <th>2</th>\n",
              "      <td>0</td>\n",
              "      <td>0</td>\n",
              "      <td>0</td>\n",
              "      <td>0</td>\n",
              "      <td>0</td>\n",
              "      <td>0</td>\n",
              "      <td>0</td>\n",
              "      <td>0</td>\n",
              "      <td>0</td>\n",
              "      <td>0</td>\n",
              "      <td>0</td>\n",
              "      <td>0</td>\n",
              "      <td>1</td>\n",
              "      <td>0</td>\n",
              "    </tr>\n",
              "    <tr>\n",
              "      <th>3</th>\n",
              "      <td>0</td>\n",
              "      <td>0</td>\n",
              "      <td>0</td>\n",
              "      <td>0</td>\n",
              "      <td>0</td>\n",
              "      <td>1</td>\n",
              "      <td>0</td>\n",
              "      <td>0</td>\n",
              "      <td>0</td>\n",
              "      <td>0</td>\n",
              "      <td>0</td>\n",
              "      <td>0</td>\n",
              "      <td>0</td>\n",
              "      <td>0</td>\n",
              "    </tr>\n",
              "    <tr>\n",
              "      <th>4</th>\n",
              "      <td>0</td>\n",
              "      <td>0</td>\n",
              "      <td>0</td>\n",
              "      <td>0</td>\n",
              "      <td>0</td>\n",
              "      <td>0</td>\n",
              "      <td>0</td>\n",
              "      <td>0</td>\n",
              "      <td>0</td>\n",
              "      <td>1</td>\n",
              "      <td>0</td>\n",
              "      <td>0</td>\n",
              "      <td>0</td>\n",
              "      <td>0</td>\n",
              "    </tr>\n",
              "  </tbody>\n",
              "</table>\n",
              "</div>"
            ],
            "text/plain": [
              "   Carrera_INGENIERIA CIVIL  ...  Carrera_INGENIERÍA CIVIL DE MINAS\n",
              "0                         0  ...                                  0\n",
              "1                         0  ...                                  0\n",
              "2                         0  ...                                  0\n",
              "3                         0  ...                                  0\n",
              "4                         0  ...                                  0\n",
              "\n",
              "[5 rows x 14 columns]"
            ]
          },
          "metadata": {
            "tags": []
          },
          "execution_count": 81
        }
      ]
    },
    {
      "cell_type": "markdown",
      "metadata": {
        "id": "MO5SJIeY6Dgr",
        "colab_type": "text"
      },
      "source": [
        "Ahora juntamos nuestra dataset original con la nueva tabla obtenida."
      ]
    },
    {
      "cell_type": "code",
      "metadata": {
        "id": "hWpnsttsV6wZ",
        "colab_type": "code",
        "colab": {}
      },
      "source": [
        "dataset = pd.concat([dataset, carreras], axis=1)\n"
      ],
      "execution_count": 0,
      "outputs": []
    },
    {
      "cell_type": "code",
      "metadata": {
        "id": "cRM-HuND6LKp",
        "colab_type": "code",
        "colab": {
          "base_uri": "https://localhost:8080/",
          "height": 428
        },
        "outputId": "03425774-be6b-4231-fd97-c1ec05bd799e"
      },
      "source": [
        "dataset.head()"
      ],
      "execution_count": 83,
      "outputs": [
        {
          "output_type": "execute_result",
          "data": {
            "text/html": [
              "<div>\n",
              "<style scoped>\n",
              "    .dataframe tbody tr th:only-of-type {\n",
              "        vertical-align: middle;\n",
              "    }\n",
              "\n",
              "    .dataframe tbody tr th {\n",
              "        vertical-align: top;\n",
              "    }\n",
              "\n",
              "    .dataframe thead th {\n",
              "        text-align: right;\n",
              "    }\n",
              "</style>\n",
              "<table border=\"1\" class=\"dataframe\">\n",
              "  <thead>\n",
              "    <tr style=\"text-align: right;\">\n",
              "      <th></th>\n",
              "      <th>crr_Nom</th>\n",
              "      <th>psu_Nem</th>\n",
              "      <th>psu_Leng</th>\n",
              "      <th>psu_Mate</th>\n",
              "      <th>psu_Cie</th>\n",
              "      <th>psu_Pond</th>\n",
              "      <th>Longitud</th>\n",
              "      <th>Latitud</th>\n",
              "      <th>cred_apr</th>\n",
              "      <th>distancia</th>\n",
              "      <th>F</th>\n",
              "      <th>M</th>\n",
              "      <th>PARTICULAR_SUBVENCIONADO</th>\n",
              "      <th>PARTICULAR_PAGADO</th>\n",
              "      <th>MUNICIPAL</th>\n",
              "      <th>cluster</th>\n",
              "      <th>Carrera_INGENIERIA CIVIL</th>\n",
              "      <th>Carrera_INGENIERIA CIVIL - PLAN COMUN</th>\n",
              "      <th>Carrera_INGENIERIA CIVIL AEROESPACIAL</th>\n",
              "      <th>Carrera_INGENIERIA CIVIL BIOMEDICA</th>\n",
              "      <th>Carrera_INGENIERIA CIVIL DE MATERIALES</th>\n",
              "      <th>Carrera_INGENIERIA CIVIL ELECTRICA</th>\n",
              "      <th>Carrera_INGENIERIA CIVIL ELECTRONICA</th>\n",
              "      <th>Carrera_INGENIERIA CIVIL EN TELECOMUNICACIONES</th>\n",
              "      <th>Carrera_INGENIERIA CIVIL INDUSTRIAL</th>\n",
              "      <th>Carrera_INGENIERIA CIVIL INFORMATICA</th>\n",
              "      <th>Carrera_INGENIERIA CIVIL MECANICA</th>\n",
              "      <th>Carrera_INGENIERIA CIVIL METALURGICA</th>\n",
              "      <th>Carrera_INGENIERIA CIVIL QUIMICA</th>\n",
              "      <th>Carrera_INGENIERÍA CIVIL DE MINAS</th>\n",
              "    </tr>\n",
              "  </thead>\n",
              "  <tbody>\n",
              "    <tr>\n",
              "      <th>0</th>\n",
              "      <td>INGENIERIA CIVIL INDUSTRIAL</td>\n",
              "      <td>783</td>\n",
              "      <td>653</td>\n",
              "      <td>685</td>\n",
              "      <td>672</td>\n",
              "      <td>735</td>\n",
              "      <td>-73.16487</td>\n",
              "      <td>-36.978759</td>\n",
              "      <td>38</td>\n",
              "      <td>20.201244</td>\n",
              "      <td>1</td>\n",
              "      <td>0</td>\n",
              "      <td>1</td>\n",
              "      <td>0</td>\n",
              "      <td>0</td>\n",
              "      <td>C2</td>\n",
              "      <td>0</td>\n",
              "      <td>0</td>\n",
              "      <td>0</td>\n",
              "      <td>0</td>\n",
              "      <td>0</td>\n",
              "      <td>0</td>\n",
              "      <td>0</td>\n",
              "      <td>0</td>\n",
              "      <td>1</td>\n",
              "      <td>0</td>\n",
              "      <td>0</td>\n",
              "      <td>0</td>\n",
              "      <td>0</td>\n",
              "      <td>0</td>\n",
              "    </tr>\n",
              "    <tr>\n",
              "      <th>1</th>\n",
              "      <td>INGENIERIA CIVIL BIOMEDICA</td>\n",
              "      <td>799</td>\n",
              "      <td>705</td>\n",
              "      <td>713</td>\n",
              "      <td>686</td>\n",
              "      <td>756</td>\n",
              "      <td>-73.16487</td>\n",
              "      <td>-36.978759</td>\n",
              "      <td>36</td>\n",
              "      <td>20.201244</td>\n",
              "      <td>1</td>\n",
              "      <td>0</td>\n",
              "      <td>1</td>\n",
              "      <td>0</td>\n",
              "      <td>0</td>\n",
              "      <td>C1</td>\n",
              "      <td>0</td>\n",
              "      <td>0</td>\n",
              "      <td>0</td>\n",
              "      <td>1</td>\n",
              "      <td>0</td>\n",
              "      <td>0</td>\n",
              "      <td>0</td>\n",
              "      <td>0</td>\n",
              "      <td>0</td>\n",
              "      <td>0</td>\n",
              "      <td>0</td>\n",
              "      <td>0</td>\n",
              "      <td>0</td>\n",
              "      <td>0</td>\n",
              "    </tr>\n",
              "    <tr>\n",
              "      <th>2</th>\n",
              "      <td>INGENIERIA CIVIL QUIMICA</td>\n",
              "      <td>688</td>\n",
              "      <td>543</td>\n",
              "      <td>612</td>\n",
              "      <td>534</td>\n",
              "      <td>638</td>\n",
              "      <td>-73.16487</td>\n",
              "      <td>-36.978759</td>\n",
              "      <td>36</td>\n",
              "      <td>20.201244</td>\n",
              "      <td>1</td>\n",
              "      <td>0</td>\n",
              "      <td>1</td>\n",
              "      <td>0</td>\n",
              "      <td>0</td>\n",
              "      <td>C3</td>\n",
              "      <td>0</td>\n",
              "      <td>0</td>\n",
              "      <td>0</td>\n",
              "      <td>0</td>\n",
              "      <td>0</td>\n",
              "      <td>0</td>\n",
              "      <td>0</td>\n",
              "      <td>0</td>\n",
              "      <td>0</td>\n",
              "      <td>0</td>\n",
              "      <td>0</td>\n",
              "      <td>0</td>\n",
              "      <td>1</td>\n",
              "      <td>0</td>\n",
              "    </tr>\n",
              "    <tr>\n",
              "      <th>3</th>\n",
              "      <td>INGENIERIA CIVIL ELECTRICA</td>\n",
              "      <td>605</td>\n",
              "      <td>598</td>\n",
              "      <td>658</td>\n",
              "      <td>601</td>\n",
              "      <td>633</td>\n",
              "      <td>-73.16487</td>\n",
              "      <td>-36.978759</td>\n",
              "      <td>21</td>\n",
              "      <td>20.201244</td>\n",
              "      <td>0</td>\n",
              "      <td>1</td>\n",
              "      <td>1</td>\n",
              "      <td>0</td>\n",
              "      <td>0</td>\n",
              "      <td>C2</td>\n",
              "      <td>0</td>\n",
              "      <td>0</td>\n",
              "      <td>0</td>\n",
              "      <td>0</td>\n",
              "      <td>0</td>\n",
              "      <td>1</td>\n",
              "      <td>0</td>\n",
              "      <td>0</td>\n",
              "      <td>0</td>\n",
              "      <td>0</td>\n",
              "      <td>0</td>\n",
              "      <td>0</td>\n",
              "      <td>0</td>\n",
              "      <td>0</td>\n",
              "    </tr>\n",
              "    <tr>\n",
              "      <th>4</th>\n",
              "      <td>INGENIERIA CIVIL INFORMATICA</td>\n",
              "      <td>603</td>\n",
              "      <td>710</td>\n",
              "      <td>668</td>\n",
              "      <td>651</td>\n",
              "      <td>657</td>\n",
              "      <td>-73.16487</td>\n",
              "      <td>-36.978759</td>\n",
              "      <td>19</td>\n",
              "      <td>20.201244</td>\n",
              "      <td>0</td>\n",
              "      <td>1</td>\n",
              "      <td>1</td>\n",
              "      <td>0</td>\n",
              "      <td>0</td>\n",
              "      <td>C2</td>\n",
              "      <td>0</td>\n",
              "      <td>0</td>\n",
              "      <td>0</td>\n",
              "      <td>0</td>\n",
              "      <td>0</td>\n",
              "      <td>0</td>\n",
              "      <td>0</td>\n",
              "      <td>0</td>\n",
              "      <td>0</td>\n",
              "      <td>1</td>\n",
              "      <td>0</td>\n",
              "      <td>0</td>\n",
              "      <td>0</td>\n",
              "      <td>0</td>\n",
              "    </tr>\n",
              "  </tbody>\n",
              "</table>\n",
              "</div>"
            ],
            "text/plain": [
              "                        crr_Nom  ...  Carrera_INGENIERÍA CIVIL DE MINAS\n",
              "0   INGENIERIA CIVIL INDUSTRIAL  ...                                  0\n",
              "1    INGENIERIA CIVIL BIOMEDICA  ...                                  0\n",
              "2      INGENIERIA CIVIL QUIMICA  ...                                  0\n",
              "3    INGENIERIA CIVIL ELECTRICA  ...                                  0\n",
              "4  INGENIERIA CIVIL INFORMATICA  ...                                  0\n",
              "\n",
              "[5 rows x 30 columns]"
            ]
          },
          "metadata": {
            "tags": []
          },
          "execution_count": 83
        }
      ]
    },
    {
      "cell_type": "markdown",
      "metadata": {
        "id": "VkueVNSr6ab0",
        "colab_type": "text"
      },
      "source": [
        "Como podemos observar aún tenemos la columna Crr_name. Como no la necesitamos más la eliminamos de nuestro dataset con el comando dataset.drop"
      ]
    },
    {
      "cell_type": "code",
      "metadata": {
        "id": "J5OcmQrg5bjV",
        "colab_type": "code",
        "colab": {}
      },
      "source": [
        "dataset = dataset.drop([\"crr_Nom\"],axis=1)"
      ],
      "execution_count": 0,
      "outputs": []
    },
    {
      "cell_type": "code",
      "metadata": {
        "id": "jXmGEEwS5G71",
        "colab_type": "code",
        "colab": {
          "base_uri": "https://localhost:8080/",
          "height": 258
        },
        "outputId": "af0897e6-cdc7-4ffe-90a3-50c9be678c3c"
      },
      "source": [
        "dataset.head()"
      ],
      "execution_count": 85,
      "outputs": [
        {
          "output_type": "execute_result",
          "data": {
            "text/html": [
              "<div>\n",
              "<style scoped>\n",
              "    .dataframe tbody tr th:only-of-type {\n",
              "        vertical-align: middle;\n",
              "    }\n",
              "\n",
              "    .dataframe tbody tr th {\n",
              "        vertical-align: top;\n",
              "    }\n",
              "\n",
              "    .dataframe thead th {\n",
              "        text-align: right;\n",
              "    }\n",
              "</style>\n",
              "<table border=\"1\" class=\"dataframe\">\n",
              "  <thead>\n",
              "    <tr style=\"text-align: right;\">\n",
              "      <th></th>\n",
              "      <th>psu_Nem</th>\n",
              "      <th>psu_Leng</th>\n",
              "      <th>psu_Mate</th>\n",
              "      <th>psu_Cie</th>\n",
              "      <th>psu_Pond</th>\n",
              "      <th>Longitud</th>\n",
              "      <th>Latitud</th>\n",
              "      <th>cred_apr</th>\n",
              "      <th>distancia</th>\n",
              "      <th>F</th>\n",
              "      <th>M</th>\n",
              "      <th>PARTICULAR_SUBVENCIONADO</th>\n",
              "      <th>PARTICULAR_PAGADO</th>\n",
              "      <th>MUNICIPAL</th>\n",
              "      <th>cluster</th>\n",
              "      <th>Carrera_INGENIERIA CIVIL</th>\n",
              "      <th>Carrera_INGENIERIA CIVIL - PLAN COMUN</th>\n",
              "      <th>Carrera_INGENIERIA CIVIL AEROESPACIAL</th>\n",
              "      <th>Carrera_INGENIERIA CIVIL BIOMEDICA</th>\n",
              "      <th>Carrera_INGENIERIA CIVIL DE MATERIALES</th>\n",
              "      <th>Carrera_INGENIERIA CIVIL ELECTRICA</th>\n",
              "      <th>Carrera_INGENIERIA CIVIL ELECTRONICA</th>\n",
              "      <th>Carrera_INGENIERIA CIVIL EN TELECOMUNICACIONES</th>\n",
              "      <th>Carrera_INGENIERIA CIVIL INDUSTRIAL</th>\n",
              "      <th>Carrera_INGENIERIA CIVIL INFORMATICA</th>\n",
              "      <th>Carrera_INGENIERIA CIVIL MECANICA</th>\n",
              "      <th>Carrera_INGENIERIA CIVIL METALURGICA</th>\n",
              "      <th>Carrera_INGENIERIA CIVIL QUIMICA</th>\n",
              "      <th>Carrera_INGENIERÍA CIVIL DE MINAS</th>\n",
              "    </tr>\n",
              "  </thead>\n",
              "  <tbody>\n",
              "    <tr>\n",
              "      <th>0</th>\n",
              "      <td>783</td>\n",
              "      <td>653</td>\n",
              "      <td>685</td>\n",
              "      <td>672</td>\n",
              "      <td>735</td>\n",
              "      <td>-73.16487</td>\n",
              "      <td>-36.978759</td>\n",
              "      <td>38</td>\n",
              "      <td>20.201244</td>\n",
              "      <td>1</td>\n",
              "      <td>0</td>\n",
              "      <td>1</td>\n",
              "      <td>0</td>\n",
              "      <td>0</td>\n",
              "      <td>C2</td>\n",
              "      <td>0</td>\n",
              "      <td>0</td>\n",
              "      <td>0</td>\n",
              "      <td>0</td>\n",
              "      <td>0</td>\n",
              "      <td>0</td>\n",
              "      <td>0</td>\n",
              "      <td>0</td>\n",
              "      <td>1</td>\n",
              "      <td>0</td>\n",
              "      <td>0</td>\n",
              "      <td>0</td>\n",
              "      <td>0</td>\n",
              "      <td>0</td>\n",
              "    </tr>\n",
              "    <tr>\n",
              "      <th>1</th>\n",
              "      <td>799</td>\n",
              "      <td>705</td>\n",
              "      <td>713</td>\n",
              "      <td>686</td>\n",
              "      <td>756</td>\n",
              "      <td>-73.16487</td>\n",
              "      <td>-36.978759</td>\n",
              "      <td>36</td>\n",
              "      <td>20.201244</td>\n",
              "      <td>1</td>\n",
              "      <td>0</td>\n",
              "      <td>1</td>\n",
              "      <td>0</td>\n",
              "      <td>0</td>\n",
              "      <td>C1</td>\n",
              "      <td>0</td>\n",
              "      <td>0</td>\n",
              "      <td>0</td>\n",
              "      <td>1</td>\n",
              "      <td>0</td>\n",
              "      <td>0</td>\n",
              "      <td>0</td>\n",
              "      <td>0</td>\n",
              "      <td>0</td>\n",
              "      <td>0</td>\n",
              "      <td>0</td>\n",
              "      <td>0</td>\n",
              "      <td>0</td>\n",
              "      <td>0</td>\n",
              "    </tr>\n",
              "    <tr>\n",
              "      <th>2</th>\n",
              "      <td>688</td>\n",
              "      <td>543</td>\n",
              "      <td>612</td>\n",
              "      <td>534</td>\n",
              "      <td>638</td>\n",
              "      <td>-73.16487</td>\n",
              "      <td>-36.978759</td>\n",
              "      <td>36</td>\n",
              "      <td>20.201244</td>\n",
              "      <td>1</td>\n",
              "      <td>0</td>\n",
              "      <td>1</td>\n",
              "      <td>0</td>\n",
              "      <td>0</td>\n",
              "      <td>C3</td>\n",
              "      <td>0</td>\n",
              "      <td>0</td>\n",
              "      <td>0</td>\n",
              "      <td>0</td>\n",
              "      <td>0</td>\n",
              "      <td>0</td>\n",
              "      <td>0</td>\n",
              "      <td>0</td>\n",
              "      <td>0</td>\n",
              "      <td>0</td>\n",
              "      <td>0</td>\n",
              "      <td>0</td>\n",
              "      <td>1</td>\n",
              "      <td>0</td>\n",
              "    </tr>\n",
              "    <tr>\n",
              "      <th>3</th>\n",
              "      <td>605</td>\n",
              "      <td>598</td>\n",
              "      <td>658</td>\n",
              "      <td>601</td>\n",
              "      <td>633</td>\n",
              "      <td>-73.16487</td>\n",
              "      <td>-36.978759</td>\n",
              "      <td>21</td>\n",
              "      <td>20.201244</td>\n",
              "      <td>0</td>\n",
              "      <td>1</td>\n",
              "      <td>1</td>\n",
              "      <td>0</td>\n",
              "      <td>0</td>\n",
              "      <td>C2</td>\n",
              "      <td>0</td>\n",
              "      <td>0</td>\n",
              "      <td>0</td>\n",
              "      <td>0</td>\n",
              "      <td>0</td>\n",
              "      <td>1</td>\n",
              "      <td>0</td>\n",
              "      <td>0</td>\n",
              "      <td>0</td>\n",
              "      <td>0</td>\n",
              "      <td>0</td>\n",
              "      <td>0</td>\n",
              "      <td>0</td>\n",
              "      <td>0</td>\n",
              "    </tr>\n",
              "    <tr>\n",
              "      <th>4</th>\n",
              "      <td>603</td>\n",
              "      <td>710</td>\n",
              "      <td>668</td>\n",
              "      <td>651</td>\n",
              "      <td>657</td>\n",
              "      <td>-73.16487</td>\n",
              "      <td>-36.978759</td>\n",
              "      <td>19</td>\n",
              "      <td>20.201244</td>\n",
              "      <td>0</td>\n",
              "      <td>1</td>\n",
              "      <td>1</td>\n",
              "      <td>0</td>\n",
              "      <td>0</td>\n",
              "      <td>C2</td>\n",
              "      <td>0</td>\n",
              "      <td>0</td>\n",
              "      <td>0</td>\n",
              "      <td>0</td>\n",
              "      <td>0</td>\n",
              "      <td>0</td>\n",
              "      <td>0</td>\n",
              "      <td>0</td>\n",
              "      <td>0</td>\n",
              "      <td>1</td>\n",
              "      <td>0</td>\n",
              "      <td>0</td>\n",
              "      <td>0</td>\n",
              "      <td>0</td>\n",
              "    </tr>\n",
              "  </tbody>\n",
              "</table>\n",
              "</div>"
            ],
            "text/plain": [
              "   psu_Nem  ...  Carrera_INGENIERÍA CIVIL DE MINAS\n",
              "0      783  ...                                  0\n",
              "1      799  ...                                  0\n",
              "2      688  ...                                  0\n",
              "3      605  ...                                  0\n",
              "4      603  ...                                  0\n",
              "\n",
              "[5 rows x 29 columns]"
            ]
          },
          "metadata": {
            "tags": []
          },
          "execution_count": 85
        }
      ]
    },
    {
      "cell_type": "code",
      "metadata": {
        "id": "vfOHCHDnYJ1b",
        "colab_type": "code",
        "outputId": "e5ba74f9-10be-4f4d-fa31-5ece751ed050",
        "colab": {
          "base_uri": "https://localhost:8080/",
          "height": 527
        }
      },
      "source": [
        "dataset.isna().sum() #Revisamos que todas las variables tengan datos."
      ],
      "execution_count": 86,
      "outputs": [
        {
          "output_type": "execute_result",
          "data": {
            "text/plain": [
              "psu_Nem                                           0\n",
              "psu_Leng                                          0\n",
              "psu_Mate                                          0\n",
              "psu_Cie                                           0\n",
              "psu_Pond                                          0\n",
              "Longitud                                          0\n",
              "Latitud                                           0\n",
              "cred_apr                                          0\n",
              "distancia                                         0\n",
              "F                                                 0\n",
              "M                                                 0\n",
              "PARTICULAR_SUBVENCIONADO                          0\n",
              "PARTICULAR_PAGADO                                 0\n",
              "MUNICIPAL                                         0\n",
              "cluster                                           0\n",
              "Carrera_INGENIERIA CIVIL                          0\n",
              "Carrera_INGENIERIA CIVIL - PLAN COMUN             0\n",
              "Carrera_INGENIERIA CIVIL AEROESPACIAL             0\n",
              "Carrera_INGENIERIA CIVIL BIOMEDICA                0\n",
              "Carrera_INGENIERIA CIVIL DE MATERIALES            0\n",
              "Carrera_INGENIERIA CIVIL ELECTRICA                0\n",
              "Carrera_INGENIERIA CIVIL ELECTRONICA              0\n",
              "Carrera_INGENIERIA CIVIL EN TELECOMUNICACIONES    0\n",
              "Carrera_INGENIERIA CIVIL INDUSTRIAL               0\n",
              "Carrera_INGENIERIA CIVIL INFORMATICA              0\n",
              "Carrera_INGENIERIA CIVIL MECANICA                 0\n",
              "Carrera_INGENIERIA CIVIL METALURGICA              0\n",
              "Carrera_INGENIERIA CIVIL QUIMICA                  0\n",
              "Carrera_INGENIERÍA CIVIL DE MINAS                 0\n",
              "dtype: int64"
            ]
          },
          "metadata": {
            "tags": []
          },
          "execution_count": 86
        }
      ]
    },
    {
      "cell_type": "markdown",
      "metadata": {
        "id": "Qf0EDQ0GoV_a",
        "colab_type": "text"
      },
      "source": [
        "**Ahora procedemos a realizar los mismos pasos anteriores con la variables CLUSTER.**"
      ]
    },
    {
      "cell_type": "code",
      "metadata": {
        "id": "VKu3n2DgpfGg",
        "colab_type": "code",
        "colab": {}
      },
      "source": [
        "cluster = pd.get_dummies(dataset['cluster'],prefix=\"Cluster\")"
      ],
      "execution_count": 0,
      "outputs": []
    },
    {
      "cell_type": "code",
      "metadata": {
        "id": "zIEtaxMlqPvX",
        "colab_type": "code",
        "outputId": "9513c127-486e-48c7-929f-eb563edbed20",
        "colab": {
          "base_uri": "https://localhost:8080/",
          "height": 255
        }
      },
      "source": [
        "print(cluster)"
      ],
      "execution_count": 88,
      "outputs": [
        {
          "output_type": "stream",
          "text": [
            "      Cluster_C1  Cluster_C2  Cluster_C3  Cluster_C4\n",
            "0              0           1           0           0\n",
            "1              1           0           0           0\n",
            "2              0           0           1           0\n",
            "3              0           1           0           0\n",
            "4              0           1           0           0\n",
            "...          ...         ...         ...         ...\n",
            "7861           0           1           0           0\n",
            "7862           0           1           0           0\n",
            "7863           0           0           1           0\n",
            "7864           0           1           0           0\n",
            "7865           0           0           0           1\n",
            "\n",
            "[7866 rows x 4 columns]\n"
          ],
          "name": "stdout"
        }
      ]
    },
    {
      "cell_type": "code",
      "metadata": {
        "id": "ocp3FHcmrT4x",
        "colab_type": "code",
        "colab": {}
      },
      "source": [
        "dataset = pd.concat([dataset, cluster], axis=1)\n",
        "dataset = dataset.drop([\"cluster\"],axis=1)"
      ],
      "execution_count": 0,
      "outputs": []
    },
    {
      "cell_type": "code",
      "metadata": {
        "id": "O5ltmkRnrulO",
        "colab_type": "code",
        "colab": {
          "base_uri": "https://localhost:8080/",
          "height": 258
        },
        "outputId": "b7f16e03-9b8a-4842-caf9-bf12203a1605"
      },
      "source": [
        "dataset.head()"
      ],
      "execution_count": 92,
      "outputs": [
        {
          "output_type": "execute_result",
          "data": {
            "text/html": [
              "<div>\n",
              "<style scoped>\n",
              "    .dataframe tbody tr th:only-of-type {\n",
              "        vertical-align: middle;\n",
              "    }\n",
              "\n",
              "    .dataframe tbody tr th {\n",
              "        vertical-align: top;\n",
              "    }\n",
              "\n",
              "    .dataframe thead th {\n",
              "        text-align: right;\n",
              "    }\n",
              "</style>\n",
              "<table border=\"1\" class=\"dataframe\">\n",
              "  <thead>\n",
              "    <tr style=\"text-align: right;\">\n",
              "      <th></th>\n",
              "      <th>psu_Nem</th>\n",
              "      <th>psu_Leng</th>\n",
              "      <th>psu_Mate</th>\n",
              "      <th>psu_Cie</th>\n",
              "      <th>psu_Pond</th>\n",
              "      <th>Longitud</th>\n",
              "      <th>Latitud</th>\n",
              "      <th>cred_apr</th>\n",
              "      <th>distancia</th>\n",
              "      <th>F</th>\n",
              "      <th>M</th>\n",
              "      <th>PARTICULAR_SUBVENCIONADO</th>\n",
              "      <th>PARTICULAR_PAGADO</th>\n",
              "      <th>MUNICIPAL</th>\n",
              "      <th>Carrera_INGENIERIA CIVIL</th>\n",
              "      <th>Carrera_INGENIERIA CIVIL - PLAN COMUN</th>\n",
              "      <th>Carrera_INGENIERIA CIVIL AEROESPACIAL</th>\n",
              "      <th>Carrera_INGENIERIA CIVIL BIOMEDICA</th>\n",
              "      <th>Carrera_INGENIERIA CIVIL DE MATERIALES</th>\n",
              "      <th>Carrera_INGENIERIA CIVIL ELECTRICA</th>\n",
              "      <th>Carrera_INGENIERIA CIVIL ELECTRONICA</th>\n",
              "      <th>Carrera_INGENIERIA CIVIL EN TELECOMUNICACIONES</th>\n",
              "      <th>Carrera_INGENIERIA CIVIL INDUSTRIAL</th>\n",
              "      <th>Carrera_INGENIERIA CIVIL INFORMATICA</th>\n",
              "      <th>Carrera_INGENIERIA CIVIL MECANICA</th>\n",
              "      <th>Carrera_INGENIERIA CIVIL METALURGICA</th>\n",
              "      <th>Carrera_INGENIERIA CIVIL QUIMICA</th>\n",
              "      <th>Carrera_INGENIERÍA CIVIL DE MINAS</th>\n",
              "      <th>Cluster_C1</th>\n",
              "      <th>Cluster_C2</th>\n",
              "      <th>Cluster_C3</th>\n",
              "      <th>Cluster_C4</th>\n",
              "      <th>Cluster_C1</th>\n",
              "      <th>Cluster_C2</th>\n",
              "      <th>Cluster_C3</th>\n",
              "      <th>Cluster_C4</th>\n",
              "    </tr>\n",
              "  </thead>\n",
              "  <tbody>\n",
              "    <tr>\n",
              "      <th>0</th>\n",
              "      <td>783</td>\n",
              "      <td>653</td>\n",
              "      <td>685</td>\n",
              "      <td>672</td>\n",
              "      <td>735</td>\n",
              "      <td>-73.16487</td>\n",
              "      <td>-36.978759</td>\n",
              "      <td>38</td>\n",
              "      <td>20.201244</td>\n",
              "      <td>1</td>\n",
              "      <td>0</td>\n",
              "      <td>1</td>\n",
              "      <td>0</td>\n",
              "      <td>0</td>\n",
              "      <td>0</td>\n",
              "      <td>0</td>\n",
              "      <td>0</td>\n",
              "      <td>0</td>\n",
              "      <td>0</td>\n",
              "      <td>0</td>\n",
              "      <td>0</td>\n",
              "      <td>0</td>\n",
              "      <td>1</td>\n",
              "      <td>0</td>\n",
              "      <td>0</td>\n",
              "      <td>0</td>\n",
              "      <td>0</td>\n",
              "      <td>0</td>\n",
              "      <td>0</td>\n",
              "      <td>1</td>\n",
              "      <td>0</td>\n",
              "      <td>0</td>\n",
              "      <td>0</td>\n",
              "      <td>1</td>\n",
              "      <td>0</td>\n",
              "      <td>0</td>\n",
              "    </tr>\n",
              "    <tr>\n",
              "      <th>1</th>\n",
              "      <td>799</td>\n",
              "      <td>705</td>\n",
              "      <td>713</td>\n",
              "      <td>686</td>\n",
              "      <td>756</td>\n",
              "      <td>-73.16487</td>\n",
              "      <td>-36.978759</td>\n",
              "      <td>36</td>\n",
              "      <td>20.201244</td>\n",
              "      <td>1</td>\n",
              "      <td>0</td>\n",
              "      <td>1</td>\n",
              "      <td>0</td>\n",
              "      <td>0</td>\n",
              "      <td>0</td>\n",
              "      <td>0</td>\n",
              "      <td>0</td>\n",
              "      <td>1</td>\n",
              "      <td>0</td>\n",
              "      <td>0</td>\n",
              "      <td>0</td>\n",
              "      <td>0</td>\n",
              "      <td>0</td>\n",
              "      <td>0</td>\n",
              "      <td>0</td>\n",
              "      <td>0</td>\n",
              "      <td>0</td>\n",
              "      <td>0</td>\n",
              "      <td>1</td>\n",
              "      <td>0</td>\n",
              "      <td>0</td>\n",
              "      <td>0</td>\n",
              "      <td>1</td>\n",
              "      <td>0</td>\n",
              "      <td>0</td>\n",
              "      <td>0</td>\n",
              "    </tr>\n",
              "    <tr>\n",
              "      <th>2</th>\n",
              "      <td>688</td>\n",
              "      <td>543</td>\n",
              "      <td>612</td>\n",
              "      <td>534</td>\n",
              "      <td>638</td>\n",
              "      <td>-73.16487</td>\n",
              "      <td>-36.978759</td>\n",
              "      <td>36</td>\n",
              "      <td>20.201244</td>\n",
              "      <td>1</td>\n",
              "      <td>0</td>\n",
              "      <td>1</td>\n",
              "      <td>0</td>\n",
              "      <td>0</td>\n",
              "      <td>0</td>\n",
              "      <td>0</td>\n",
              "      <td>0</td>\n",
              "      <td>0</td>\n",
              "      <td>0</td>\n",
              "      <td>0</td>\n",
              "      <td>0</td>\n",
              "      <td>0</td>\n",
              "      <td>0</td>\n",
              "      <td>0</td>\n",
              "      <td>0</td>\n",
              "      <td>0</td>\n",
              "      <td>1</td>\n",
              "      <td>0</td>\n",
              "      <td>0</td>\n",
              "      <td>0</td>\n",
              "      <td>1</td>\n",
              "      <td>0</td>\n",
              "      <td>0</td>\n",
              "      <td>0</td>\n",
              "      <td>1</td>\n",
              "      <td>0</td>\n",
              "    </tr>\n",
              "    <tr>\n",
              "      <th>3</th>\n",
              "      <td>605</td>\n",
              "      <td>598</td>\n",
              "      <td>658</td>\n",
              "      <td>601</td>\n",
              "      <td>633</td>\n",
              "      <td>-73.16487</td>\n",
              "      <td>-36.978759</td>\n",
              "      <td>21</td>\n",
              "      <td>20.201244</td>\n",
              "      <td>0</td>\n",
              "      <td>1</td>\n",
              "      <td>1</td>\n",
              "      <td>0</td>\n",
              "      <td>0</td>\n",
              "      <td>0</td>\n",
              "      <td>0</td>\n",
              "      <td>0</td>\n",
              "      <td>0</td>\n",
              "      <td>0</td>\n",
              "      <td>1</td>\n",
              "      <td>0</td>\n",
              "      <td>0</td>\n",
              "      <td>0</td>\n",
              "      <td>0</td>\n",
              "      <td>0</td>\n",
              "      <td>0</td>\n",
              "      <td>0</td>\n",
              "      <td>0</td>\n",
              "      <td>0</td>\n",
              "      <td>1</td>\n",
              "      <td>0</td>\n",
              "      <td>0</td>\n",
              "      <td>0</td>\n",
              "      <td>1</td>\n",
              "      <td>0</td>\n",
              "      <td>0</td>\n",
              "    </tr>\n",
              "    <tr>\n",
              "      <th>4</th>\n",
              "      <td>603</td>\n",
              "      <td>710</td>\n",
              "      <td>668</td>\n",
              "      <td>651</td>\n",
              "      <td>657</td>\n",
              "      <td>-73.16487</td>\n",
              "      <td>-36.978759</td>\n",
              "      <td>19</td>\n",
              "      <td>20.201244</td>\n",
              "      <td>0</td>\n",
              "      <td>1</td>\n",
              "      <td>1</td>\n",
              "      <td>0</td>\n",
              "      <td>0</td>\n",
              "      <td>0</td>\n",
              "      <td>0</td>\n",
              "      <td>0</td>\n",
              "      <td>0</td>\n",
              "      <td>0</td>\n",
              "      <td>0</td>\n",
              "      <td>0</td>\n",
              "      <td>0</td>\n",
              "      <td>0</td>\n",
              "      <td>1</td>\n",
              "      <td>0</td>\n",
              "      <td>0</td>\n",
              "      <td>0</td>\n",
              "      <td>0</td>\n",
              "      <td>0</td>\n",
              "      <td>1</td>\n",
              "      <td>0</td>\n",
              "      <td>0</td>\n",
              "      <td>0</td>\n",
              "      <td>1</td>\n",
              "      <td>0</td>\n",
              "      <td>0</td>\n",
              "    </tr>\n",
              "  </tbody>\n",
              "</table>\n",
              "</div>"
            ],
            "text/plain": [
              "   psu_Nem  psu_Leng  psu_Mate  ...  Cluster_C2  Cluster_C3  Cluster_C4\n",
              "0      783       653       685  ...           1           0           0\n",
              "1      799       705       713  ...           0           0           0\n",
              "2      688       543       612  ...           0           1           0\n",
              "3      605       598       658  ...           1           0           0\n",
              "4      603       710       668  ...           1           0           0\n",
              "\n",
              "[5 rows x 36 columns]"
            ]
          },
          "metadata": {
            "tags": []
          },
          "execution_count": 92
        }
      ]
    },
    {
      "cell_type": "markdown",
      "metadata": {
        "id": "cPOy3Dwp7jKO",
        "colab_type": "text"
      },
      "source": [
        "**Ya esta lista la limpieza de datos.**"
      ]
    },
    {
      "cell_type": "markdown",
      "metadata": {
        "id": "qvfHhXRi_xs1",
        "colab_type": "text"
      },
      "source": [
        "# Definiendo rangos de entrenamiento y testeo"
      ]
    },
    {
      "cell_type": "code",
      "metadata": {
        "id": "Q_7UInsUBAba",
        "colab_type": "code",
        "outputId": "cc088b9c-8ec0-438f-a822-fffce840b0f3",
        "colab": {
          "base_uri": "https://localhost:8080/",
          "height": 35
        }
      },
      "source": [
        "data_size = len(dataset)\n",
        "train_pct = 0.8\n",
        "\n",
        "train_size = int(data_size * train_pct)\n",
        "print(train_size)\n",
        "\n",
        "x_train, y_train = dataset[:train_size], y[:train_size]\n",
        "x_test, y_test = dataset[train_size:], y[train_size:]\n",
        "\n"
      ],
      "execution_count": 0,
      "outputs": [
        {
          "output_type": "stream",
          "text": [
            "6292\n"
          ],
          "name": "stdout"
        }
      ]
    }
  ]
}