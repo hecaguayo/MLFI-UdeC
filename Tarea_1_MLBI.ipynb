{
  "nbformat": 4,
  "nbformat_minor": 0,
  "metadata": {
    "colab": {
      "name": "Tarea 1 MLBI.ipynb",
      "provenance": [],
      "collapsed_sections": [],
      "toc_visible": true,
      "include_colab_link": true
    },
    "kernelspec": {
      "name": "python3",
      "display_name": "Python 3"
    }
  },
  "cells": [
    {
      "cell_type": "markdown",
      "metadata": {
        "id": "view-in-github",
        "colab_type": "text"
      },
      "source": [
        "<a href=\"https://colab.research.google.com/github/hecaguayo/Tarea1MLFBI/blob/master/Tarea_1_MLBI.ipynb\" target=\"_parent\"><img src=\"https://colab.research.google.com/assets/colab-badge.svg\" alt=\"Open In Colab\"/></a>"
      ]
    },
    {
      "cell_type": "markdown",
      "metadata": {
        "id": "a-3eVRZa63DO",
        "colab_type": "text"
      },
      "source": [
        "## **Tarea 1 de MLBI 2020-1**\n",
        "Hector Aguayo & Fabián Segura"
      ]
    },
    {
      "cell_type": "markdown",
      "metadata": {
        "id": "4_0Ji31b_K6X",
        "colab_type": "text"
      },
      "source": [
        "# Importación de modulos requeridos"
      ]
    },
    {
      "cell_type": "markdown",
      "metadata": {
        "id": "HuN3ttF27UYN",
        "colab_type": "text"
      },
      "source": [
        "Se importan numpy, pandas, tensorflow, etc"
      ]
    },
    {
      "cell_type": "code",
      "metadata": {
        "id": "WPf3_xNi7N0V",
        "colab_type": "code",
        "outputId": "29943bfe-36c6-41e5-c7d4-cc3a3bd7e8c9",
        "colab": {
          "base_uri": "https://localhost:8080/",
          "height": 34
        }
      },
      "source": [
        "from __future__ import absolute_import, division, print_function, unicode_literals\n",
        "import os\n",
        "import pathlib\n",
        "import matplotlib.pyplot as plt\n",
        "import pandas as pd\n",
        "import seaborn as sns\n",
        "import logging\n",
        "import numpy as np\n",
        "\n",
        "os.environ['TF_CPP_MIN_VLOG_LEVEL'] = '0'\n",
        "os.environ['TF_CPP_MIN_LOG_LEVEL'] = '3'\n",
        "logging.getLogger(\"tensorflow\").setLevel(logging.WARNING)\n",
        "\n",
        "from datetime import datetime\n",
        "import tensorflow as tf\n",
        "from tensorflow import keras\n",
        "from tensorflow.keras import layers\n",
        "tf.get_logger().setLevel(\"ERROR\")\n",
        "tf.autograph.set_verbosity(2)\n",
        "\n",
        "print(\"TensorFlow version: \", tf.__version__)"
      ],
      "execution_count": 0,
      "outputs": [
        {
          "output_type": "stream",
          "text": [
            "TensorFlow version:  2.2.0-rc3\n"
          ],
          "name": "stdout"
        }
      ]
    },
    {
      "cell_type": "markdown",
      "metadata": {
        "id": "Q8sEazMy72nr",
        "colab_type": "text"
      },
      "source": [
        "Se deben leer los datos de los dataset envíados, el primero es un archivo .xls"
      ]
    },
    {
      "cell_type": "markdown",
      "metadata": {
        "id": "iY0CoiVj_pYZ",
        "colab_type": "text"
      },
      "source": [
        "# Leen los datos desde excel"
      ]
    },
    {
      "cell_type": "markdown",
      "metadata": {
        "id": "0CqnC-k8MfbX",
        "colab_type": "text"
      },
      "source": [
        "Se abre archivo desde Github y se importan usando pandas"
      ]
    },
    {
      "cell_type": "code",
      "metadata": {
        "id": "wNBdeRHe79nT",
        "colab_type": "code",
        "colab": {}
      },
      "source": [
        "url = 'https://github.com/FxknTT/TareaMLBI1/blob/master/dataset1.xlsx?raw=true'\n",
        "dataset = pd.read_excel(url)"
      ],
      "execution_count": 0,
      "outputs": []
    },
    {
      "cell_type": "markdown",
      "metadata": {
        "id": "O0Dr8WQdAIZX",
        "colab_type": "text"
      },
      "source": [
        "Se verifica que ningun dato falte"
      ]
    },
    {
      "cell_type": "code",
      "metadata": {
        "id": "ZN4VGwBTAOxV",
        "colab_type": "code",
        "outputId": "87e325e9-90f7-43ad-cdde-e04171bb3272",
        "colab": {
          "base_uri": "https://localhost:8080/",
          "height": 319
        }
      },
      "source": [
        "dataset.isna().sum()"
      ],
      "execution_count": 0,
      "outputs": [
        {
          "output_type": "execute_result",
          "data": {
            "text/plain": [
              "crr_Nom                     0\n",
              "psu_Nem                     0\n",
              "psu_Leng                    0\n",
              "psu_Mate                    0\n",
              "psu_Cie                     0\n",
              "psu_Pond                    0\n",
              "Longitud                    0\n",
              "Latitud                     0\n",
              "cred_apr                    0\n",
              "distancia                   0\n",
              "F                           0\n",
              "M                           0\n",
              "PARTICULAR_SUBVENCIONADO    0\n",
              "PARTICULAR_PAGADO           0\n",
              "MUNICIPAL                   0\n",
              "cluster                     0\n",
              "dtype: int64"
            ]
          },
          "metadata": {
            "tags": []
          },
          "execution_count": 3
        }
      ]
    },
    {
      "cell_type": "markdown",
      "metadata": {
        "id": "CPeoXg6eDJAF",
        "colab_type": "text"
      },
      "source": [
        "Se debe alertar que \"crr_Nom\" es categorica, no numerica. Se convierte a un \"one hot\""
      ]
    },
    {
      "cell_type": "markdown",
      "metadata": {
        "id": "NRm0Dj5GLEPc",
        "colab_type": "text"
      },
      "source": [
        "Cambiando las carrearas a filas one hot"
      ]
    },
    {
      "cell_type": "code",
      "metadata": {
        "id": "AD-yALlK7DNP",
        "colab_type": "code",
        "colab": {}
      },
      "source": [
        "carreras=pd.unique(dataset['crr_Nom'])\n",
        "dcarreras = dataset.pop('crr_Nom')"
      ],
      "execution_count": 0,
      "outputs": []
    },
    {
      "cell_type": "code",
      "metadata": {
        "id": "7nZAOEq1Nu5t",
        "colab_type": "code",
        "outputId": "96b027d7-2c07-4180-b725-6a7cfd898258",
        "colab": {
          "base_uri": "https://localhost:8080/",
          "height": 355
        }
      },
      "source": [
        "print(dcarreras)\n",
        "print(carreras)"
      ],
      "execution_count": 0,
      "outputs": [
        {
          "output_type": "stream",
          "text": [
            "0         INGENIERIA CIVIL INDUSTRIAL\n",
            "1          INGENIERIA CIVIL BIOMEDICA\n",
            "2            INGENIERIA CIVIL QUIMICA\n",
            "3          INGENIERIA CIVIL ELECTRICA\n",
            "4        INGENIERIA CIVIL INFORMATICA\n",
            "                    ...              \n",
            "7861    INGENIERIA CIVIL - PLAN COMUN\n",
            "7862    INGENIERIA CIVIL - PLAN COMUN\n",
            "7863       INGENIERIA CIVIL ELECTRICA\n",
            "7864    INGENIERIA CIVIL - PLAN COMUN\n",
            "7865    INGENIERIA CIVIL - PLAN COMUN\n",
            "Name: crr_Nom, Length: 7866, dtype: object\n",
            "['INGENIERIA CIVIL INDUSTRIAL' 'INGENIERIA CIVIL BIOMEDICA'\n",
            " 'INGENIERIA CIVIL QUIMICA' 'INGENIERIA CIVIL ELECTRICA'\n",
            " 'INGENIERIA CIVIL INFORMATICA' 'INGENIERIA CIVIL - PLAN COMUN'\n",
            " 'INGENIERIA CIVIL METALURGICA' 'INGENIERIA CIVIL EN TELECOMUNICACIONES'\n",
            " 'INGENIERIA CIVIL MECANICA' 'INGENIERÍA CIVIL DE MINAS'\n",
            " 'INGENIERIA CIVIL DE MATERIALES' 'INGENIERIA CIVIL ELECTRONICA'\n",
            " 'INGENIERIA CIVIL' 'INGENIERIA CIVIL AEROESPACIAL']\n"
          ],
          "name": "stdout"
        }
      ]
    },
    {
      "cell_type": "code",
      "metadata": {
        "id": "Uw6g_xr9N2kV",
        "colab_type": "code",
        "colab": {}
      },
      "source": [
        "for i in range(0, len(carreras)):\n",
        "  for j in range(0, len(dcarreras)):\n",
        "     dataset[carreras[i]] = (dcarreras[j] == carreras[i])*1.0\n",
        "\n"
      ],
      "execution_count": 0,
      "outputs": []
    },
    {
      "cell_type": "code",
      "metadata": {
        "id": "hWpnsttsV6wZ",
        "colab_type": "code",
        "outputId": "b2f261eb-29a0-415c-d875-61550729e9ec",
        "colab": {
          "base_uri": "https://localhost:8080/",
          "height": 550
        }
      },
      "source": [
        "dataset.isna().sum()"
      ],
      "execution_count": 0,
      "outputs": [
        {
          "output_type": "execute_result",
          "data": {
            "text/plain": [
              "psu_Nem                                   0\n",
              "psu_Leng                                  0\n",
              "psu_Mate                                  0\n",
              "psu_Cie                                   0\n",
              "psu_Pond                                  0\n",
              "Longitud                                  0\n",
              "Latitud                                   0\n",
              "cred_apr                                  0\n",
              "distancia                                 0\n",
              "F                                         0\n",
              "M                                         0\n",
              "PARTICULAR_SUBVENCIONADO                  0\n",
              "PARTICULAR_PAGADO                         0\n",
              "MUNICIPAL                                 0\n",
              "cluster                                   0\n",
              "INGENIERIA CIVIL INDUSTRIAL               0\n",
              "INGENIERIA CIVIL BIOMEDICA                0\n",
              "INGENIERIA CIVIL QUIMICA                  0\n",
              "INGENIERIA CIVIL ELECTRICA                0\n",
              "INGENIERIA CIVIL INFORMATICA              0\n",
              "INGENIERIA CIVIL - PLAN COMUN             0\n",
              "INGENIERIA CIVIL METALURGICA              0\n",
              "INGENIERIA CIVIL EN TELECOMUNICACIONES    0\n",
              "INGENIERIA CIVIL MECANICA                 0\n",
              "INGENIERÍA CIVIL DE MINAS                 0\n",
              "INGENIERIA CIVIL DE MATERIALES            0\n",
              "INGENIERIA CIVIL ELECTRONICA              0\n",
              "INGENIERIA CIVIL                          0\n",
              "INGENIERIA CIVIL AEROESPACIAL             0\n",
              "dtype: int64"
            ]
          },
          "metadata": {
            "tags": []
          },
          "execution_count": 7
        }
      ]
    },
    {
      "cell_type": "markdown",
      "metadata": {
        "id": "ZR8q8jA4XfGp",
        "colab_type": "text"
      },
      "source": [
        "Debemos colocar el cluster en su última columna, por lo cual lo eliminamos y agregamos"
      ]
    },
    {
      "cell_type": "code",
      "metadata": {
        "id": "ZFd9r0yBXj2K",
        "colab_type": "code",
        "colab": {}
      },
      "source": [
        "clust=dataset.pop('cluster')\n",
        "dataset['cluster']=clust"
      ],
      "execution_count": 0,
      "outputs": []
    },
    {
      "cell_type": "code",
      "metadata": {
        "id": "vfOHCHDnYJ1b",
        "colab_type": "code",
        "outputId": "97f4a1ec-4702-44eb-de1f-bde207e757aa",
        "colab": {
          "base_uri": "https://localhost:8080/",
          "height": 550
        }
      },
      "source": [
        "dataset.isna().sum()"
      ],
      "execution_count": 0,
      "outputs": [
        {
          "output_type": "execute_result",
          "data": {
            "text/plain": [
              "psu_Nem                                   0\n",
              "psu_Leng                                  0\n",
              "psu_Mate                                  0\n",
              "psu_Cie                                   0\n",
              "psu_Pond                                  0\n",
              "Longitud                                  0\n",
              "Latitud                                   0\n",
              "cred_apr                                  0\n",
              "distancia                                 0\n",
              "F                                         0\n",
              "M                                         0\n",
              "PARTICULAR_SUBVENCIONADO                  0\n",
              "PARTICULAR_PAGADO                         0\n",
              "MUNICIPAL                                 0\n",
              "INGENIERIA CIVIL INDUSTRIAL               0\n",
              "INGENIERIA CIVIL BIOMEDICA                0\n",
              "INGENIERIA CIVIL QUIMICA                  0\n",
              "INGENIERIA CIVIL ELECTRICA                0\n",
              "INGENIERIA CIVIL INFORMATICA              0\n",
              "INGENIERIA CIVIL - PLAN COMUN             0\n",
              "INGENIERIA CIVIL METALURGICA              0\n",
              "INGENIERIA CIVIL EN TELECOMUNICACIONES    0\n",
              "INGENIERIA CIVIL MECANICA                 0\n",
              "INGENIERÍA CIVIL DE MINAS                 0\n",
              "INGENIERIA CIVIL DE MATERIALES            0\n",
              "INGENIERIA CIVIL ELECTRONICA              0\n",
              "INGENIERIA CIVIL                          0\n",
              "INGENIERIA CIVIL AEROESPACIAL             0\n",
              "cluster                                   0\n",
              "dtype: int64"
            ]
          },
          "metadata": {
            "tags": []
          },
          "execution_count": 9
        }
      ]
    },
    {
      "cell_type": "markdown",
      "metadata": {
        "id": "qvfHhXRi_xs1",
        "colab_type": "text"
      },
      "source": [
        "# Definiendo rangos de entrenamiento y testeo"
      ]
    },
    {
      "cell_type": "code",
      "metadata": {
        "id": "Q_7UInsUBAba",
        "colab_type": "code",
        "outputId": "70400981-63ad-438d-812b-ceef0159dac2",
        "colab": {
          "base_uri": "https://localhost:8080/",
          "height": 239
        }
      },
      "source": [
        "data_size = len(dataset)\n",
        "train_pct = 0.8\n",
        "\n",
        "train_size = int(data_size * train_pct)\n",
        "print(train_size)\n",
        "\n",
        "x_train = data[:train_size]\n",
        "\n"
      ],
      "execution_count": 0,
      "outputs": [
        {
          "output_type": "stream",
          "text": [
            "6292\n"
          ],
          "name": "stdout"
        },
        {
          "output_type": "error",
          "ename": "NameError",
          "evalue": "ignored",
          "traceback": [
            "\u001b[0;31m---------------------------------------------------------------------------\u001b[0m",
            "\u001b[0;31mNameError\u001b[0m                                 Traceback (most recent call last)",
            "\u001b[0;32m<ipython-input-11-1f0c5b1d6c76>\u001b[0m in \u001b[0;36m<module>\u001b[0;34m()\u001b[0m\n\u001b[1;32m      5\u001b[0m \u001b[0mprint\u001b[0m\u001b[0;34m(\u001b[0m\u001b[0mtrain_size\u001b[0m\u001b[0;34m)\u001b[0m\u001b[0;34m\u001b[0m\u001b[0;34m\u001b[0m\u001b[0m\n\u001b[1;32m      6\u001b[0m \u001b[0;34m\u001b[0m\u001b[0m\n\u001b[0;32m----> 7\u001b[0;31m \u001b[0mx_train\u001b[0m \u001b[0;34m=\u001b[0m \u001b[0mdata\u001b[0m\u001b[0;34m[\u001b[0m\u001b[0;34m:\u001b[0m\u001b[0mtrain_size\u001b[0m\u001b[0;34m]\u001b[0m\u001b[0;34m\u001b[0m\u001b[0;34m\u001b[0m\u001b[0m\n\u001b[0m\u001b[1;32m      8\u001b[0m \u001b[0;34m\u001b[0m\u001b[0m\n",
            "\u001b[0;31mNameError\u001b[0m: name 'data' is not defined"
          ]
        }
      ]
    }
  ]
}