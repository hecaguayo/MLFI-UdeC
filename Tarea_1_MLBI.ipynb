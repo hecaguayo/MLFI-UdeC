{
  "nbformat": 4,
  "nbformat_minor": 0,
  "metadata": {
    "colab": {
      "name": "Tarea 1 MLBI.ipynb",
      "provenance": [],
      "collapsed_sections": [],
      "toc_visible": true,
      "include_colab_link": true
    },
    "kernelspec": {
      "name": "python3",
      "display_name": "Python 3"
    }
  },
  "cells": [
    {
      "cell_type": "markdown",
      "metadata": {
        "id": "view-in-github",
        "colab_type": "text"
      },
      "source": [
        "<a href=\"https://colab.research.google.com/github/hecaguayo/Tarea1MLFBI/blob/master/Tarea_1_MLBI.ipynb\" target=\"_parent\"><img src=\"https://colab.research.google.com/assets/colab-badge.svg\" alt=\"Open In Colab\"/></a>"
      ]
    },
    {
      "cell_type": "markdown",
      "metadata": {
        "id": "a-3eVRZa63DO",
        "colab_type": "text"
      },
      "source": [
        "## **Tarea 1 de MLBI 2020-1**\n",
        "Hector Aguayo & Fabián Segura"
      ]
    },
    {
      "cell_type": "markdown",
      "metadata": {
        "id": "4_0Ji31b_K6X",
        "colab_type": "text"
      },
      "source": [
        "# IMPORTACION DE MODULOS REQUERIDOS"
      ]
    },
    {
      "cell_type": "markdown",
      "metadata": {
        "id": "HuN3ttF27UYN",
        "colab_type": "text"
      },
      "source": [
        "Se importan numpy, pandas, tensorflow, etc"
      ]
    },
    {
      "cell_type": "code",
      "metadata": {
        "id": "WPf3_xNi7N0V",
        "colab_type": "code",
        "outputId": "22e4507d-65fd-4b90-ec53-43ba4c85b605",
        "colab": {
          "base_uri": "https://localhost:8080/",
          "height": 34
        }
      },
      "source": [
        "from __future__ import absolute_import, division, print_function, unicode_literals\n",
        "import os\n",
        "import pathlib\n",
        "import matplotlib.pyplot as plt\n",
        "import pandas as pd\n",
        "import seaborn as sns\n",
        "import logging\n",
        "import numpy as np\n",
        "\n",
        "os.environ['TF_CPP_MIN_VLOG_LEVEL'] = '0'\n",
        "os.environ['TF_CPP_MIN_LOG_LEVEL'] = '3'\n",
        "logging.getLogger(\"tensorflow\").setLevel(logging.WARNING)\n",
        "\n",
        "from datetime import datetime\n",
        "import tensorflow as tf\n",
        "from tensorflow import keras\n",
        "from tensorflow.keras import layers\n",
        "tf.get_logger().setLevel(\"ERROR\")\n",
        "tf.autograph.set_verbosity(2)\n",
        "\n",
        "print(\"TensorFlow version: \", tf.__version__)"
      ],
      "execution_count": 126,
      "outputs": [
        {
          "output_type": "stream",
          "text": [
            "TensorFlow version:  2.2.0-rc3\n"
          ],
          "name": "stdout"
        }
      ]
    },
    {
      "cell_type": "markdown",
      "metadata": {
        "id": "Q8sEazMy72nr",
        "colab_type": "text"
      },
      "source": [
        "Se deben leer los datos de los dataset envíados, el primero es un archivo .xls"
      ]
    },
    {
      "cell_type": "markdown",
      "metadata": {
        "id": "iY0CoiVj_pYZ",
        "colab_type": "text"
      },
      "source": [
        "# LECTURA DE DATOS"
      ]
    },
    {
      "cell_type": "markdown",
      "metadata": {
        "id": "0CqnC-k8MfbX",
        "colab_type": "text"
      },
      "source": [
        "Se abre archivo desde Github y se importan usando pandas"
      ]
    },
    {
      "cell_type": "code",
      "metadata": {
        "id": "wNBdeRHe79nT",
        "colab_type": "code",
        "colab": {}
      },
      "source": [
        "url = 'https://github.com/FxknTT/TareaMLBI1/blob/master/dataset1.xlsx?raw=true'\n",
        "dataset = pd.read_excel(url)"
      ],
      "execution_count": 0,
      "outputs": []
    },
    {
      "cell_type": "markdown",
      "metadata": {
        "id": "O0Dr8WQdAIZX",
        "colab_type": "text"
      },
      "source": [
        "Se verifica que ningun dato falte"
      ]
    },
    {
      "cell_type": "code",
      "metadata": {
        "id": "ZN4VGwBTAOxV",
        "colab_type": "code",
        "outputId": "48c6ed74-8b13-4b47-9cc5-457487d09e0c",
        "colab": {
          "base_uri": "https://localhost:8080/",
          "height": 306
        }
      },
      "source": [
        "dataset.isna().sum()"
      ],
      "execution_count": 128,
      "outputs": [
        {
          "output_type": "execute_result",
          "data": {
            "text/plain": [
              "crr_Nom                     0\n",
              "psu_Nem                     0\n",
              "psu_Leng                    0\n",
              "psu_Mate                    0\n",
              "psu_Cie                     0\n",
              "psu_Pond                    0\n",
              "Longitud                    0\n",
              "Latitud                     0\n",
              "cred_apr                    0\n",
              "distancia                   0\n",
              "F                           0\n",
              "M                           0\n",
              "PARTICULAR_SUBVENCIONADO    0\n",
              "PARTICULAR_PAGADO           0\n",
              "MUNICIPAL                   0\n",
              "cluster                     0\n",
              "dtype: int64"
            ]
          },
          "metadata": {
            "tags": []
          },
          "execution_count": 128
        }
      ]
    },
    {
      "cell_type": "markdown",
      "metadata": {
        "id": "_s2uYZipYVcq",
        "colab_type": "text"
      },
      "source": [
        "# LIMPIEZA DE DATOS"
      ]
    },
    {
      "cell_type": "markdown",
      "metadata": {
        "id": "CPeoXg6eDJAF",
        "colab_type": "text"
      },
      "source": [
        "Se debe alertar que \"crr_Nom\" es categorica, no numerica. Se convierte a un \"one hot\""
      ]
    },
    {
      "cell_type": "markdown",
      "metadata": {
        "id": "NRm0Dj5GLEPc",
        "colab_type": "text"
      },
      "source": [
        "Cambiando las carrearas a filas one hot (variables dummy)"
      ]
    },
    {
      "cell_type": "code",
      "metadata": {
        "id": "AD-yALlK7DNP",
        "colab_type": "code",
        "colab": {}
      },
      "source": [
        "carreras = pd.get_dummies(dataset['crr_Nom'],prefix=\"Carrera\")"
      ],
      "execution_count": 0,
      "outputs": []
    },
    {
      "cell_type": "markdown",
      "metadata": {
        "id": "wPt3PkPq5vYM",
        "colab_type": "text"
      },
      "source": [
        "Ahora obtenemos una nueva tabla llamada carrera en donde nos indica con valores 0 o 1 si pertenece o no a alguna Ingeniería."
      ]
    },
    {
      "cell_type": "code",
      "metadata": {
        "id": "7nZAOEq1Nu5t",
        "colab_type": "code",
        "outputId": "82e50c5b-7774-4d76-ca21-b948cc58498e",
        "colab": {
          "base_uri": "https://localhost:8080/",
          "height": 258
        }
      },
      "source": [
        "carreras.head() "
      ],
      "execution_count": 130,
      "outputs": [
        {
          "output_type": "execute_result",
          "data": {
            "text/html": [
              "<div>\n",
              "<style scoped>\n",
              "    .dataframe tbody tr th:only-of-type {\n",
              "        vertical-align: middle;\n",
              "    }\n",
              "\n",
              "    .dataframe tbody tr th {\n",
              "        vertical-align: top;\n",
              "    }\n",
              "\n",
              "    .dataframe thead th {\n",
              "        text-align: right;\n",
              "    }\n",
              "</style>\n",
              "<table border=\"1\" class=\"dataframe\">\n",
              "  <thead>\n",
              "    <tr style=\"text-align: right;\">\n",
              "      <th></th>\n",
              "      <th>Carrera_INGENIERIA CIVIL</th>\n",
              "      <th>Carrera_INGENIERIA CIVIL - PLAN COMUN</th>\n",
              "      <th>Carrera_INGENIERIA CIVIL AEROESPACIAL</th>\n",
              "      <th>Carrera_INGENIERIA CIVIL BIOMEDICA</th>\n",
              "      <th>Carrera_INGENIERIA CIVIL DE MATERIALES</th>\n",
              "      <th>Carrera_INGENIERIA CIVIL ELECTRICA</th>\n",
              "      <th>Carrera_INGENIERIA CIVIL ELECTRONICA</th>\n",
              "      <th>Carrera_INGENIERIA CIVIL EN TELECOMUNICACIONES</th>\n",
              "      <th>Carrera_INGENIERIA CIVIL INDUSTRIAL</th>\n",
              "      <th>Carrera_INGENIERIA CIVIL INFORMATICA</th>\n",
              "      <th>Carrera_INGENIERIA CIVIL MECANICA</th>\n",
              "      <th>Carrera_INGENIERIA CIVIL METALURGICA</th>\n",
              "      <th>Carrera_INGENIERIA CIVIL QUIMICA</th>\n",
              "      <th>Carrera_INGENIERÍA CIVIL DE MINAS</th>\n",
              "    </tr>\n",
              "  </thead>\n",
              "  <tbody>\n",
              "    <tr>\n",
              "      <th>0</th>\n",
              "      <td>0</td>\n",
              "      <td>0</td>\n",
              "      <td>0</td>\n",
              "      <td>0</td>\n",
              "      <td>0</td>\n",
              "      <td>0</td>\n",
              "      <td>0</td>\n",
              "      <td>0</td>\n",
              "      <td>1</td>\n",
              "      <td>0</td>\n",
              "      <td>0</td>\n",
              "      <td>0</td>\n",
              "      <td>0</td>\n",
              "      <td>0</td>\n",
              "    </tr>\n",
              "    <tr>\n",
              "      <th>1</th>\n",
              "      <td>0</td>\n",
              "      <td>0</td>\n",
              "      <td>0</td>\n",
              "      <td>1</td>\n",
              "      <td>0</td>\n",
              "      <td>0</td>\n",
              "      <td>0</td>\n",
              "      <td>0</td>\n",
              "      <td>0</td>\n",
              "      <td>0</td>\n",
              "      <td>0</td>\n",
              "      <td>0</td>\n",
              "      <td>0</td>\n",
              "      <td>0</td>\n",
              "    </tr>\n",
              "    <tr>\n",
              "      <th>2</th>\n",
              "      <td>0</td>\n",
              "      <td>0</td>\n",
              "      <td>0</td>\n",
              "      <td>0</td>\n",
              "      <td>0</td>\n",
              "      <td>0</td>\n",
              "      <td>0</td>\n",
              "      <td>0</td>\n",
              "      <td>0</td>\n",
              "      <td>0</td>\n",
              "      <td>0</td>\n",
              "      <td>0</td>\n",
              "      <td>1</td>\n",
              "      <td>0</td>\n",
              "    </tr>\n",
              "    <tr>\n",
              "      <th>3</th>\n",
              "      <td>0</td>\n",
              "      <td>0</td>\n",
              "      <td>0</td>\n",
              "      <td>0</td>\n",
              "      <td>0</td>\n",
              "      <td>1</td>\n",
              "      <td>0</td>\n",
              "      <td>0</td>\n",
              "      <td>0</td>\n",
              "      <td>0</td>\n",
              "      <td>0</td>\n",
              "      <td>0</td>\n",
              "      <td>0</td>\n",
              "      <td>0</td>\n",
              "    </tr>\n",
              "    <tr>\n",
              "      <th>4</th>\n",
              "      <td>0</td>\n",
              "      <td>0</td>\n",
              "      <td>0</td>\n",
              "      <td>0</td>\n",
              "      <td>0</td>\n",
              "      <td>0</td>\n",
              "      <td>0</td>\n",
              "      <td>0</td>\n",
              "      <td>0</td>\n",
              "      <td>1</td>\n",
              "      <td>0</td>\n",
              "      <td>0</td>\n",
              "      <td>0</td>\n",
              "      <td>0</td>\n",
              "    </tr>\n",
              "  </tbody>\n",
              "</table>\n",
              "</div>"
            ],
            "text/plain": [
              "   Carrera_INGENIERIA CIVIL  ...  Carrera_INGENIERÍA CIVIL DE MINAS\n",
              "0                         0  ...                                  0\n",
              "1                         0  ...                                  0\n",
              "2                         0  ...                                  0\n",
              "3                         0  ...                                  0\n",
              "4                         0  ...                                  0\n",
              "\n",
              "[5 rows x 14 columns]"
            ]
          },
          "metadata": {
            "tags": []
          },
          "execution_count": 130
        }
      ]
    },
    {
      "cell_type": "markdown",
      "metadata": {
        "id": "MO5SJIeY6Dgr",
        "colab_type": "text"
      },
      "source": [
        "Ahora juntamos nuestra dataset original con la nueva tabla obtenida."
      ]
    },
    {
      "cell_type": "code",
      "metadata": {
        "id": "hWpnsttsV6wZ",
        "colab_type": "code",
        "colab": {}
      },
      "source": [
        "dataset = pd.concat([dataset, carreras], axis=1)"
      ],
      "execution_count": 0,
      "outputs": []
    },
    {
      "cell_type": "code",
      "metadata": {
        "id": "cRM-HuND6LKp",
        "colab_type": "code",
        "outputId": "c43f01f0-f5e0-4e0c-b8ba-bba89831681e",
        "colab": {
          "base_uri": "https://localhost:8080/",
          "height": 428
        }
      },
      "source": [
        "dataset.head()"
      ],
      "execution_count": 132,
      "outputs": [
        {
          "output_type": "execute_result",
          "data": {
            "text/html": [
              "<div>\n",
              "<style scoped>\n",
              "    .dataframe tbody tr th:only-of-type {\n",
              "        vertical-align: middle;\n",
              "    }\n",
              "\n",
              "    .dataframe tbody tr th {\n",
              "        vertical-align: top;\n",
              "    }\n",
              "\n",
              "    .dataframe thead th {\n",
              "        text-align: right;\n",
              "    }\n",
              "</style>\n",
              "<table border=\"1\" class=\"dataframe\">\n",
              "  <thead>\n",
              "    <tr style=\"text-align: right;\">\n",
              "      <th></th>\n",
              "      <th>crr_Nom</th>\n",
              "      <th>psu_Nem</th>\n",
              "      <th>psu_Leng</th>\n",
              "      <th>psu_Mate</th>\n",
              "      <th>psu_Cie</th>\n",
              "      <th>psu_Pond</th>\n",
              "      <th>Longitud</th>\n",
              "      <th>Latitud</th>\n",
              "      <th>cred_apr</th>\n",
              "      <th>distancia</th>\n",
              "      <th>F</th>\n",
              "      <th>M</th>\n",
              "      <th>PARTICULAR_SUBVENCIONADO</th>\n",
              "      <th>PARTICULAR_PAGADO</th>\n",
              "      <th>MUNICIPAL</th>\n",
              "      <th>cluster</th>\n",
              "      <th>Carrera_INGENIERIA CIVIL</th>\n",
              "      <th>Carrera_INGENIERIA CIVIL - PLAN COMUN</th>\n",
              "      <th>Carrera_INGENIERIA CIVIL AEROESPACIAL</th>\n",
              "      <th>Carrera_INGENIERIA CIVIL BIOMEDICA</th>\n",
              "      <th>Carrera_INGENIERIA CIVIL DE MATERIALES</th>\n",
              "      <th>Carrera_INGENIERIA CIVIL ELECTRICA</th>\n",
              "      <th>Carrera_INGENIERIA CIVIL ELECTRONICA</th>\n",
              "      <th>Carrera_INGENIERIA CIVIL EN TELECOMUNICACIONES</th>\n",
              "      <th>Carrera_INGENIERIA CIVIL INDUSTRIAL</th>\n",
              "      <th>Carrera_INGENIERIA CIVIL INFORMATICA</th>\n",
              "      <th>Carrera_INGENIERIA CIVIL MECANICA</th>\n",
              "      <th>Carrera_INGENIERIA CIVIL METALURGICA</th>\n",
              "      <th>Carrera_INGENIERIA CIVIL QUIMICA</th>\n",
              "      <th>Carrera_INGENIERÍA CIVIL DE MINAS</th>\n",
              "    </tr>\n",
              "  </thead>\n",
              "  <tbody>\n",
              "    <tr>\n",
              "      <th>0</th>\n",
              "      <td>INGENIERIA CIVIL INDUSTRIAL</td>\n",
              "      <td>783</td>\n",
              "      <td>653</td>\n",
              "      <td>685</td>\n",
              "      <td>672</td>\n",
              "      <td>735</td>\n",
              "      <td>-73.16487</td>\n",
              "      <td>-36.978759</td>\n",
              "      <td>38</td>\n",
              "      <td>20.201244</td>\n",
              "      <td>1</td>\n",
              "      <td>0</td>\n",
              "      <td>1</td>\n",
              "      <td>0</td>\n",
              "      <td>0</td>\n",
              "      <td>C2</td>\n",
              "      <td>0</td>\n",
              "      <td>0</td>\n",
              "      <td>0</td>\n",
              "      <td>0</td>\n",
              "      <td>0</td>\n",
              "      <td>0</td>\n",
              "      <td>0</td>\n",
              "      <td>0</td>\n",
              "      <td>1</td>\n",
              "      <td>0</td>\n",
              "      <td>0</td>\n",
              "      <td>0</td>\n",
              "      <td>0</td>\n",
              "      <td>0</td>\n",
              "    </tr>\n",
              "    <tr>\n",
              "      <th>1</th>\n",
              "      <td>INGENIERIA CIVIL BIOMEDICA</td>\n",
              "      <td>799</td>\n",
              "      <td>705</td>\n",
              "      <td>713</td>\n",
              "      <td>686</td>\n",
              "      <td>756</td>\n",
              "      <td>-73.16487</td>\n",
              "      <td>-36.978759</td>\n",
              "      <td>36</td>\n",
              "      <td>20.201244</td>\n",
              "      <td>1</td>\n",
              "      <td>0</td>\n",
              "      <td>1</td>\n",
              "      <td>0</td>\n",
              "      <td>0</td>\n",
              "      <td>C1</td>\n",
              "      <td>0</td>\n",
              "      <td>0</td>\n",
              "      <td>0</td>\n",
              "      <td>1</td>\n",
              "      <td>0</td>\n",
              "      <td>0</td>\n",
              "      <td>0</td>\n",
              "      <td>0</td>\n",
              "      <td>0</td>\n",
              "      <td>0</td>\n",
              "      <td>0</td>\n",
              "      <td>0</td>\n",
              "      <td>0</td>\n",
              "      <td>0</td>\n",
              "    </tr>\n",
              "    <tr>\n",
              "      <th>2</th>\n",
              "      <td>INGENIERIA CIVIL QUIMICA</td>\n",
              "      <td>688</td>\n",
              "      <td>543</td>\n",
              "      <td>612</td>\n",
              "      <td>534</td>\n",
              "      <td>638</td>\n",
              "      <td>-73.16487</td>\n",
              "      <td>-36.978759</td>\n",
              "      <td>36</td>\n",
              "      <td>20.201244</td>\n",
              "      <td>1</td>\n",
              "      <td>0</td>\n",
              "      <td>1</td>\n",
              "      <td>0</td>\n",
              "      <td>0</td>\n",
              "      <td>C3</td>\n",
              "      <td>0</td>\n",
              "      <td>0</td>\n",
              "      <td>0</td>\n",
              "      <td>0</td>\n",
              "      <td>0</td>\n",
              "      <td>0</td>\n",
              "      <td>0</td>\n",
              "      <td>0</td>\n",
              "      <td>0</td>\n",
              "      <td>0</td>\n",
              "      <td>0</td>\n",
              "      <td>0</td>\n",
              "      <td>1</td>\n",
              "      <td>0</td>\n",
              "    </tr>\n",
              "    <tr>\n",
              "      <th>3</th>\n",
              "      <td>INGENIERIA CIVIL ELECTRICA</td>\n",
              "      <td>605</td>\n",
              "      <td>598</td>\n",
              "      <td>658</td>\n",
              "      <td>601</td>\n",
              "      <td>633</td>\n",
              "      <td>-73.16487</td>\n",
              "      <td>-36.978759</td>\n",
              "      <td>21</td>\n",
              "      <td>20.201244</td>\n",
              "      <td>0</td>\n",
              "      <td>1</td>\n",
              "      <td>1</td>\n",
              "      <td>0</td>\n",
              "      <td>0</td>\n",
              "      <td>C2</td>\n",
              "      <td>0</td>\n",
              "      <td>0</td>\n",
              "      <td>0</td>\n",
              "      <td>0</td>\n",
              "      <td>0</td>\n",
              "      <td>1</td>\n",
              "      <td>0</td>\n",
              "      <td>0</td>\n",
              "      <td>0</td>\n",
              "      <td>0</td>\n",
              "      <td>0</td>\n",
              "      <td>0</td>\n",
              "      <td>0</td>\n",
              "      <td>0</td>\n",
              "    </tr>\n",
              "    <tr>\n",
              "      <th>4</th>\n",
              "      <td>INGENIERIA CIVIL INFORMATICA</td>\n",
              "      <td>603</td>\n",
              "      <td>710</td>\n",
              "      <td>668</td>\n",
              "      <td>651</td>\n",
              "      <td>657</td>\n",
              "      <td>-73.16487</td>\n",
              "      <td>-36.978759</td>\n",
              "      <td>19</td>\n",
              "      <td>20.201244</td>\n",
              "      <td>0</td>\n",
              "      <td>1</td>\n",
              "      <td>1</td>\n",
              "      <td>0</td>\n",
              "      <td>0</td>\n",
              "      <td>C2</td>\n",
              "      <td>0</td>\n",
              "      <td>0</td>\n",
              "      <td>0</td>\n",
              "      <td>0</td>\n",
              "      <td>0</td>\n",
              "      <td>0</td>\n",
              "      <td>0</td>\n",
              "      <td>0</td>\n",
              "      <td>0</td>\n",
              "      <td>1</td>\n",
              "      <td>0</td>\n",
              "      <td>0</td>\n",
              "      <td>0</td>\n",
              "      <td>0</td>\n",
              "    </tr>\n",
              "  </tbody>\n",
              "</table>\n",
              "</div>"
            ],
            "text/plain": [
              "                        crr_Nom  ...  Carrera_INGENIERÍA CIVIL DE MINAS\n",
              "0   INGENIERIA CIVIL INDUSTRIAL  ...                                  0\n",
              "1    INGENIERIA CIVIL BIOMEDICA  ...                                  0\n",
              "2      INGENIERIA CIVIL QUIMICA  ...                                  0\n",
              "3    INGENIERIA CIVIL ELECTRICA  ...                                  0\n",
              "4  INGENIERIA CIVIL INFORMATICA  ...                                  0\n",
              "\n",
              "[5 rows x 30 columns]"
            ]
          },
          "metadata": {
            "tags": []
          },
          "execution_count": 132
        }
      ]
    },
    {
      "cell_type": "markdown",
      "metadata": {
        "id": "VkueVNSr6ab0",
        "colab_type": "text"
      },
      "source": [
        "Ahora procedemos a quitar la variale Crr_Nom"
      ]
    },
    {
      "cell_type": "code",
      "metadata": {
        "id": "aS0-FDEZ2bxy",
        "colab_type": "code",
        "colab": {}
      },
      "source": [
        "dataset = dataset.drop([\"crr_Nom\"],axis=1)"
      ],
      "execution_count": 0,
      "outputs": []
    },
    {
      "cell_type": "markdown",
      "metadata": {
        "id": "obNjW61i2xLM",
        "colab_type": "text"
      },
      "source": [
        "Revisamos nuestras variables"
      ]
    },
    {
      "cell_type": "code",
      "metadata": {
        "id": "vfOHCHDnYJ1b",
        "colab_type": "code",
        "outputId": "c6f24c9e-c4ba-47e4-a062-62734b08533f",
        "colab": {
          "base_uri": "https://localhost:8080/",
          "height": 527
        }
      },
      "source": [
        "dataset.isna().sum() #Revisamos que todas las variables tengan datos."
      ],
      "execution_count": 134,
      "outputs": [
        {
          "output_type": "execute_result",
          "data": {
            "text/plain": [
              "psu_Nem                                           0\n",
              "psu_Leng                                          0\n",
              "psu_Mate                                          0\n",
              "psu_Cie                                           0\n",
              "psu_Pond                                          0\n",
              "Longitud                                          0\n",
              "Latitud                                           0\n",
              "cred_apr                                          0\n",
              "distancia                                         0\n",
              "F                                                 0\n",
              "M                                                 0\n",
              "PARTICULAR_SUBVENCIONADO                          0\n",
              "PARTICULAR_PAGADO                                 0\n",
              "MUNICIPAL                                         0\n",
              "cluster                                           0\n",
              "Carrera_INGENIERIA CIVIL                          0\n",
              "Carrera_INGENIERIA CIVIL - PLAN COMUN             0\n",
              "Carrera_INGENIERIA CIVIL AEROESPACIAL             0\n",
              "Carrera_INGENIERIA CIVIL BIOMEDICA                0\n",
              "Carrera_INGENIERIA CIVIL DE MATERIALES            0\n",
              "Carrera_INGENIERIA CIVIL ELECTRICA                0\n",
              "Carrera_INGENIERIA CIVIL ELECTRONICA              0\n",
              "Carrera_INGENIERIA CIVIL EN TELECOMUNICACIONES    0\n",
              "Carrera_INGENIERIA CIVIL INDUSTRIAL               0\n",
              "Carrera_INGENIERIA CIVIL INFORMATICA              0\n",
              "Carrera_INGENIERIA CIVIL MECANICA                 0\n",
              "Carrera_INGENIERIA CIVIL METALURGICA              0\n",
              "Carrera_INGENIERIA CIVIL QUIMICA                  0\n",
              "Carrera_INGENIERÍA CIVIL DE MINAS                 0\n",
              "dtype: int64"
            ]
          },
          "metadata": {
            "tags": []
          },
          "execution_count": 134
        }
      ]
    },
    {
      "cell_type": "markdown",
      "metadata": {
        "id": "Qf0EDQ0GoV_a",
        "colab_type": "text"
      },
      "source": [
        "**Ahora procedemos a realizar los mismos pasos anteriores con la variables CLUSTER.**"
      ]
    },
    {
      "cell_type": "code",
      "metadata": {
        "id": "W4Pfc7HtGSpv",
        "colab_type": "code",
        "outputId": "da821609-cc7f-4839-a0f1-33641cedfd33",
        "colab": {
          "base_uri": "https://localhost:8080/",
          "height": 258
        }
      },
      "source": [
        "dataset.head()"
      ],
      "execution_count": 135,
      "outputs": [
        {
          "output_type": "execute_result",
          "data": {
            "text/html": [
              "<div>\n",
              "<style scoped>\n",
              "    .dataframe tbody tr th:only-of-type {\n",
              "        vertical-align: middle;\n",
              "    }\n",
              "\n",
              "    .dataframe tbody tr th {\n",
              "        vertical-align: top;\n",
              "    }\n",
              "\n",
              "    .dataframe thead th {\n",
              "        text-align: right;\n",
              "    }\n",
              "</style>\n",
              "<table border=\"1\" class=\"dataframe\">\n",
              "  <thead>\n",
              "    <tr style=\"text-align: right;\">\n",
              "      <th></th>\n",
              "      <th>psu_Nem</th>\n",
              "      <th>psu_Leng</th>\n",
              "      <th>psu_Mate</th>\n",
              "      <th>psu_Cie</th>\n",
              "      <th>psu_Pond</th>\n",
              "      <th>Longitud</th>\n",
              "      <th>Latitud</th>\n",
              "      <th>cred_apr</th>\n",
              "      <th>distancia</th>\n",
              "      <th>F</th>\n",
              "      <th>M</th>\n",
              "      <th>PARTICULAR_SUBVENCIONADO</th>\n",
              "      <th>PARTICULAR_PAGADO</th>\n",
              "      <th>MUNICIPAL</th>\n",
              "      <th>cluster</th>\n",
              "      <th>Carrera_INGENIERIA CIVIL</th>\n",
              "      <th>Carrera_INGENIERIA CIVIL - PLAN COMUN</th>\n",
              "      <th>Carrera_INGENIERIA CIVIL AEROESPACIAL</th>\n",
              "      <th>Carrera_INGENIERIA CIVIL BIOMEDICA</th>\n",
              "      <th>Carrera_INGENIERIA CIVIL DE MATERIALES</th>\n",
              "      <th>Carrera_INGENIERIA CIVIL ELECTRICA</th>\n",
              "      <th>Carrera_INGENIERIA CIVIL ELECTRONICA</th>\n",
              "      <th>Carrera_INGENIERIA CIVIL EN TELECOMUNICACIONES</th>\n",
              "      <th>Carrera_INGENIERIA CIVIL INDUSTRIAL</th>\n",
              "      <th>Carrera_INGENIERIA CIVIL INFORMATICA</th>\n",
              "      <th>Carrera_INGENIERIA CIVIL MECANICA</th>\n",
              "      <th>Carrera_INGENIERIA CIVIL METALURGICA</th>\n",
              "      <th>Carrera_INGENIERIA CIVIL QUIMICA</th>\n",
              "      <th>Carrera_INGENIERÍA CIVIL DE MINAS</th>\n",
              "    </tr>\n",
              "  </thead>\n",
              "  <tbody>\n",
              "    <tr>\n",
              "      <th>0</th>\n",
              "      <td>783</td>\n",
              "      <td>653</td>\n",
              "      <td>685</td>\n",
              "      <td>672</td>\n",
              "      <td>735</td>\n",
              "      <td>-73.16487</td>\n",
              "      <td>-36.978759</td>\n",
              "      <td>38</td>\n",
              "      <td>20.201244</td>\n",
              "      <td>1</td>\n",
              "      <td>0</td>\n",
              "      <td>1</td>\n",
              "      <td>0</td>\n",
              "      <td>0</td>\n",
              "      <td>C2</td>\n",
              "      <td>0</td>\n",
              "      <td>0</td>\n",
              "      <td>0</td>\n",
              "      <td>0</td>\n",
              "      <td>0</td>\n",
              "      <td>0</td>\n",
              "      <td>0</td>\n",
              "      <td>0</td>\n",
              "      <td>1</td>\n",
              "      <td>0</td>\n",
              "      <td>0</td>\n",
              "      <td>0</td>\n",
              "      <td>0</td>\n",
              "      <td>0</td>\n",
              "    </tr>\n",
              "    <tr>\n",
              "      <th>1</th>\n",
              "      <td>799</td>\n",
              "      <td>705</td>\n",
              "      <td>713</td>\n",
              "      <td>686</td>\n",
              "      <td>756</td>\n",
              "      <td>-73.16487</td>\n",
              "      <td>-36.978759</td>\n",
              "      <td>36</td>\n",
              "      <td>20.201244</td>\n",
              "      <td>1</td>\n",
              "      <td>0</td>\n",
              "      <td>1</td>\n",
              "      <td>0</td>\n",
              "      <td>0</td>\n",
              "      <td>C1</td>\n",
              "      <td>0</td>\n",
              "      <td>0</td>\n",
              "      <td>0</td>\n",
              "      <td>1</td>\n",
              "      <td>0</td>\n",
              "      <td>0</td>\n",
              "      <td>0</td>\n",
              "      <td>0</td>\n",
              "      <td>0</td>\n",
              "      <td>0</td>\n",
              "      <td>0</td>\n",
              "      <td>0</td>\n",
              "      <td>0</td>\n",
              "      <td>0</td>\n",
              "    </tr>\n",
              "    <tr>\n",
              "      <th>2</th>\n",
              "      <td>688</td>\n",
              "      <td>543</td>\n",
              "      <td>612</td>\n",
              "      <td>534</td>\n",
              "      <td>638</td>\n",
              "      <td>-73.16487</td>\n",
              "      <td>-36.978759</td>\n",
              "      <td>36</td>\n",
              "      <td>20.201244</td>\n",
              "      <td>1</td>\n",
              "      <td>0</td>\n",
              "      <td>1</td>\n",
              "      <td>0</td>\n",
              "      <td>0</td>\n",
              "      <td>C3</td>\n",
              "      <td>0</td>\n",
              "      <td>0</td>\n",
              "      <td>0</td>\n",
              "      <td>0</td>\n",
              "      <td>0</td>\n",
              "      <td>0</td>\n",
              "      <td>0</td>\n",
              "      <td>0</td>\n",
              "      <td>0</td>\n",
              "      <td>0</td>\n",
              "      <td>0</td>\n",
              "      <td>0</td>\n",
              "      <td>1</td>\n",
              "      <td>0</td>\n",
              "    </tr>\n",
              "    <tr>\n",
              "      <th>3</th>\n",
              "      <td>605</td>\n",
              "      <td>598</td>\n",
              "      <td>658</td>\n",
              "      <td>601</td>\n",
              "      <td>633</td>\n",
              "      <td>-73.16487</td>\n",
              "      <td>-36.978759</td>\n",
              "      <td>21</td>\n",
              "      <td>20.201244</td>\n",
              "      <td>0</td>\n",
              "      <td>1</td>\n",
              "      <td>1</td>\n",
              "      <td>0</td>\n",
              "      <td>0</td>\n",
              "      <td>C2</td>\n",
              "      <td>0</td>\n",
              "      <td>0</td>\n",
              "      <td>0</td>\n",
              "      <td>0</td>\n",
              "      <td>0</td>\n",
              "      <td>1</td>\n",
              "      <td>0</td>\n",
              "      <td>0</td>\n",
              "      <td>0</td>\n",
              "      <td>0</td>\n",
              "      <td>0</td>\n",
              "      <td>0</td>\n",
              "      <td>0</td>\n",
              "      <td>0</td>\n",
              "    </tr>\n",
              "    <tr>\n",
              "      <th>4</th>\n",
              "      <td>603</td>\n",
              "      <td>710</td>\n",
              "      <td>668</td>\n",
              "      <td>651</td>\n",
              "      <td>657</td>\n",
              "      <td>-73.16487</td>\n",
              "      <td>-36.978759</td>\n",
              "      <td>19</td>\n",
              "      <td>20.201244</td>\n",
              "      <td>0</td>\n",
              "      <td>1</td>\n",
              "      <td>1</td>\n",
              "      <td>0</td>\n",
              "      <td>0</td>\n",
              "      <td>C2</td>\n",
              "      <td>0</td>\n",
              "      <td>0</td>\n",
              "      <td>0</td>\n",
              "      <td>0</td>\n",
              "      <td>0</td>\n",
              "      <td>0</td>\n",
              "      <td>0</td>\n",
              "      <td>0</td>\n",
              "      <td>0</td>\n",
              "      <td>1</td>\n",
              "      <td>0</td>\n",
              "      <td>0</td>\n",
              "      <td>0</td>\n",
              "      <td>0</td>\n",
              "    </tr>\n",
              "  </tbody>\n",
              "</table>\n",
              "</div>"
            ],
            "text/plain": [
              "   psu_Nem  ...  Carrera_INGENIERÍA CIVIL DE MINAS\n",
              "0      783  ...                                  0\n",
              "1      799  ...                                  0\n",
              "2      688  ...                                  0\n",
              "3      605  ...                                  0\n",
              "4      603  ...                                  0\n",
              "\n",
              "[5 rows x 29 columns]"
            ]
          },
          "metadata": {
            "tags": []
          },
          "execution_count": 135
        }
      ]
    },
    {
      "cell_type": "markdown",
      "metadata": {
        "id": "yHRPCvz43i3Z",
        "colab_type": "text"
      },
      "source": [
        "Creamos una variable y, que tiene los valores que deseamos predecir."
      ]
    },
    {
      "cell_type": "code",
      "metadata": {
        "id": "DfBkYOmB3ZLs",
        "colab_type": "code",
        "colab": {
          "base_uri": "https://localhost:8080/",
          "height": 255
        },
        "outputId": "e44af3ad-e402-4863-d341-c7ab498287e7"
      },
      "source": [
        "y = pd.get_dummies(dataset['cluster'],prefix=\"CLUSTER\")\n",
        "print(y)"
      ],
      "execution_count": 136,
      "outputs": [
        {
          "output_type": "stream",
          "text": [
            "      CLUSTER_C1  CLUSTER_C2  CLUSTER_C3  CLUSTER_C4\n",
            "0              0           1           0           0\n",
            "1              1           0           0           0\n",
            "2              0           0           1           0\n",
            "3              0           1           0           0\n",
            "4              0           1           0           0\n",
            "...          ...         ...         ...         ...\n",
            "7861           0           1           0           0\n",
            "7862           0           1           0           0\n",
            "7863           0           0           1           0\n",
            "7864           0           1           0           0\n",
            "7865           0           0           0           1\n",
            "\n",
            "[7866 rows x 4 columns]\n"
          ],
          "name": "stdout"
        }
      ]
    },
    {
      "cell_type": "markdown",
      "metadata": {
        "id": "cPOy3Dwp7jKO",
        "colab_type": "text"
      },
      "source": [
        "Por último quitamos la variable cluster de nuestro dataset.\n",
        "\n"
      ]
    },
    {
      "cell_type": "code",
      "metadata": {
        "id": "_DfI3hEn3tfh",
        "colab_type": "code",
        "colab": {}
      },
      "source": [
        "dataset = dataset.drop([\"cluster\"],axis=1)"
      ],
      "execution_count": 0,
      "outputs": []
    },
    {
      "cell_type": "code",
      "metadata": {
        "id": "45cl_7YN3x7R",
        "colab_type": "code",
        "colab": {
          "base_uri": "https://localhost:8080/",
          "height": 595
        },
        "outputId": "99793644-eadc-4c48-8cb4-5fe7a12a91d6"
      },
      "source": [
        "print(dataset.isna().sum())\n",
        "print(y.isna().sum())"
      ],
      "execution_count": 138,
      "outputs": [
        {
          "output_type": "stream",
          "text": [
            "psu_Nem                                           0\n",
            "psu_Leng                                          0\n",
            "psu_Mate                                          0\n",
            "psu_Cie                                           0\n",
            "psu_Pond                                          0\n",
            "Longitud                                          0\n",
            "Latitud                                           0\n",
            "cred_apr                                          0\n",
            "distancia                                         0\n",
            "F                                                 0\n",
            "M                                                 0\n",
            "PARTICULAR_SUBVENCIONADO                          0\n",
            "PARTICULAR_PAGADO                                 0\n",
            "MUNICIPAL                                         0\n",
            "Carrera_INGENIERIA CIVIL                          0\n",
            "Carrera_INGENIERIA CIVIL - PLAN COMUN             0\n",
            "Carrera_INGENIERIA CIVIL AEROESPACIAL             0\n",
            "Carrera_INGENIERIA CIVIL BIOMEDICA                0\n",
            "Carrera_INGENIERIA CIVIL DE MATERIALES            0\n",
            "Carrera_INGENIERIA CIVIL ELECTRICA                0\n",
            "Carrera_INGENIERIA CIVIL ELECTRONICA              0\n",
            "Carrera_INGENIERIA CIVIL EN TELECOMUNICACIONES    0\n",
            "Carrera_INGENIERIA CIVIL INDUSTRIAL               0\n",
            "Carrera_INGENIERIA CIVIL INFORMATICA              0\n",
            "Carrera_INGENIERIA CIVIL MECANICA                 0\n",
            "Carrera_INGENIERIA CIVIL METALURGICA              0\n",
            "Carrera_INGENIERIA CIVIL QUIMICA                  0\n",
            "Carrera_INGENIERÍA CIVIL DE MINAS                 0\n",
            "dtype: int64\n",
            "CLUSTER_C1    0\n",
            "CLUSTER_C2    0\n",
            "CLUSTER_C3    0\n",
            "CLUSTER_C4    0\n",
            "dtype: int64\n"
          ],
          "name": "stdout"
        }
      ]
    },
    {
      "cell_type": "markdown",
      "metadata": {
        "id": "-250bRWC37SK",
        "colab_type": "text"
      },
      "source": [
        "Finalmente tenemos nuestro dataset con sólo variables numericas y además nuestra matriz y con los valores que desaemos predecir."
      ]
    },
    {
      "cell_type": "markdown",
      "metadata": {
        "id": "qvfHhXRi_xs1",
        "colab_type": "text"
      },
      "source": [
        "# DEFINIENDO RANGOS DE ENTRENAMIENTO Y TESTEO"
      ]
    },
    {
      "cell_type": "markdown",
      "metadata": {
        "id": "5JzagmEAaw7u",
        "colab_type": "text"
      },
      "source": [
        "Primero realizamos un cast a nuestro dataset y nuestra tabla y, transformando ambas en un dtype=tf.float64"
      ]
    },
    {
      "cell_type": "code",
      "metadata": {
        "id": "QZOwsc-9OPqA",
        "colab_type": "code",
        "colab": {}
      },
      "source": [
        "dataset = tf.cast(dataset, dtype=tf.float64)\n",
        "y = tf.cast(y, dtype=tf.float64)"
      ],
      "execution_count": 0,
      "outputs": []
    },
    {
      "cell_type": "markdown",
      "metadata": {
        "id": "PrF3pb9VTJc-",
        "colab_type": "text"
      },
      "source": [
        "Revisamos que se haya realizado correctamente"
      ]
    },
    {
      "cell_type": "code",
      "metadata": {
        "id": "W0ehmsynPFBd",
        "colab_type": "code",
        "colab": {
          "base_uri": "https://localhost:8080/",
          "height": 289
        },
        "outputId": "d17577c7-23bd-4c25-d955-2446b6323bfd"
      },
      "source": [
        "print(dataset)\n",
        "print(y)"
      ],
      "execution_count": 163,
      "outputs": [
        {
          "output_type": "stream",
          "text": [
            "tf.Tensor(\n",
            "[[783. 653. 685. ...   0.   0.   0.]\n",
            " [799. 705. 713. ...   0.   0.   0.]\n",
            " [688. 543. 612. ...   0.   1.   0.]\n",
            " ...\n",
            " [641. 598. 640. ...   0.   0.   0.]\n",
            " [641. 653. 595. ...   0.   0.   0.]\n",
            " [641. 524. 554. ...   0.   0.   0.]], shape=(7866, 28), dtype=float64)\n",
            "tf.Tensor(\n",
            "[[0. 1. 0. 0.]\n",
            " [1. 0. 0. 0.]\n",
            " [0. 0. 1. 0.]\n",
            " ...\n",
            " [0. 0. 1. 0.]\n",
            " [0. 1. 0. 0.]\n",
            " [0. 0. 0. 1.]], shape=(7866, 4), dtype=float64)\n"
          ],
          "name": "stdout"
        }
      ]
    },
    {
      "cell_type": "markdown",
      "metadata": {
        "id": "CWJWduIzTN_0",
        "colab_type": "text"
      },
      "source": [
        "Ahora dividimos nuestros datos en un 80% den entrenamiento y un 20% en testeo."
      ]
    },
    {
      "cell_type": "code",
      "metadata": {
        "id": "Q_7UInsUBAba",
        "colab_type": "code",
        "outputId": "3043f20d-7bd8-48c2-d391-88763e23dfbd",
        "colab": {
          "base_uri": "https://localhost:8080/",
          "height": 34
        }
      },
      "source": [
        "data_size = len(dataset)\n",
        "train_pct = 0.8\n",
        "\n",
        "train_size = int(data_size * train_pct)\n",
        "print(train_size)\n",
        "\n",
        "x_train, y_train = dataset[:train_size], y[:train_size]\n",
        "x_test, y_test = dataset[train_size:], y[train_size:]"
      ],
      "execution_count": 164,
      "outputs": [
        {
          "output_type": "stream",
          "text": [
            "6292\n"
          ],
          "name": "stdout"
        }
      ]
    },
    {
      "cell_type": "code",
      "metadata": {
        "id": "hSrencTWiMT5",
        "colab_type": "code",
        "outputId": "1680733d-0534-4a83-83a1-930ab8fa115a",
        "colab": {
          "base_uri": "https://localhost:8080/",
          "height": 34
        }
      },
      "source": [
        "x_train.shape[0], x_test.shape[0]"
      ],
      "execution_count": 165,
      "outputs": [
        {
          "output_type": "execute_result",
          "data": {
            "text/plain": [
              "(6292, 1574)"
            ]
          },
          "metadata": {
            "tags": []
          },
          "execution_count": 165
        }
      ]
    },
    {
      "cell_type": "markdown",
      "metadata": {
        "id": "wF09F7gmTdlM",
        "colab_type": "text"
      },
      "source": [
        "Revisamos"
      ]
    },
    {
      "cell_type": "code",
      "metadata": {
        "id": "8mXfvVs5QdSO",
        "colab_type": "code",
        "colab": {
          "base_uri": "https://localhost:8080/",
          "height": 561
        },
        "outputId": "2853c2e9-8266-4e78-f686-e09e0349a047"
      },
      "source": [
        "print(x_train)\n",
        "print(y_train)\n",
        "print(x_test)\n",
        "print(y_test)"
      ],
      "execution_count": 166,
      "outputs": [
        {
          "output_type": "stream",
          "text": [
            "tf.Tensor(\n",
            "[[783. 653. 685. ...   0.   0.   0.]\n",
            " [799. 705. 713. ...   0.   0.   0.]\n",
            " [688. 543. 612. ...   0.   1.   0.]\n",
            " ...\n",
            " [661. 626. 759. ...   0.   0.   0.]\n",
            " [661. 620. 708. ...   0.   0.   0.]\n",
            " [599. 547. 694. ...   0.   0.   0.]], shape=(6292, 28), dtype=float64)\n",
            "tf.Tensor(\n",
            "[[0. 1. 0. 0.]\n",
            " [1. 0. 0. 0.]\n",
            " [0. 0. 1. 0.]\n",
            " ...\n",
            " [0. 1. 0. 0.]\n",
            " [0. 1. 0. 0.]\n",
            " [0. 1. 0. 0.]], shape=(6292, 4), dtype=float64)\n",
            "tf.Tensor(\n",
            "[[661. 542. 637. ...   1.   0.   0.]\n",
            " [608. 560. 648. ...   1.   0.   0.]\n",
            " [554. 660. 664. ...   1.   0.   0.]\n",
            " ...\n",
            " [641. 598. 640. ...   0.   0.   0.]\n",
            " [641. 653. 595. ...   0.   0.   0.]\n",
            " [641. 524. 554. ...   0.   0.   0.]], shape=(1574, 28), dtype=float64)\n",
            "tf.Tensor(\n",
            "[[0. 1. 0. 0.]\n",
            " [0. 1. 0. 0.]\n",
            " [0. 1. 0. 0.]\n",
            " ...\n",
            " [0. 0. 1. 0.]\n",
            " [0. 1. 0. 0.]\n",
            " [0. 0. 0. 1.]], shape=(1574, 4), dtype=float64)\n"
          ],
          "name": "stdout"
        }
      ]
    },
    {
      "cell_type": "markdown",
      "metadata": {
        "id": "8SkdsfUca-Iz",
        "colab_type": "text"
      },
      "source": [
        "# CREACION DE MODELO"
      ]
    },
    {
      "cell_type": "markdown",
      "metadata": {
        "id": "MOWn7jnkbKpf",
        "colab_type": "text"
      },
      "source": [
        "Definición de layers"
      ]
    },
    {
      "cell_type": "markdown",
      "metadata": {
        "id": "e8PxXNuy4GSt",
        "colab_type": "text"
      },
      "source": [
        "Modelo"
      ]
    },
    {
      "cell_type": "markdown",
      "metadata": {
        "id": "xKNrws4OnMII",
        "colab_type": "text"
      },
      "source": [
        "Acá es para usar lo de tensorboard, pero no sé como funciona en Colab"
      ]
    },
    {
      "cell_type": "code",
      "metadata": {
        "id": "OGADTGIDdhQu",
        "colab_type": "code",
        "colab": {}
      },
      "source": [
        "logdir = \"logs\\\\tf_keras\\\\\" + datetime.now().strftime(\"%Y%m%d-%H%M%S\")\n",
        "tensorboard_callback = keras.callbacks.TensorBoard(log_dir=logdir)"
      ],
      "execution_count": 0,
      "outputs": []
    },
    {
      "cell_type": "markdown",
      "metadata": {
        "id": "SBmuV-wEn6fV",
        "colab_type": "text"
      },
      "source": [
        "El modelo es de un solo layery es lineal"
      ]
    },
    {
      "cell_type": "code",
      "metadata": {
        "id": "3MHKBQAN4Nt9",
        "colab_type": "code",
        "colab": {}
      },
      "source": [
        "linear_layer = (units=1, input_shape=(28,))\n",
        "model = tf.keras.models.Sequential([linear_layer])\n",
        "model.compile(\n",
        "    loss='mse', # keras.lotf.keras.layers.Densesses.mean_squared_error\n",
        "    optimizer=keras.optimizers.SGD(lr=0.2),\n",
        ")\n"
      ],
      "execution_count": 0,
      "outputs": []
    },
    {
      "cell_type": "markdown",
      "metadata": {
        "id": "qx7wW7BCoAM5",
        "colab_type": "text"
      },
      "source": [
        "Sumario para ver las variables"
      ]
    },
    {
      "cell_type": "code",
      "metadata": {
        "id": "ujBKLGcxf7gU",
        "colab_type": "code",
        "outputId": "d9cc74bc-5705-40fe-9208-df3b24b929ba",
        "colab": {
          "base_uri": "https://localhost:8080/",
          "height": 187
        }
      },
      "source": [
        "model.summary()"
      ],
      "execution_count": 169,
      "outputs": [
        {
          "output_type": "stream",
          "text": [
            "Model: \"sequential_11\"\n",
            "_________________________________________________________________\n",
            "Layer (type)                 Output Shape              Param #   \n",
            "=================================================================\n",
            "dense_11 (Dense)             (None, 1)                 29        \n",
            "=================================================================\n",
            "Total params: 29\n",
            "Trainable params: 29\n",
            "Non-trainable params: 0\n",
            "_________________________________________________________________\n"
          ],
          "name": "stdout"
        }
      ]
    },
    {
      "cell_type": "markdown",
      "metadata": {
        "id": "TmpUcqPzoC4p",
        "colab_type": "text"
      },
      "source": [
        "Se entrenan las variables"
      ]
    },
    {
      "cell_type": "code",
      "metadata": {
        "id": "LCFQ9bBWVEuw",
        "colab_type": "code",
        "outputId": "ac2f7261-d396-4c5e-a7ef-32f278ceb6b6",
        "colab": {
          "base_uri": "https://localhost:8080/",
          "height": 1000
        }
      },
      "source": [
        "training_history = model.fit(\n",
        "    x_train, # input\n",
        "    y_train, # output\n",
        "    batch_size = train_size,\n",
        "    verbose = 1, # Suppress chatty output; use Tensorboard instead\n",
        "    epochs = 100,\n",
        "    validation_data = (x_test, y_test),\n",
        "    callbacks=[tensorboard_callback]\n",
        ")"
      ],
      "execution_count": 170,
      "outputs": [
        {
          "output_type": "stream",
          "text": [
            "Epoch 1/100\n",
            "1/1 [==============================] - 0s 69ms/step - loss: 13720.1641 - val_loss: 9138030401028096.0000\n",
            "Epoch 2/100\n",
            "1/1 [==============================] - 0s 33ms/step - loss: 9052687253372928.0000 - val_loss: 6543168737373883960035115008.0000\n",
            "Epoch 3/100\n",
            "1/1 [==============================] - 0s 32ms/step - loss: 6481186496694599149194051584.0000 - val_loss: inf\n",
            "Epoch 4/100\n",
            "1/1 [==============================] - 0s 30ms/step - loss: inf - val_loss: inf\n",
            "Epoch 5/100\n",
            "1/1 [==============================] - 0s 32ms/step - loss: inf - val_loss: inf\n",
            "Epoch 6/100\n",
            "1/1 [==============================] - 0s 31ms/step - loss: inf - val_loss: inf\n",
            "Epoch 7/100\n",
            "1/1 [==============================] - 0s 40ms/step - loss: inf - val_loss: nan\n",
            "Epoch 8/100\n",
            "1/1 [==============================] - 0s 32ms/step - loss: nan - val_loss: nan\n",
            "Epoch 9/100\n",
            "1/1 [==============================] - 0s 31ms/step - loss: nan - val_loss: nan\n",
            "Epoch 10/100\n",
            "1/1 [==============================] - 0s 30ms/step - loss: nan - val_loss: nan\n",
            "Epoch 11/100\n",
            "1/1 [==============================] - 0s 31ms/step - loss: nan - val_loss: nan\n",
            "Epoch 12/100\n",
            "1/1 [==============================] - 0s 33ms/step - loss: nan - val_loss: nan\n",
            "Epoch 13/100\n",
            "1/1 [==============================] - 0s 30ms/step - loss: nan - val_loss: nan\n",
            "Epoch 14/100\n",
            "1/1 [==============================] - 0s 31ms/step - loss: nan - val_loss: nan\n",
            "Epoch 15/100\n",
            "1/1 [==============================] - 0s 32ms/step - loss: nan - val_loss: nan\n",
            "Epoch 16/100\n",
            "1/1 [==============================] - 0s 36ms/step - loss: nan - val_loss: nan\n",
            "Epoch 17/100\n",
            "1/1 [==============================] - 0s 31ms/step - loss: nan - val_loss: nan\n",
            "Epoch 18/100\n",
            "1/1 [==============================] - 0s 34ms/step - loss: nan - val_loss: nan\n",
            "Epoch 19/100\n",
            "1/1 [==============================] - 0s 32ms/step - loss: nan - val_loss: nan\n",
            "Epoch 20/100\n",
            "1/1 [==============================] - 0s 30ms/step - loss: nan - val_loss: nan\n",
            "Epoch 21/100\n",
            "1/1 [==============================] - 0s 32ms/step - loss: nan - val_loss: nan\n",
            "Epoch 22/100\n",
            "1/1 [==============================] - 0s 32ms/step - loss: nan - val_loss: nan\n",
            "Epoch 23/100\n",
            "1/1 [==============================] - 0s 32ms/step - loss: nan - val_loss: nan\n",
            "Epoch 24/100\n",
            "1/1 [==============================] - 0s 30ms/step - loss: nan - val_loss: nan\n",
            "Epoch 25/100\n",
            "1/1 [==============================] - 0s 31ms/step - loss: nan - val_loss: nan\n",
            "Epoch 26/100\n",
            "1/1 [==============================] - 0s 39ms/step - loss: nan - val_loss: nan\n",
            "Epoch 27/100\n",
            "1/1 [==============================] - 0s 37ms/step - loss: nan - val_loss: nan\n",
            "Epoch 28/100\n",
            "1/1 [==============================] - 0s 36ms/step - loss: nan - val_loss: nan\n",
            "Epoch 29/100\n",
            "1/1 [==============================] - 0s 37ms/step - loss: nan - val_loss: nan\n",
            "Epoch 30/100\n",
            "1/1 [==============================] - 0s 33ms/step - loss: nan - val_loss: nan\n",
            "Epoch 31/100\n",
            "1/1 [==============================] - 0s 33ms/step - loss: nan - val_loss: nan\n",
            "Epoch 32/100\n",
            "1/1 [==============================] - 0s 30ms/step - loss: nan - val_loss: nan\n",
            "Epoch 33/100\n",
            "1/1 [==============================] - 0s 37ms/step - loss: nan - val_loss: nan\n",
            "Epoch 34/100\n",
            "1/1 [==============================] - 0s 34ms/step - loss: nan - val_loss: nan\n",
            "Epoch 35/100\n",
            "1/1 [==============================] - 0s 32ms/step - loss: nan - val_loss: nan\n",
            "Epoch 36/100\n",
            "1/1 [==============================] - 0s 38ms/step - loss: nan - val_loss: nan\n",
            "Epoch 37/100\n",
            "1/1 [==============================] - 0s 32ms/step - loss: nan - val_loss: nan\n",
            "Epoch 38/100\n",
            "1/1 [==============================] - 0s 31ms/step - loss: nan - val_loss: nan\n",
            "Epoch 39/100\n",
            "1/1 [==============================] - 0s 30ms/step - loss: nan - val_loss: nan\n",
            "Epoch 40/100\n",
            "1/1 [==============================] - 0s 31ms/step - loss: nan - val_loss: nan\n",
            "Epoch 41/100\n",
            "1/1 [==============================] - 0s 32ms/step - loss: nan - val_loss: nan\n",
            "Epoch 42/100\n",
            "1/1 [==============================] - 0s 31ms/step - loss: nan - val_loss: nan\n",
            "Epoch 43/100\n",
            "1/1 [==============================] - 0s 31ms/step - loss: nan - val_loss: nan\n",
            "Epoch 44/100\n",
            "1/1 [==============================] - 0s 30ms/step - loss: nan - val_loss: nan\n",
            "Epoch 45/100\n",
            "1/1 [==============================] - 0s 32ms/step - loss: nan - val_loss: nan\n",
            "Epoch 46/100\n",
            "1/1 [==============================] - 0s 39ms/step - loss: nan - val_loss: nan\n",
            "Epoch 47/100\n",
            "1/1 [==============================] - 0s 34ms/step - loss: nan - val_loss: nan\n",
            "Epoch 48/100\n",
            "1/1 [==============================] - 0s 34ms/step - loss: nan - val_loss: nan\n",
            "Epoch 49/100\n",
            "1/1 [==============================] - 0s 31ms/step - loss: nan - val_loss: nan\n",
            "Epoch 50/100\n",
            "1/1 [==============================] - 0s 32ms/step - loss: nan - val_loss: nan\n",
            "Epoch 51/100\n",
            "1/1 [==============================] - 0s 32ms/step - loss: nan - val_loss: nan\n",
            "Epoch 52/100\n",
            "1/1 [==============================] - 0s 35ms/step - loss: nan - val_loss: nan\n",
            "Epoch 53/100\n",
            "1/1 [==============================] - 0s 32ms/step - loss: nan - val_loss: nan\n",
            "Epoch 54/100\n",
            "1/1 [==============================] - 0s 32ms/step - loss: nan - val_loss: nan\n",
            "Epoch 55/100\n",
            "1/1 [==============================] - 0s 40ms/step - loss: nan - val_loss: nan\n",
            "Epoch 56/100\n",
            "1/1 [==============================] - 0s 233ms/step - loss: nan - val_loss: nan\n",
            "Epoch 57/100\n",
            "1/1 [==============================] - 0s 30ms/step - loss: nan - val_loss: nan\n",
            "Epoch 58/100\n",
            "1/1 [==============================] - 0s 33ms/step - loss: nan - val_loss: nan\n",
            "Epoch 59/100\n",
            "1/1 [==============================] - 0s 31ms/step - loss: nan - val_loss: nan\n",
            "Epoch 60/100\n",
            "1/1 [==============================] - 0s 32ms/step - loss: nan - val_loss: nan\n",
            "Epoch 61/100\n",
            "1/1 [==============================] - 0s 31ms/step - loss: nan - val_loss: nan\n",
            "Epoch 62/100\n",
            "1/1 [==============================] - 0s 32ms/step - loss: nan - val_loss: nan\n",
            "Epoch 63/100\n",
            "1/1 [==============================] - 0s 34ms/step - loss: nan - val_loss: nan\n",
            "Epoch 64/100\n",
            "1/1 [==============================] - 0s 32ms/step - loss: nan - val_loss: nan\n",
            "Epoch 65/100\n",
            "1/1 [==============================] - 0s 38ms/step - loss: nan - val_loss: nan\n",
            "Epoch 66/100\n",
            "1/1 [==============================] - 0s 34ms/step - loss: nan - val_loss: nan\n",
            "Epoch 67/100\n",
            "1/1 [==============================] - 0s 31ms/step - loss: nan - val_loss: nan\n",
            "Epoch 68/100\n",
            "1/1 [==============================] - 0s 33ms/step - loss: nan - val_loss: nan\n",
            "Epoch 69/100\n",
            "1/1 [==============================] - 0s 30ms/step - loss: nan - val_loss: nan\n",
            "Epoch 70/100\n",
            "1/1 [==============================] - 0s 36ms/step - loss: nan - val_loss: nan\n",
            "Epoch 71/100\n",
            "1/1 [==============================] - 0s 35ms/step - loss: nan - val_loss: nan\n",
            "Epoch 72/100\n",
            "1/1 [==============================] - 0s 33ms/step - loss: nan - val_loss: nan\n",
            "Epoch 73/100\n",
            "1/1 [==============================] - 0s 32ms/step - loss: nan - val_loss: nan\n",
            "Epoch 74/100\n",
            "1/1 [==============================] - 0s 32ms/step - loss: nan - val_loss: nan\n",
            "Epoch 75/100\n",
            "1/1 [==============================] - 0s 41ms/step - loss: nan - val_loss: nan\n",
            "Epoch 76/100\n",
            "1/1 [==============================] - 0s 37ms/step - loss: nan - val_loss: nan\n",
            "Epoch 77/100\n",
            "1/1 [==============================] - 0s 33ms/step - loss: nan - val_loss: nan\n",
            "Epoch 78/100\n",
            "1/1 [==============================] - 0s 34ms/step - loss: nan - val_loss: nan\n",
            "Epoch 79/100\n",
            "1/1 [==============================] - 0s 32ms/step - loss: nan - val_loss: nan\n",
            "Epoch 80/100\n",
            "1/1 [==============================] - 0s 30ms/step - loss: nan - val_loss: nan\n",
            "Epoch 81/100\n",
            "1/1 [==============================] - 0s 32ms/step - loss: nan - val_loss: nan\n",
            "Epoch 82/100\n",
            "1/1 [==============================] - 0s 31ms/step - loss: nan - val_loss: nan\n",
            "Epoch 83/100\n",
            "1/1 [==============================] - 0s 36ms/step - loss: nan - val_loss: nan\n",
            "Epoch 84/100\n",
            "1/1 [==============================] - 0s 33ms/step - loss: nan - val_loss: nan\n",
            "Epoch 85/100\n",
            "1/1 [==============================] - 0s 41ms/step - loss: nan - val_loss: nan\n",
            "Epoch 86/100\n",
            "1/1 [==============================] - 0s 31ms/step - loss: nan - val_loss: nan\n",
            "Epoch 87/100\n",
            "1/1 [==============================] - 0s 32ms/step - loss: nan - val_loss: nan\n",
            "Epoch 88/100\n",
            "1/1 [==============================] - 0s 32ms/step - loss: nan - val_loss: nan\n",
            "Epoch 89/100\n",
            "1/1 [==============================] - 0s 33ms/step - loss: nan - val_loss: nan\n",
            "Epoch 90/100\n",
            "1/1 [==============================] - 0s 31ms/step - loss: nan - val_loss: nan\n",
            "Epoch 91/100\n",
            "1/1 [==============================] - 0s 33ms/step - loss: nan - val_loss: nan\n",
            "Epoch 92/100\n",
            "1/1 [==============================] - 0s 33ms/step - loss: nan - val_loss: nan\n",
            "Epoch 93/100\n",
            "1/1 [==============================] - 0s 38ms/step - loss: nan - val_loss: nan\n",
            "Epoch 94/100\n",
            "1/1 [==============================] - 0s 34ms/step - loss: nan - val_loss: nan\n",
            "Epoch 95/100\n",
            "1/1 [==============================] - 0s 43ms/step - loss: nan - val_loss: nan\n",
            "Epoch 96/100\n",
            "1/1 [==============================] - 0s 34ms/step - loss: nan - val_loss: nan\n",
            "Epoch 97/100\n",
            "1/1 [==============================] - 0s 35ms/step - loss: nan - val_loss: nan\n",
            "Epoch 98/100\n",
            "1/1 [==============================] - 0s 35ms/step - loss: nan - val_loss: nan\n",
            "Epoch 99/100\n",
            "1/1 [==============================] - 0s 34ms/step - loss: nan - val_loss: nan\n",
            "Epoch 100/100\n",
            "1/1 [==============================] - 0s 35ms/step - loss: nan - val_loss: nan\n"
          ],
          "name": "stdout"
        }
      ]
    },
    {
      "cell_type": "markdown",
      "metadata": {
        "id": "ffhg-qYV4dNX",
        "colab_type": "text"
      },
      "source": [
        "Ver como se entrenaron los pesos"
      ]
    }
  ]
}