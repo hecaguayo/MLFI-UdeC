{
  "nbformat": 4,
  "nbformat_minor": 0,
  "metadata": {
    "colab": {
      "name": "Tarea 1 MLBI.ipynb",
      "provenance": [],
      "collapsed_sections": [],
      "include_colab_link": true
    },
    "kernelspec": {
      "name": "python3",
      "display_name": "Python 3"
    }
  },
  "cells": [
    {
      "cell_type": "markdown",
      "metadata": {
        "id": "view-in-github",
        "colab_type": "text"
      },
      "source": [
        "<a href=\"https://colab.research.google.com/github/hecaguayo/Tarea1MLFBI/blob/master/Tarea_1_MLBI_copia1.ipynb\" target=\"_parent\"><img src=\"https://colab.research.google.com/assets/colab-badge.svg\" alt=\"Open In Colab\"/></a>"
      ]
    },
    {
      "cell_type": "markdown",
      "metadata": {
        "id": "a-3eVRZa63DO",
        "colab_type": "text"
      },
      "source": [
        "## **Tarea 1 de MLBI 2020-1**\n",
        "Hector Aguayo & Fabián Segura"
      ]
    },
    {
      "cell_type": "markdown",
      "metadata": {
        "id": "4_0Ji31b_K6X",
        "colab_type": "text"
      },
      "source": [
        "# IMPORTACION DE MODULOS REQUERIDOS"
      ]
    },
    {
      "cell_type": "markdown",
      "metadata": {
        "id": "HuN3ttF27UYN",
        "colab_type": "text"
      },
      "source": [
        "Se importan numpy, pandas, tensorflow, etc"
      ]
    },
    {
      "cell_type": "code",
      "metadata": {
        "id": "WPf3_xNi7N0V",
        "colab_type": "code",
        "outputId": "01c5aa53-1d2b-41f5-d63a-9b4962926d4f",
        "colab": {
          "base_uri": "https://localhost:8080/",
          "height": 34
        }
      },
      "source": [
        "from __future__ import absolute_import\n",
        "from __future__ import division\n",
        "from __future__ import print_function\n",
        "import os\n",
        "import logging\n",
        "os.environ['TF_CPP_MIN_VLOG_LEVEL'] = '0'\n",
        "os.environ['TF_CPP_MIN_LOG_LEVEL'] = '3'\n",
        "logging.getLogger(\"tensorflow\").setLevel(logging.WARNING)\n",
        "\n",
        "import numpy as np\n",
        "import pandas as pd\n",
        "from datetime import datetime\n",
        "\n",
        "import tensorflow as tf\n",
        "from tensorflow import keras\n",
        "tf.get_logger().setLevel(\"ERROR\")\n",
        "tf.autograph.set_verbosity(2)\n",
        "\n",
        "print(\"TensorFlow version: \", tf.__version__)"
      ],
      "execution_count": 1,
      "outputs": [
        {
          "output_type": "stream",
          "text": [
            "TensorFlow version:  2.2.0-rc3\n"
          ],
          "name": "stdout"
        }
      ]
    },
    {
      "cell_type": "markdown",
      "metadata": {
        "id": "Q8sEazMy72nr",
        "colab_type": "text"
      },
      "source": [
        "Se deben leer los datos de los dataset envíados, el primero es un archivo .xls"
      ]
    },
    {
      "cell_type": "markdown",
      "metadata": {
        "id": "iY0CoiVj_pYZ",
        "colab_type": "text"
      },
      "source": [
        "# LECTURA DE DATOS"
      ]
    },
    {
      "cell_type": "markdown",
      "metadata": {
        "id": "0CqnC-k8MfbX",
        "colab_type": "text"
      },
      "source": [
        "Se abre archivo desde Github y se importan usando pandas"
      ]
    },
    {
      "cell_type": "code",
      "metadata": {
        "id": "wNBdeRHe79nT",
        "colab_type": "code",
        "colab": {}
      },
      "source": [
        "url = 'https://github.com/FxknTT/TareaMLBI1/blob/master/dataset1.xlsx?raw=true'\n",
        "dataset = pd.read_excel(url)"
      ],
      "execution_count": 0,
      "outputs": []
    },
    {
      "cell_type": "markdown",
      "metadata": {
        "id": "O0Dr8WQdAIZX",
        "colab_type": "text"
      },
      "source": [
        "Se verifica que ningun dato falte"
      ]
    },
    {
      "cell_type": "code",
      "metadata": {
        "id": "ZN4VGwBTAOxV",
        "colab_type": "code",
        "outputId": "f5b2324d-907f-4bbc-db89-a4cacaf07b9a",
        "colab": {
          "base_uri": "https://localhost:8080/",
          "height": 306
        }
      },
      "source": [
        "dataset.isna().sum()"
      ],
      "execution_count": 3,
      "outputs": [
        {
          "output_type": "execute_result",
          "data": {
            "text/plain": [
              "crr_Nom                     0\n",
              "psu_Nem                     0\n",
              "psu_Leng                    0\n",
              "psu_Mate                    0\n",
              "psu_Cie                     0\n",
              "psu_Pond                    0\n",
              "Longitud                    0\n",
              "Latitud                     0\n",
              "cred_apr                    0\n",
              "distancia                   0\n",
              "F                           0\n",
              "M                           0\n",
              "PARTICULAR_SUBVENCIONADO    0\n",
              "PARTICULAR_PAGADO           0\n",
              "MUNICIPAL                   0\n",
              "cluster                     0\n",
              "dtype: int64"
            ]
          },
          "metadata": {
            "tags": []
          },
          "execution_count": 3
        }
      ]
    },
    {
      "cell_type": "markdown",
      "metadata": {
        "id": "_s2uYZipYVcq",
        "colab_type": "text"
      },
      "source": [
        "# LIMPIEZA DE DATOS"
      ]
    },
    {
      "cell_type": "markdown",
      "metadata": {
        "id": "CPeoXg6eDJAF",
        "colab_type": "text"
      },
      "source": [
        "Se debe alertar que \"crr_Nom\" es categorica, no numerica. Se convierte a un \"one hot\""
      ]
    },
    {
      "cell_type": "markdown",
      "metadata": {
        "id": "NRm0Dj5GLEPc",
        "colab_type": "text"
      },
      "source": [
        "Cambiando las carrearas a filas one hot (variables dummy)"
      ]
    },
    {
      "cell_type": "code",
      "metadata": {
        "id": "AD-yALlK7DNP",
        "colab_type": "code",
        "colab": {}
      },
      "source": [
        "carreras = pd.get_dummies(dataset['crr_Nom'],prefix=\"Carrera\")"
      ],
      "execution_count": 0,
      "outputs": []
    },
    {
      "cell_type": "markdown",
      "metadata": {
        "id": "wPt3PkPq5vYM",
        "colab_type": "text"
      },
      "source": [
        "Ahora obtenemos una nueva tabla llamada carrera en donde nos indica con valores 0 o 1 si pertenece o no a alguna Ingeniería."
      ]
    },
    {
      "cell_type": "code",
      "metadata": {
        "id": "7nZAOEq1Nu5t",
        "colab_type": "code",
        "outputId": "ef1d24e6-7cac-4a95-da35-b788bedb99ef",
        "colab": {
          "base_uri": "https://localhost:8080/",
          "height": 258
        }
      },
      "source": [
        "carreras.head() "
      ],
      "execution_count": 5,
      "outputs": [
        {
          "output_type": "execute_result",
          "data": {
            "text/html": [
              "<div>\n",
              "<style scoped>\n",
              "    .dataframe tbody tr th:only-of-type {\n",
              "        vertical-align: middle;\n",
              "    }\n",
              "\n",
              "    .dataframe tbody tr th {\n",
              "        vertical-align: top;\n",
              "    }\n",
              "\n",
              "    .dataframe thead th {\n",
              "        text-align: right;\n",
              "    }\n",
              "</style>\n",
              "<table border=\"1\" class=\"dataframe\">\n",
              "  <thead>\n",
              "    <tr style=\"text-align: right;\">\n",
              "      <th></th>\n",
              "      <th>Carrera_INGENIERIA CIVIL</th>\n",
              "      <th>Carrera_INGENIERIA CIVIL - PLAN COMUN</th>\n",
              "      <th>Carrera_INGENIERIA CIVIL AEROESPACIAL</th>\n",
              "      <th>Carrera_INGENIERIA CIVIL BIOMEDICA</th>\n",
              "      <th>Carrera_INGENIERIA CIVIL DE MATERIALES</th>\n",
              "      <th>Carrera_INGENIERIA CIVIL ELECTRICA</th>\n",
              "      <th>Carrera_INGENIERIA CIVIL ELECTRONICA</th>\n",
              "      <th>Carrera_INGENIERIA CIVIL EN TELECOMUNICACIONES</th>\n",
              "      <th>Carrera_INGENIERIA CIVIL INDUSTRIAL</th>\n",
              "      <th>Carrera_INGENIERIA CIVIL INFORMATICA</th>\n",
              "      <th>Carrera_INGENIERIA CIVIL MECANICA</th>\n",
              "      <th>Carrera_INGENIERIA CIVIL METALURGICA</th>\n",
              "      <th>Carrera_INGENIERIA CIVIL QUIMICA</th>\n",
              "      <th>Carrera_INGENIERÍA CIVIL DE MINAS</th>\n",
              "    </tr>\n",
              "  </thead>\n",
              "  <tbody>\n",
              "    <tr>\n",
              "      <th>0</th>\n",
              "      <td>0</td>\n",
              "      <td>0</td>\n",
              "      <td>0</td>\n",
              "      <td>0</td>\n",
              "      <td>0</td>\n",
              "      <td>0</td>\n",
              "      <td>0</td>\n",
              "      <td>0</td>\n",
              "      <td>1</td>\n",
              "      <td>0</td>\n",
              "      <td>0</td>\n",
              "      <td>0</td>\n",
              "      <td>0</td>\n",
              "      <td>0</td>\n",
              "    </tr>\n",
              "    <tr>\n",
              "      <th>1</th>\n",
              "      <td>0</td>\n",
              "      <td>0</td>\n",
              "      <td>0</td>\n",
              "      <td>1</td>\n",
              "      <td>0</td>\n",
              "      <td>0</td>\n",
              "      <td>0</td>\n",
              "      <td>0</td>\n",
              "      <td>0</td>\n",
              "      <td>0</td>\n",
              "      <td>0</td>\n",
              "      <td>0</td>\n",
              "      <td>0</td>\n",
              "      <td>0</td>\n",
              "    </tr>\n",
              "    <tr>\n",
              "      <th>2</th>\n",
              "      <td>0</td>\n",
              "      <td>0</td>\n",
              "      <td>0</td>\n",
              "      <td>0</td>\n",
              "      <td>0</td>\n",
              "      <td>0</td>\n",
              "      <td>0</td>\n",
              "      <td>0</td>\n",
              "      <td>0</td>\n",
              "      <td>0</td>\n",
              "      <td>0</td>\n",
              "      <td>0</td>\n",
              "      <td>1</td>\n",
              "      <td>0</td>\n",
              "    </tr>\n",
              "    <tr>\n",
              "      <th>3</th>\n",
              "      <td>0</td>\n",
              "      <td>0</td>\n",
              "      <td>0</td>\n",
              "      <td>0</td>\n",
              "      <td>0</td>\n",
              "      <td>1</td>\n",
              "      <td>0</td>\n",
              "      <td>0</td>\n",
              "      <td>0</td>\n",
              "      <td>0</td>\n",
              "      <td>0</td>\n",
              "      <td>0</td>\n",
              "      <td>0</td>\n",
              "      <td>0</td>\n",
              "    </tr>\n",
              "    <tr>\n",
              "      <th>4</th>\n",
              "      <td>0</td>\n",
              "      <td>0</td>\n",
              "      <td>0</td>\n",
              "      <td>0</td>\n",
              "      <td>0</td>\n",
              "      <td>0</td>\n",
              "      <td>0</td>\n",
              "      <td>0</td>\n",
              "      <td>0</td>\n",
              "      <td>1</td>\n",
              "      <td>0</td>\n",
              "      <td>0</td>\n",
              "      <td>0</td>\n",
              "      <td>0</td>\n",
              "    </tr>\n",
              "  </tbody>\n",
              "</table>\n",
              "</div>"
            ],
            "text/plain": [
              "   Carrera_INGENIERIA CIVIL  ...  Carrera_INGENIERÍA CIVIL DE MINAS\n",
              "0                         0  ...                                  0\n",
              "1                         0  ...                                  0\n",
              "2                         0  ...                                  0\n",
              "3                         0  ...                                  0\n",
              "4                         0  ...                                  0\n",
              "\n",
              "[5 rows x 14 columns]"
            ]
          },
          "metadata": {
            "tags": []
          },
          "execution_count": 5
        }
      ]
    },
    {
      "cell_type": "markdown",
      "metadata": {
        "id": "MO5SJIeY6Dgr",
        "colab_type": "text"
      },
      "source": [
        "Ahora juntamos nuestra dataset original con la nueva tabla obtenida."
      ]
    },
    {
      "cell_type": "code",
      "metadata": {
        "id": "hWpnsttsV6wZ",
        "colab_type": "code",
        "colab": {}
      },
      "source": [
        "dataset = pd.concat([dataset, carreras], axis=1)"
      ],
      "execution_count": 0,
      "outputs": []
    },
    {
      "cell_type": "code",
      "metadata": {
        "id": "cRM-HuND6LKp",
        "colab_type": "code",
        "outputId": "321e4d2e-1059-4802-d2b0-89fa24d6afc9",
        "colab": {
          "base_uri": "https://localhost:8080/",
          "height": 428
        }
      },
      "source": [
        "dataset.head()"
      ],
      "execution_count": 7,
      "outputs": [
        {
          "output_type": "execute_result",
          "data": {
            "text/html": [
              "<div>\n",
              "<style scoped>\n",
              "    .dataframe tbody tr th:only-of-type {\n",
              "        vertical-align: middle;\n",
              "    }\n",
              "\n",
              "    .dataframe tbody tr th {\n",
              "        vertical-align: top;\n",
              "    }\n",
              "\n",
              "    .dataframe thead th {\n",
              "        text-align: right;\n",
              "    }\n",
              "</style>\n",
              "<table border=\"1\" class=\"dataframe\">\n",
              "  <thead>\n",
              "    <tr style=\"text-align: right;\">\n",
              "      <th></th>\n",
              "      <th>crr_Nom</th>\n",
              "      <th>psu_Nem</th>\n",
              "      <th>psu_Leng</th>\n",
              "      <th>psu_Mate</th>\n",
              "      <th>psu_Cie</th>\n",
              "      <th>psu_Pond</th>\n",
              "      <th>Longitud</th>\n",
              "      <th>Latitud</th>\n",
              "      <th>cred_apr</th>\n",
              "      <th>distancia</th>\n",
              "      <th>F</th>\n",
              "      <th>M</th>\n",
              "      <th>PARTICULAR_SUBVENCIONADO</th>\n",
              "      <th>PARTICULAR_PAGADO</th>\n",
              "      <th>MUNICIPAL</th>\n",
              "      <th>cluster</th>\n",
              "      <th>Carrera_INGENIERIA CIVIL</th>\n",
              "      <th>Carrera_INGENIERIA CIVIL - PLAN COMUN</th>\n",
              "      <th>Carrera_INGENIERIA CIVIL AEROESPACIAL</th>\n",
              "      <th>Carrera_INGENIERIA CIVIL BIOMEDICA</th>\n",
              "      <th>Carrera_INGENIERIA CIVIL DE MATERIALES</th>\n",
              "      <th>Carrera_INGENIERIA CIVIL ELECTRICA</th>\n",
              "      <th>Carrera_INGENIERIA CIVIL ELECTRONICA</th>\n",
              "      <th>Carrera_INGENIERIA CIVIL EN TELECOMUNICACIONES</th>\n",
              "      <th>Carrera_INGENIERIA CIVIL INDUSTRIAL</th>\n",
              "      <th>Carrera_INGENIERIA CIVIL INFORMATICA</th>\n",
              "      <th>Carrera_INGENIERIA CIVIL MECANICA</th>\n",
              "      <th>Carrera_INGENIERIA CIVIL METALURGICA</th>\n",
              "      <th>Carrera_INGENIERIA CIVIL QUIMICA</th>\n",
              "      <th>Carrera_INGENIERÍA CIVIL DE MINAS</th>\n",
              "    </tr>\n",
              "  </thead>\n",
              "  <tbody>\n",
              "    <tr>\n",
              "      <th>0</th>\n",
              "      <td>INGENIERIA CIVIL INDUSTRIAL</td>\n",
              "      <td>783</td>\n",
              "      <td>653</td>\n",
              "      <td>685</td>\n",
              "      <td>672</td>\n",
              "      <td>735</td>\n",
              "      <td>-73.16487</td>\n",
              "      <td>-36.978759</td>\n",
              "      <td>38</td>\n",
              "      <td>20.201244</td>\n",
              "      <td>1</td>\n",
              "      <td>0</td>\n",
              "      <td>1</td>\n",
              "      <td>0</td>\n",
              "      <td>0</td>\n",
              "      <td>C2</td>\n",
              "      <td>0</td>\n",
              "      <td>0</td>\n",
              "      <td>0</td>\n",
              "      <td>0</td>\n",
              "      <td>0</td>\n",
              "      <td>0</td>\n",
              "      <td>0</td>\n",
              "      <td>0</td>\n",
              "      <td>1</td>\n",
              "      <td>0</td>\n",
              "      <td>0</td>\n",
              "      <td>0</td>\n",
              "      <td>0</td>\n",
              "      <td>0</td>\n",
              "    </tr>\n",
              "    <tr>\n",
              "      <th>1</th>\n",
              "      <td>INGENIERIA CIVIL BIOMEDICA</td>\n",
              "      <td>799</td>\n",
              "      <td>705</td>\n",
              "      <td>713</td>\n",
              "      <td>686</td>\n",
              "      <td>756</td>\n",
              "      <td>-73.16487</td>\n",
              "      <td>-36.978759</td>\n",
              "      <td>36</td>\n",
              "      <td>20.201244</td>\n",
              "      <td>1</td>\n",
              "      <td>0</td>\n",
              "      <td>1</td>\n",
              "      <td>0</td>\n",
              "      <td>0</td>\n",
              "      <td>C1</td>\n",
              "      <td>0</td>\n",
              "      <td>0</td>\n",
              "      <td>0</td>\n",
              "      <td>1</td>\n",
              "      <td>0</td>\n",
              "      <td>0</td>\n",
              "      <td>0</td>\n",
              "      <td>0</td>\n",
              "      <td>0</td>\n",
              "      <td>0</td>\n",
              "      <td>0</td>\n",
              "      <td>0</td>\n",
              "      <td>0</td>\n",
              "      <td>0</td>\n",
              "    </tr>\n",
              "    <tr>\n",
              "      <th>2</th>\n",
              "      <td>INGENIERIA CIVIL QUIMICA</td>\n",
              "      <td>688</td>\n",
              "      <td>543</td>\n",
              "      <td>612</td>\n",
              "      <td>534</td>\n",
              "      <td>638</td>\n",
              "      <td>-73.16487</td>\n",
              "      <td>-36.978759</td>\n",
              "      <td>36</td>\n",
              "      <td>20.201244</td>\n",
              "      <td>1</td>\n",
              "      <td>0</td>\n",
              "      <td>1</td>\n",
              "      <td>0</td>\n",
              "      <td>0</td>\n",
              "      <td>C3</td>\n",
              "      <td>0</td>\n",
              "      <td>0</td>\n",
              "      <td>0</td>\n",
              "      <td>0</td>\n",
              "      <td>0</td>\n",
              "      <td>0</td>\n",
              "      <td>0</td>\n",
              "      <td>0</td>\n",
              "      <td>0</td>\n",
              "      <td>0</td>\n",
              "      <td>0</td>\n",
              "      <td>0</td>\n",
              "      <td>1</td>\n",
              "      <td>0</td>\n",
              "    </tr>\n",
              "    <tr>\n",
              "      <th>3</th>\n",
              "      <td>INGENIERIA CIVIL ELECTRICA</td>\n",
              "      <td>605</td>\n",
              "      <td>598</td>\n",
              "      <td>658</td>\n",
              "      <td>601</td>\n",
              "      <td>633</td>\n",
              "      <td>-73.16487</td>\n",
              "      <td>-36.978759</td>\n",
              "      <td>21</td>\n",
              "      <td>20.201244</td>\n",
              "      <td>0</td>\n",
              "      <td>1</td>\n",
              "      <td>1</td>\n",
              "      <td>0</td>\n",
              "      <td>0</td>\n",
              "      <td>C2</td>\n",
              "      <td>0</td>\n",
              "      <td>0</td>\n",
              "      <td>0</td>\n",
              "      <td>0</td>\n",
              "      <td>0</td>\n",
              "      <td>1</td>\n",
              "      <td>0</td>\n",
              "      <td>0</td>\n",
              "      <td>0</td>\n",
              "      <td>0</td>\n",
              "      <td>0</td>\n",
              "      <td>0</td>\n",
              "      <td>0</td>\n",
              "      <td>0</td>\n",
              "    </tr>\n",
              "    <tr>\n",
              "      <th>4</th>\n",
              "      <td>INGENIERIA CIVIL INFORMATICA</td>\n",
              "      <td>603</td>\n",
              "      <td>710</td>\n",
              "      <td>668</td>\n",
              "      <td>651</td>\n",
              "      <td>657</td>\n",
              "      <td>-73.16487</td>\n",
              "      <td>-36.978759</td>\n",
              "      <td>19</td>\n",
              "      <td>20.201244</td>\n",
              "      <td>0</td>\n",
              "      <td>1</td>\n",
              "      <td>1</td>\n",
              "      <td>0</td>\n",
              "      <td>0</td>\n",
              "      <td>C2</td>\n",
              "      <td>0</td>\n",
              "      <td>0</td>\n",
              "      <td>0</td>\n",
              "      <td>0</td>\n",
              "      <td>0</td>\n",
              "      <td>0</td>\n",
              "      <td>0</td>\n",
              "      <td>0</td>\n",
              "      <td>0</td>\n",
              "      <td>1</td>\n",
              "      <td>0</td>\n",
              "      <td>0</td>\n",
              "      <td>0</td>\n",
              "      <td>0</td>\n",
              "    </tr>\n",
              "  </tbody>\n",
              "</table>\n",
              "</div>"
            ],
            "text/plain": [
              "                        crr_Nom  ...  Carrera_INGENIERÍA CIVIL DE MINAS\n",
              "0   INGENIERIA CIVIL INDUSTRIAL  ...                                  0\n",
              "1    INGENIERIA CIVIL BIOMEDICA  ...                                  0\n",
              "2      INGENIERIA CIVIL QUIMICA  ...                                  0\n",
              "3    INGENIERIA CIVIL ELECTRICA  ...                                  0\n",
              "4  INGENIERIA CIVIL INFORMATICA  ...                                  0\n",
              "\n",
              "[5 rows x 30 columns]"
            ]
          },
          "metadata": {
            "tags": []
          },
          "execution_count": 7
        }
      ]
    },
    {
      "cell_type": "markdown",
      "metadata": {
        "id": "VkueVNSr6ab0",
        "colab_type": "text"
      },
      "source": [
        "Ahora procedemos a quitar la variale Crr_Nom"
      ]
    },
    {
      "cell_type": "code",
      "metadata": {
        "id": "aS0-FDEZ2bxy",
        "colab_type": "code",
        "colab": {}
      },
      "source": [
        "dataset = dataset.drop([\"crr_Nom\"],axis=1)"
      ],
      "execution_count": 0,
      "outputs": []
    },
    {
      "cell_type": "markdown",
      "metadata": {
        "id": "obNjW61i2xLM",
        "colab_type": "text"
      },
      "source": [
        "Revisamos nuestras variables"
      ]
    },
    {
      "cell_type": "code",
      "metadata": {
        "id": "vfOHCHDnYJ1b",
        "colab_type": "code",
        "outputId": "a56ec508-2f4b-4854-ba06-dc20eec9ad38",
        "colab": {
          "base_uri": "https://localhost:8080/",
          "height": 527
        }
      },
      "source": [
        "dataset.isna().sum() #Revisamos que todas las variables tengan datos."
      ],
      "execution_count": 9,
      "outputs": [
        {
          "output_type": "execute_result",
          "data": {
            "text/plain": [
              "psu_Nem                                           0\n",
              "psu_Leng                                          0\n",
              "psu_Mate                                          0\n",
              "psu_Cie                                           0\n",
              "psu_Pond                                          0\n",
              "Longitud                                          0\n",
              "Latitud                                           0\n",
              "cred_apr                                          0\n",
              "distancia                                         0\n",
              "F                                                 0\n",
              "M                                                 0\n",
              "PARTICULAR_SUBVENCIONADO                          0\n",
              "PARTICULAR_PAGADO                                 0\n",
              "MUNICIPAL                                         0\n",
              "cluster                                           0\n",
              "Carrera_INGENIERIA CIVIL                          0\n",
              "Carrera_INGENIERIA CIVIL - PLAN COMUN             0\n",
              "Carrera_INGENIERIA CIVIL AEROESPACIAL             0\n",
              "Carrera_INGENIERIA CIVIL BIOMEDICA                0\n",
              "Carrera_INGENIERIA CIVIL DE MATERIALES            0\n",
              "Carrera_INGENIERIA CIVIL ELECTRICA                0\n",
              "Carrera_INGENIERIA CIVIL ELECTRONICA              0\n",
              "Carrera_INGENIERIA CIVIL EN TELECOMUNICACIONES    0\n",
              "Carrera_INGENIERIA CIVIL INDUSTRIAL               0\n",
              "Carrera_INGENIERIA CIVIL INFORMATICA              0\n",
              "Carrera_INGENIERIA CIVIL MECANICA                 0\n",
              "Carrera_INGENIERIA CIVIL METALURGICA              0\n",
              "Carrera_INGENIERIA CIVIL QUIMICA                  0\n",
              "Carrera_INGENIERÍA CIVIL DE MINAS                 0\n",
              "dtype: int64"
            ]
          },
          "metadata": {
            "tags": []
          },
          "execution_count": 9
        }
      ]
    },
    {
      "cell_type": "markdown",
      "metadata": {
        "id": "Qf0EDQ0GoV_a",
        "colab_type": "text"
      },
      "source": [
        "**Ahora procedemos a realizar los mismos pasos anteriores con la variables CLUSTER.**"
      ]
    },
    {
      "cell_type": "code",
      "metadata": {
        "id": "W4Pfc7HtGSpv",
        "colab_type": "code",
        "outputId": "75b0e072-46de-4561-86a8-95f592c785d6",
        "colab": {
          "base_uri": "https://localhost:8080/",
          "height": 258
        }
      },
      "source": [
        "dataset.head()"
      ],
      "execution_count": 10,
      "outputs": [
        {
          "output_type": "execute_result",
          "data": {
            "text/html": [
              "<div>\n",
              "<style scoped>\n",
              "    .dataframe tbody tr th:only-of-type {\n",
              "        vertical-align: middle;\n",
              "    }\n",
              "\n",
              "    .dataframe tbody tr th {\n",
              "        vertical-align: top;\n",
              "    }\n",
              "\n",
              "    .dataframe thead th {\n",
              "        text-align: right;\n",
              "    }\n",
              "</style>\n",
              "<table border=\"1\" class=\"dataframe\">\n",
              "  <thead>\n",
              "    <tr style=\"text-align: right;\">\n",
              "      <th></th>\n",
              "      <th>psu_Nem</th>\n",
              "      <th>psu_Leng</th>\n",
              "      <th>psu_Mate</th>\n",
              "      <th>psu_Cie</th>\n",
              "      <th>psu_Pond</th>\n",
              "      <th>Longitud</th>\n",
              "      <th>Latitud</th>\n",
              "      <th>cred_apr</th>\n",
              "      <th>distancia</th>\n",
              "      <th>F</th>\n",
              "      <th>M</th>\n",
              "      <th>PARTICULAR_SUBVENCIONADO</th>\n",
              "      <th>PARTICULAR_PAGADO</th>\n",
              "      <th>MUNICIPAL</th>\n",
              "      <th>cluster</th>\n",
              "      <th>Carrera_INGENIERIA CIVIL</th>\n",
              "      <th>Carrera_INGENIERIA CIVIL - PLAN COMUN</th>\n",
              "      <th>Carrera_INGENIERIA CIVIL AEROESPACIAL</th>\n",
              "      <th>Carrera_INGENIERIA CIVIL BIOMEDICA</th>\n",
              "      <th>Carrera_INGENIERIA CIVIL DE MATERIALES</th>\n",
              "      <th>Carrera_INGENIERIA CIVIL ELECTRICA</th>\n",
              "      <th>Carrera_INGENIERIA CIVIL ELECTRONICA</th>\n",
              "      <th>Carrera_INGENIERIA CIVIL EN TELECOMUNICACIONES</th>\n",
              "      <th>Carrera_INGENIERIA CIVIL INDUSTRIAL</th>\n",
              "      <th>Carrera_INGENIERIA CIVIL INFORMATICA</th>\n",
              "      <th>Carrera_INGENIERIA CIVIL MECANICA</th>\n",
              "      <th>Carrera_INGENIERIA CIVIL METALURGICA</th>\n",
              "      <th>Carrera_INGENIERIA CIVIL QUIMICA</th>\n",
              "      <th>Carrera_INGENIERÍA CIVIL DE MINAS</th>\n",
              "    </tr>\n",
              "  </thead>\n",
              "  <tbody>\n",
              "    <tr>\n",
              "      <th>0</th>\n",
              "      <td>783</td>\n",
              "      <td>653</td>\n",
              "      <td>685</td>\n",
              "      <td>672</td>\n",
              "      <td>735</td>\n",
              "      <td>-73.16487</td>\n",
              "      <td>-36.978759</td>\n",
              "      <td>38</td>\n",
              "      <td>20.201244</td>\n",
              "      <td>1</td>\n",
              "      <td>0</td>\n",
              "      <td>1</td>\n",
              "      <td>0</td>\n",
              "      <td>0</td>\n",
              "      <td>C2</td>\n",
              "      <td>0</td>\n",
              "      <td>0</td>\n",
              "      <td>0</td>\n",
              "      <td>0</td>\n",
              "      <td>0</td>\n",
              "      <td>0</td>\n",
              "      <td>0</td>\n",
              "      <td>0</td>\n",
              "      <td>1</td>\n",
              "      <td>0</td>\n",
              "      <td>0</td>\n",
              "      <td>0</td>\n",
              "      <td>0</td>\n",
              "      <td>0</td>\n",
              "    </tr>\n",
              "    <tr>\n",
              "      <th>1</th>\n",
              "      <td>799</td>\n",
              "      <td>705</td>\n",
              "      <td>713</td>\n",
              "      <td>686</td>\n",
              "      <td>756</td>\n",
              "      <td>-73.16487</td>\n",
              "      <td>-36.978759</td>\n",
              "      <td>36</td>\n",
              "      <td>20.201244</td>\n",
              "      <td>1</td>\n",
              "      <td>0</td>\n",
              "      <td>1</td>\n",
              "      <td>0</td>\n",
              "      <td>0</td>\n",
              "      <td>C1</td>\n",
              "      <td>0</td>\n",
              "      <td>0</td>\n",
              "      <td>0</td>\n",
              "      <td>1</td>\n",
              "      <td>0</td>\n",
              "      <td>0</td>\n",
              "      <td>0</td>\n",
              "      <td>0</td>\n",
              "      <td>0</td>\n",
              "      <td>0</td>\n",
              "      <td>0</td>\n",
              "      <td>0</td>\n",
              "      <td>0</td>\n",
              "      <td>0</td>\n",
              "    </tr>\n",
              "    <tr>\n",
              "      <th>2</th>\n",
              "      <td>688</td>\n",
              "      <td>543</td>\n",
              "      <td>612</td>\n",
              "      <td>534</td>\n",
              "      <td>638</td>\n",
              "      <td>-73.16487</td>\n",
              "      <td>-36.978759</td>\n",
              "      <td>36</td>\n",
              "      <td>20.201244</td>\n",
              "      <td>1</td>\n",
              "      <td>0</td>\n",
              "      <td>1</td>\n",
              "      <td>0</td>\n",
              "      <td>0</td>\n",
              "      <td>C3</td>\n",
              "      <td>0</td>\n",
              "      <td>0</td>\n",
              "      <td>0</td>\n",
              "      <td>0</td>\n",
              "      <td>0</td>\n",
              "      <td>0</td>\n",
              "      <td>0</td>\n",
              "      <td>0</td>\n",
              "      <td>0</td>\n",
              "      <td>0</td>\n",
              "      <td>0</td>\n",
              "      <td>0</td>\n",
              "      <td>1</td>\n",
              "      <td>0</td>\n",
              "    </tr>\n",
              "    <tr>\n",
              "      <th>3</th>\n",
              "      <td>605</td>\n",
              "      <td>598</td>\n",
              "      <td>658</td>\n",
              "      <td>601</td>\n",
              "      <td>633</td>\n",
              "      <td>-73.16487</td>\n",
              "      <td>-36.978759</td>\n",
              "      <td>21</td>\n",
              "      <td>20.201244</td>\n",
              "      <td>0</td>\n",
              "      <td>1</td>\n",
              "      <td>1</td>\n",
              "      <td>0</td>\n",
              "      <td>0</td>\n",
              "      <td>C2</td>\n",
              "      <td>0</td>\n",
              "      <td>0</td>\n",
              "      <td>0</td>\n",
              "      <td>0</td>\n",
              "      <td>0</td>\n",
              "      <td>1</td>\n",
              "      <td>0</td>\n",
              "      <td>0</td>\n",
              "      <td>0</td>\n",
              "      <td>0</td>\n",
              "      <td>0</td>\n",
              "      <td>0</td>\n",
              "      <td>0</td>\n",
              "      <td>0</td>\n",
              "    </tr>\n",
              "    <tr>\n",
              "      <th>4</th>\n",
              "      <td>603</td>\n",
              "      <td>710</td>\n",
              "      <td>668</td>\n",
              "      <td>651</td>\n",
              "      <td>657</td>\n",
              "      <td>-73.16487</td>\n",
              "      <td>-36.978759</td>\n",
              "      <td>19</td>\n",
              "      <td>20.201244</td>\n",
              "      <td>0</td>\n",
              "      <td>1</td>\n",
              "      <td>1</td>\n",
              "      <td>0</td>\n",
              "      <td>0</td>\n",
              "      <td>C2</td>\n",
              "      <td>0</td>\n",
              "      <td>0</td>\n",
              "      <td>0</td>\n",
              "      <td>0</td>\n",
              "      <td>0</td>\n",
              "      <td>0</td>\n",
              "      <td>0</td>\n",
              "      <td>0</td>\n",
              "      <td>0</td>\n",
              "      <td>1</td>\n",
              "      <td>0</td>\n",
              "      <td>0</td>\n",
              "      <td>0</td>\n",
              "      <td>0</td>\n",
              "    </tr>\n",
              "  </tbody>\n",
              "</table>\n",
              "</div>"
            ],
            "text/plain": [
              "   psu_Nem  ...  Carrera_INGENIERÍA CIVIL DE MINAS\n",
              "0      783  ...                                  0\n",
              "1      799  ...                                  0\n",
              "2      688  ...                                  0\n",
              "3      605  ...                                  0\n",
              "4      603  ...                                  0\n",
              "\n",
              "[5 rows x 29 columns]"
            ]
          },
          "metadata": {
            "tags": []
          },
          "execution_count": 10
        }
      ]
    },
    {
      "cell_type": "markdown",
      "metadata": {
        "id": "yHRPCvz43i3Z",
        "colab_type": "text"
      },
      "source": [
        "Creamos una variable y, que tiene los valores que deseamos predecir."
      ]
    },
    {
      "cell_type": "code",
      "metadata": {
        "id": "DfBkYOmB3ZLs",
        "colab_type": "code",
        "outputId": "4e7f666d-2afc-4816-f043-88c0b5fbb053",
        "colab": {
          "base_uri": "https://localhost:8080/",
          "height": 255
        }
      },
      "source": [
        "y = pd.get_dummies(dataset['cluster'],prefix=\"CLUSTER\")\n",
        "print(y)"
      ],
      "execution_count": 11,
      "outputs": [
        {
          "output_type": "stream",
          "text": [
            "      CLUSTER_C1  CLUSTER_C2  CLUSTER_C3  CLUSTER_C4\n",
            "0              0           1           0           0\n",
            "1              1           0           0           0\n",
            "2              0           0           1           0\n",
            "3              0           1           0           0\n",
            "4              0           1           0           0\n",
            "...          ...         ...         ...         ...\n",
            "7861           0           1           0           0\n",
            "7862           0           1           0           0\n",
            "7863           0           0           1           0\n",
            "7864           0           1           0           0\n",
            "7865           0           0           0           1\n",
            "\n",
            "[7866 rows x 4 columns]\n"
          ],
          "name": "stdout"
        }
      ]
    },
    {
      "cell_type": "markdown",
      "metadata": {
        "id": "cPOy3Dwp7jKO",
        "colab_type": "text"
      },
      "source": [
        "Por último quitamos la variable cluster de nuestro dataset.\n",
        "\n"
      ]
    },
    {
      "cell_type": "code",
      "metadata": {
        "id": "_DfI3hEn3tfh",
        "colab_type": "code",
        "colab": {}
      },
      "source": [
        "dataset = dataset.drop([\"cluster\"],axis=1)"
      ],
      "execution_count": 0,
      "outputs": []
    },
    {
      "cell_type": "code",
      "metadata": {
        "id": "45cl_7YN3x7R",
        "colab_type": "code",
        "outputId": "9ff7ee0e-11d0-445a-cb43-2ae86ff5b93a",
        "colab": {
          "base_uri": "https://localhost:8080/",
          "height": 595
        }
      },
      "source": [
        "print(dataset.isna().sum())\n",
        "print(y.isna().sum())"
      ],
      "execution_count": 13,
      "outputs": [
        {
          "output_type": "stream",
          "text": [
            "psu_Nem                                           0\n",
            "psu_Leng                                          0\n",
            "psu_Mate                                          0\n",
            "psu_Cie                                           0\n",
            "psu_Pond                                          0\n",
            "Longitud                                          0\n",
            "Latitud                                           0\n",
            "cred_apr                                          0\n",
            "distancia                                         0\n",
            "F                                                 0\n",
            "M                                                 0\n",
            "PARTICULAR_SUBVENCIONADO                          0\n",
            "PARTICULAR_PAGADO                                 0\n",
            "MUNICIPAL                                         0\n",
            "Carrera_INGENIERIA CIVIL                          0\n",
            "Carrera_INGENIERIA CIVIL - PLAN COMUN             0\n",
            "Carrera_INGENIERIA CIVIL AEROESPACIAL             0\n",
            "Carrera_INGENIERIA CIVIL BIOMEDICA                0\n",
            "Carrera_INGENIERIA CIVIL DE MATERIALES            0\n",
            "Carrera_INGENIERIA CIVIL ELECTRICA                0\n",
            "Carrera_INGENIERIA CIVIL ELECTRONICA              0\n",
            "Carrera_INGENIERIA CIVIL EN TELECOMUNICACIONES    0\n",
            "Carrera_INGENIERIA CIVIL INDUSTRIAL               0\n",
            "Carrera_INGENIERIA CIVIL INFORMATICA              0\n",
            "Carrera_INGENIERIA CIVIL MECANICA                 0\n",
            "Carrera_INGENIERIA CIVIL METALURGICA              0\n",
            "Carrera_INGENIERIA CIVIL QUIMICA                  0\n",
            "Carrera_INGENIERÍA CIVIL DE MINAS                 0\n",
            "dtype: int64\n",
            "CLUSTER_C1    0\n",
            "CLUSTER_C2    0\n",
            "CLUSTER_C3    0\n",
            "CLUSTER_C4    0\n",
            "dtype: int64\n"
          ],
          "name": "stdout"
        }
      ]
    },
    {
      "cell_type": "markdown",
      "metadata": {
        "id": "-250bRWC37SK",
        "colab_type": "text"
      },
      "source": [
        "Finalmente tenemos nuestro dataset con sólo variables numericas y además nuestra matriz y con los valores que desaemos predecir."
      ]
    },
    {
      "cell_type": "markdown",
      "metadata": {
        "id": "qvfHhXRi_xs1",
        "colab_type": "text"
      },
      "source": [
        "# DEFINIENDO RANGOS DE ENTRENAMIENTO Y TESTEO"
      ]
    },
    {
      "cell_type": "markdown",
      "metadata": {
        "id": "5JzagmEAaw7u",
        "colab_type": "text"
      },
      "source": [
        "Primero realizamos un cast a nuestro dataset y nuestra tabla y, transformando ambas en un dtype=tf.float64"
      ]
    },
    {
      "cell_type": "code",
      "metadata": {
        "id": "QZOwsc-9OPqA",
        "colab_type": "code",
        "colab": {}
      },
      "source": [
        "x = tf.cast(dataset, dtype=tf.float64)\n",
        "y = tf.cast(y, dtype=tf.float64)"
      ],
      "execution_count": 0,
      "outputs": []
    },
    {
      "cell_type": "markdown",
      "metadata": {
        "id": "PrF3pb9VTJc-",
        "colab_type": "text"
      },
      "source": [
        "Revisamos que se haya realizado correctamente"
      ]
    },
    {
      "cell_type": "code",
      "metadata": {
        "id": "W0ehmsynPFBd",
        "colab_type": "code",
        "outputId": "cae01b2c-9917-464e-b222-c5661a67505f",
        "colab": {
          "base_uri": "https://localhost:8080/",
          "height": 289
        }
      },
      "source": [
        "print(x)\n",
        "print(y)"
      ],
      "execution_count": 15,
      "outputs": [
        {
          "output_type": "stream",
          "text": [
            "tf.Tensor(\n",
            "[[783. 653. 685. ...   0.   0.   0.]\n",
            " [799. 705. 713. ...   0.   0.   0.]\n",
            " [688. 543. 612. ...   0.   1.   0.]\n",
            " ...\n",
            " [641. 598. 640. ...   0.   0.   0.]\n",
            " [641. 653. 595. ...   0.   0.   0.]\n",
            " [641. 524. 554. ...   0.   0.   0.]], shape=(7866, 28), dtype=float64)\n",
            "tf.Tensor(\n",
            "[[0. 1. 0. 0.]\n",
            " [1. 0. 0. 0.]\n",
            " [0. 0. 1. 0.]\n",
            " ...\n",
            " [0. 0. 1. 0.]\n",
            " [0. 1. 0. 0.]\n",
            " [0. 0. 0. 1.]], shape=(7866, 4), dtype=float64)\n"
          ],
          "name": "stdout"
        }
      ]
    },
    {
      "cell_type": "markdown",
      "metadata": {
        "id": "CWJWduIzTN_0",
        "colab_type": "text"
      },
      "source": [
        "Ahora dividimos nuestros datos en un 80% den entrenamiento y un 20% en testeo."
      ]
    },
    {
      "cell_type": "code",
      "metadata": {
        "id": "Q_7UInsUBAba",
        "colab_type": "code",
        "outputId": "d75e87df-addf-4d89-8627-4133d2586391",
        "colab": {
          "base_uri": "https://localhost:8080/",
          "height": 35
        }
      },
      "source": [
        "data_size = len(dataset)\n",
        "train_pct = 0.8\n",
        "\n",
        "train_size = int(data_size * train_pct)\n",
        "print(train_size)\n",
        "\n",
        "x_train, y_train = x[:train_size], y[:train_size]\n",
        "x_test, y_test = x[train_size:], y[train_size:]"
      ],
      "execution_count": 0,
      "outputs": [
        {
          "output_type": "stream",
          "text": [
            "6292\n"
          ],
          "name": "stdout"
        }
      ]
    },
    {
      "cell_type": "code",
      "metadata": {
        "id": "hSrencTWiMT5",
        "colab_type": "code",
        "colab": {}
      },
      "source": [
        "#x_train.shape[0], x_test.shape[0]\n",
        "#x_train"
      ],
      "execution_count": 0,
      "outputs": []
    },
    {
      "cell_type": "markdown",
      "metadata": {
        "id": "wF09F7gmTdlM",
        "colab_type": "text"
      },
      "source": [
        "Revisamos"
      ]
    },
    {
      "cell_type": "code",
      "metadata": {
        "id": "8mXfvVs5QdSO",
        "colab_type": "code",
        "outputId": "79f8a7ff-2226-4cb4-cce6-75878dc454d9",
        "colab": {
          "base_uri": "https://localhost:8080/",
          "height": 586
        }
      },
      "source": [
        "print(x_train)\n",
        "print(y_train)\n",
        "print(x_test)\n",
        "print(y_test)"
      ],
      "execution_count": 0,
      "outputs": [
        {
          "output_type": "stream",
          "text": [
            "tf.Tensor(\n",
            "[[783. 653. 685. ...   0.   0.   0.]\n",
            " [799. 705. 713. ...   0.   0.   0.]\n",
            " [688. 543. 612. ...   0.   1.   0.]\n",
            " ...\n",
            " [661. 626. 759. ...   0.   0.   0.]\n",
            " [661. 620. 708. ...   0.   0.   0.]\n",
            " [599. 547. 694. ...   0.   0.   0.]], shape=(6292, 28), dtype=float64)\n",
            "tf.Tensor(\n",
            "[[0. 1. 0. 0.]\n",
            " [1. 0. 0. 0.]\n",
            " [0. 0. 1. 0.]\n",
            " ...\n",
            " [0. 1. 0. 0.]\n",
            " [0. 1. 0. 0.]\n",
            " [0. 1. 0. 0.]], shape=(6292, 4), dtype=float64)\n",
            "tf.Tensor(\n",
            "[[661. 542. 637. ...   1.   0.   0.]\n",
            " [608. 560. 648. ...   1.   0.   0.]\n",
            " [554. 660. 664. ...   1.   0.   0.]\n",
            " ...\n",
            " [641. 598. 640. ...   0.   0.   0.]\n",
            " [641. 653. 595. ...   0.   0.   0.]\n",
            " [641. 524. 554. ...   0.   0.   0.]], shape=(1574, 28), dtype=float64)\n",
            "tf.Tensor(\n",
            "[[0. 1. 0. 0.]\n",
            " [0. 1. 0. 0.]\n",
            " [0. 1. 0. 0.]\n",
            " ...\n",
            " [0. 0. 1. 0.]\n",
            " [0. 1. 0. 0.]\n",
            " [0. 0. 0. 1.]], shape=(1574, 4), dtype=float64)\n"
          ],
          "name": "stdout"
        }
      ]
    },
    {
      "cell_type": "markdown",
      "metadata": {
        "id": "8SkdsfUca-Iz",
        "colab_type": "text"
      },
      "source": [
        "# CREACION DE MODELO"
      ]
    },
    {
      "cell_type": "markdown",
      "metadata": {
        "id": "MOWn7jnkbKpf",
        "colab_type": "text"
      },
      "source": [
        "Definición de layers"
      ]
    },
    {
      "cell_type": "markdown",
      "metadata": {
        "id": "e8PxXNuy4GSt",
        "colab_type": "text"
      },
      "source": [
        "Modelo"
      ]
    },
    {
      "cell_type": "markdown",
      "metadata": {
        "id": "xKNrws4OnMII",
        "colab_type": "text"
      },
      "source": [
        "Acá es para usar lo de tensorboard, pero no sé como funciona en Colab"
      ]
    },
    {
      "cell_type": "code",
      "metadata": {
        "id": "OGADTGIDdhQu",
        "colab_type": "code",
        "colab": {}
      },
      "source": [
        "logdir = \"logs\\\\tf_keras\\\\\" + datetime.now().strftime(\"%Y%m%d-%H%M%S\")\n",
        "tensorboard_callback = keras.callbacks.TensorBoard(log_dir=logdir)\n"
      ],
      "execution_count": 0,
      "outputs": []
    },
    {
      "cell_type": "code",
      "metadata": {
        "id": "ns4oEaZXXDG2",
        "colab_type": "code",
        "outputId": "9828c3e0-e320-40f7-e534-ca0d17e2ba15",
        "colab": {
          "base_uri": "https://localhost:8080/",
          "height": 238
        }
      },
      "source": [
        ""
      ],
      "execution_count": 0,
      "outputs": [
        {
          "output_type": "error",
          "ename": "TypeError",
          "evalue": "ignored",
          "traceback": [
            "\u001b[0;31m---------------------------------------------------------------------------\u001b[0m",
            "\u001b[0;31mTypeError\u001b[0m                                 Traceback (most recent call last)",
            "\u001b[0;32m<ipython-input-17-b97a07a8954b>\u001b[0m in \u001b[0;36m<module>\u001b[0;34m()\u001b[0m\n\u001b[0;32m----> 1\u001b[0;31m \u001b[0mclassifier\u001b[0m \u001b[0;34m=\u001b[0m \u001b[0mtf\u001b[0m\u001b[0;34m.\u001b[0m\u001b[0mestimator\u001b[0m\u001b[0;34m.\u001b[0m\u001b[0mLinearClassifier\u001b[0m\u001b[0;34m(\u001b[0m\u001b[0;34m)\u001b[0m\u001b[0;34m\u001b[0m\u001b[0;34m\u001b[0m\u001b[0m\n\u001b[0m\u001b[1;32m      2\u001b[0m \u001b[0;34m\u001b[0m\u001b[0m\n\u001b[1;32m      3\u001b[0m \u001b[0;31m# Train the model on some example data.\u001b[0m\u001b[0;34m\u001b[0m\u001b[0;34m\u001b[0m\u001b[0;34m\u001b[0m\u001b[0m\n\u001b[1;32m      4\u001b[0m \u001b[0mclassifier\u001b[0m\u001b[0;34m.\u001b[0m\u001b[0mtrain\u001b[0m\u001b[0;34m(\u001b[0m\u001b[0minput_fn\u001b[0m\u001b[0;34m=\u001b[0m\u001b[0mx_train\u001b[0m\u001b[0;34m,\u001b[0m \u001b[0msteps\u001b[0m\u001b[0;34m=\u001b[0m\u001b[0;36m100\u001b[0m\u001b[0;34m)\u001b[0m\u001b[0;34m\u001b[0m\u001b[0;34m\u001b[0m\u001b[0m\n\u001b[1;32m      5\u001b[0m \u001b[0;34m\u001b[0m\u001b[0m\n",
            "\u001b[0;31mTypeError\u001b[0m: __init__() missing 1 required positional argument: 'feature_columns'"
          ]
        }
      ]
    },
    {
      "cell_type": "markdown",
      "metadata": {
        "id": "SBmuV-wEn6fV",
        "colab_type": "text"
      },
      "source": [
        "El modelo es de un solo layery es lineal"
      ]
    },
    {
      "cell_type": "code",
      "metadata": {
        "id": "HX0g-Lx8v23h",
        "colab_type": "code",
        "colab": {}
      },
      "source": [
        "model = tf.keras.models.Sequential([\n",
        "    tf.keras.layers.Dense(4, activation = 'softmax', input_shape=(28,))\n",
        "])\n",
        "model.compile(\n",
        "    loss='sparse_categorical_crossentropy', \n",
        "    optimizer=keras.optimizers.Adam()\n",
        ")"
      ],
      "execution_count": 0,
      "outputs": []
    },
    {
      "cell_type": "markdown",
      "metadata": {
        "id": "qx7wW7BCoAM5",
        "colab_type": "text"
      },
      "source": [
        "Sumario para ver las variables"
      ]
    },
    {
      "cell_type": "code",
      "metadata": {
        "id": "ujBKLGcxf7gU",
        "colab_type": "code",
        "outputId": "36b94220-4fae-4f21-d7c0-d8158c7d56af",
        "colab": {
          "base_uri": "https://localhost:8080/",
          "height": 195
        }
      },
      "source": [
        "model.summary()"
      ],
      "execution_count": 0,
      "outputs": [
        {
          "output_type": "stream",
          "text": [
            "Model: \"sequential_2\"\n",
            "_________________________________________________________________\n",
            "Layer (type)                 Output Shape              Param #   \n",
            "=================================================================\n",
            "dense_2 (Dense)              (None, 4)                 116       \n",
            "=================================================================\n",
            "Total params: 116\n",
            "Trainable params: 116\n",
            "Non-trainable params: 0\n",
            "_________________________________________________________________\n"
          ],
          "name": "stdout"
        }
      ]
    },
    {
      "cell_type": "markdown",
      "metadata": {
        "id": "TmpUcqPzoC4p",
        "colab_type": "text"
      },
      "source": [
        "Se entrenan las variables"
      ]
    },
    {
      "cell_type": "code",
      "metadata": {
        "id": "LCFQ9bBWVEuw",
        "colab_type": "code",
        "outputId": "e5e0801b-3829-4fad-d2ec-40bdc0a42e7f",
        "colab": {
          "base_uri": "https://localhost:8080/",
          "height": 868
        }
      },
      "source": [
        "training_history = model.fit(\n",
        "    x_train, # input\n",
        "    y_train, # output\n",
        "    batch_size = train_size,\n",
        "    verbose = 1, # Suppress chatty output; use Tensorboard instead\n",
        "    epochs = 100,\n",
        "    validation_data = (x_test, y_test),\n",
        "    callbacks=[tensorboard_callback]\n",
        ")"
      ],
      "execution_count": 0,
      "outputs": [
        {
          "output_type": "stream",
          "text": [
            "Epoch 1/100\n"
          ],
          "name": "stdout"
        },
        {
          "output_type": "error",
          "ename": "ValueError",
          "evalue": "ignored",
          "traceback": [
            "\u001b[0;31m---------------------------------------------------------------------------\u001b[0m",
            "\u001b[0;31mValueError\u001b[0m                                Traceback (most recent call last)",
            "\u001b[0;32m<ipython-input-29-c5221e2725b2>\u001b[0m in \u001b[0;36m<module>\u001b[0;34m()\u001b[0m\n\u001b[1;32m      6\u001b[0m     \u001b[0mepochs\u001b[0m \u001b[0;34m=\u001b[0m \u001b[0;36m100\u001b[0m\u001b[0;34m,\u001b[0m\u001b[0;34m\u001b[0m\u001b[0;34m\u001b[0m\u001b[0m\n\u001b[1;32m      7\u001b[0m     \u001b[0mvalidation_data\u001b[0m \u001b[0;34m=\u001b[0m \u001b[0;34m(\u001b[0m\u001b[0mx_test\u001b[0m\u001b[0;34m,\u001b[0m \u001b[0my_test\u001b[0m\u001b[0;34m)\u001b[0m\u001b[0;34m,\u001b[0m\u001b[0;34m\u001b[0m\u001b[0;34m\u001b[0m\u001b[0m\n\u001b[0;32m----> 8\u001b[0;31m     \u001b[0mcallbacks\u001b[0m\u001b[0;34m=\u001b[0m\u001b[0;34m[\u001b[0m\u001b[0mtensorboard_callback\u001b[0m\u001b[0;34m]\u001b[0m\u001b[0;34m\u001b[0m\u001b[0;34m\u001b[0m\u001b[0m\n\u001b[0m\u001b[1;32m      9\u001b[0m )\n",
            "\u001b[0;32m/usr/local/lib/python3.6/dist-packages/tensorflow/python/keras/engine/training.py\u001b[0m in \u001b[0;36m_method_wrapper\u001b[0;34m(self, *args, **kwargs)\u001b[0m\n\u001b[1;32m     64\u001b[0m   \u001b[0;32mdef\u001b[0m \u001b[0m_method_wrapper\u001b[0m\u001b[0;34m(\u001b[0m\u001b[0mself\u001b[0m\u001b[0;34m,\u001b[0m \u001b[0;34m*\u001b[0m\u001b[0margs\u001b[0m\u001b[0;34m,\u001b[0m \u001b[0;34m**\u001b[0m\u001b[0mkwargs\u001b[0m\u001b[0;34m)\u001b[0m\u001b[0;34m:\u001b[0m\u001b[0;34m\u001b[0m\u001b[0;34m\u001b[0m\u001b[0m\n\u001b[1;32m     65\u001b[0m     \u001b[0;32mif\u001b[0m \u001b[0;32mnot\u001b[0m \u001b[0mself\u001b[0m\u001b[0;34m.\u001b[0m\u001b[0m_in_multi_worker_mode\u001b[0m\u001b[0;34m(\u001b[0m\u001b[0;34m)\u001b[0m\u001b[0;34m:\u001b[0m  \u001b[0;31m# pylint: disable=protected-access\u001b[0m\u001b[0;34m\u001b[0m\u001b[0;34m\u001b[0m\u001b[0m\n\u001b[0;32m---> 66\u001b[0;31m       \u001b[0;32mreturn\u001b[0m \u001b[0mmethod\u001b[0m\u001b[0;34m(\u001b[0m\u001b[0mself\u001b[0m\u001b[0;34m,\u001b[0m \u001b[0;34m*\u001b[0m\u001b[0margs\u001b[0m\u001b[0;34m,\u001b[0m \u001b[0;34m**\u001b[0m\u001b[0mkwargs\u001b[0m\u001b[0;34m)\u001b[0m\u001b[0;34m\u001b[0m\u001b[0;34m\u001b[0m\u001b[0m\n\u001b[0m\u001b[1;32m     67\u001b[0m \u001b[0;34m\u001b[0m\u001b[0m\n\u001b[1;32m     68\u001b[0m     \u001b[0;31m# Running inside `run_distribute_coordinator` already.\u001b[0m\u001b[0;34m\u001b[0m\u001b[0;34m\u001b[0m\u001b[0;34m\u001b[0m\u001b[0m\n",
            "\u001b[0;32m/usr/local/lib/python3.6/dist-packages/tensorflow/python/keras/engine/training.py\u001b[0m in \u001b[0;36mfit\u001b[0;34m(self, x, y, batch_size, epochs, verbose, callbacks, validation_split, validation_data, shuffle, class_weight, sample_weight, initial_epoch, steps_per_epoch, validation_steps, validation_batch_size, validation_freq, max_queue_size, workers, use_multiprocessing, **kwargs)\u001b[0m\n\u001b[1;32m    849\u001b[0m                 batch_size=batch_size):\n\u001b[1;32m    850\u001b[0m               \u001b[0mcallbacks\u001b[0m\u001b[0;34m.\u001b[0m\u001b[0mon_train_batch_begin\u001b[0m\u001b[0;34m(\u001b[0m\u001b[0mstep\u001b[0m\u001b[0;34m)\u001b[0m\u001b[0;34m\u001b[0m\u001b[0;34m\u001b[0m\u001b[0m\n\u001b[0;32m--> 851\u001b[0;31m               \u001b[0mtmp_logs\u001b[0m \u001b[0;34m=\u001b[0m \u001b[0mtrain_function\u001b[0m\u001b[0;34m(\u001b[0m\u001b[0miterator\u001b[0m\u001b[0;34m)\u001b[0m\u001b[0;34m\u001b[0m\u001b[0;34m\u001b[0m\u001b[0m\n\u001b[0m\u001b[1;32m    852\u001b[0m               \u001b[0;31m# Catch OutOfRangeError for Datasets of unknown size.\u001b[0m\u001b[0;34m\u001b[0m\u001b[0;34m\u001b[0m\u001b[0;34m\u001b[0m\u001b[0m\n\u001b[1;32m    853\u001b[0m               \u001b[0;31m# This blocks until the batch has finished executing.\u001b[0m\u001b[0;34m\u001b[0m\u001b[0;34m\u001b[0m\u001b[0;34m\u001b[0m\u001b[0m\n",
            "\u001b[0;32m/usr/local/lib/python3.6/dist-packages/tensorflow/python/eager/def_function.py\u001b[0m in \u001b[0;36m__call__\u001b[0;34m(self, *args, **kwds)\u001b[0m\n\u001b[1;32m    578\u001b[0m         \u001b[0mxla_context\u001b[0m\u001b[0;34m.\u001b[0m\u001b[0mExit\u001b[0m\u001b[0;34m(\u001b[0m\u001b[0;34m)\u001b[0m\u001b[0;34m\u001b[0m\u001b[0;34m\u001b[0m\u001b[0m\n\u001b[1;32m    579\u001b[0m     \u001b[0;32melse\u001b[0m\u001b[0;34m:\u001b[0m\u001b[0;34m\u001b[0m\u001b[0;34m\u001b[0m\u001b[0m\n\u001b[0;32m--> 580\u001b[0;31m       \u001b[0mresult\u001b[0m \u001b[0;34m=\u001b[0m \u001b[0mself\u001b[0m\u001b[0;34m.\u001b[0m\u001b[0m_call\u001b[0m\u001b[0;34m(\u001b[0m\u001b[0;34m*\u001b[0m\u001b[0margs\u001b[0m\u001b[0;34m,\u001b[0m \u001b[0;34m**\u001b[0m\u001b[0mkwds\u001b[0m\u001b[0;34m)\u001b[0m\u001b[0;34m\u001b[0m\u001b[0;34m\u001b[0m\u001b[0m\n\u001b[0m\u001b[1;32m    581\u001b[0m \u001b[0;34m\u001b[0m\u001b[0m\n\u001b[1;32m    582\u001b[0m     \u001b[0;32mif\u001b[0m \u001b[0mtracing_count\u001b[0m \u001b[0;34m==\u001b[0m \u001b[0mself\u001b[0m\u001b[0;34m.\u001b[0m\u001b[0m_get_tracing_count\u001b[0m\u001b[0;34m(\u001b[0m\u001b[0;34m)\u001b[0m\u001b[0;34m:\u001b[0m\u001b[0;34m\u001b[0m\u001b[0;34m\u001b[0m\u001b[0m\n",
            "\u001b[0;32m/usr/local/lib/python3.6/dist-packages/tensorflow/python/eager/def_function.py\u001b[0m in \u001b[0;36m_call\u001b[0;34m(self, *args, **kwds)\u001b[0m\n\u001b[1;32m    625\u001b[0m       \u001b[0;31m# This is the first call of __call__, so we have to initialize.\u001b[0m\u001b[0;34m\u001b[0m\u001b[0;34m\u001b[0m\u001b[0;34m\u001b[0m\u001b[0m\n\u001b[1;32m    626\u001b[0m       \u001b[0minitializers\u001b[0m \u001b[0;34m=\u001b[0m \u001b[0;34m[\u001b[0m\u001b[0;34m]\u001b[0m\u001b[0;34m\u001b[0m\u001b[0;34m\u001b[0m\u001b[0m\n\u001b[0;32m--> 627\u001b[0;31m       \u001b[0mself\u001b[0m\u001b[0;34m.\u001b[0m\u001b[0m_initialize\u001b[0m\u001b[0;34m(\u001b[0m\u001b[0margs\u001b[0m\u001b[0;34m,\u001b[0m \u001b[0mkwds\u001b[0m\u001b[0;34m,\u001b[0m \u001b[0madd_initializers_to\u001b[0m\u001b[0;34m=\u001b[0m\u001b[0minitializers\u001b[0m\u001b[0;34m)\u001b[0m\u001b[0;34m\u001b[0m\u001b[0;34m\u001b[0m\u001b[0m\n\u001b[0m\u001b[1;32m    628\u001b[0m     \u001b[0;32mfinally\u001b[0m\u001b[0;34m:\u001b[0m\u001b[0;34m\u001b[0m\u001b[0;34m\u001b[0m\u001b[0m\n\u001b[1;32m    629\u001b[0m       \u001b[0;31m# At this point we know that the initialization is complete (or less\u001b[0m\u001b[0;34m\u001b[0m\u001b[0;34m\u001b[0m\u001b[0;34m\u001b[0m\u001b[0m\n",
            "\u001b[0;32m/usr/local/lib/python3.6/dist-packages/tensorflow/python/eager/def_function.py\u001b[0m in \u001b[0;36m_initialize\u001b[0;34m(self, args, kwds, add_initializers_to)\u001b[0m\n\u001b[1;32m    504\u001b[0m     self._concrete_stateful_fn = (\n\u001b[1;32m    505\u001b[0m         self._stateful_fn._get_concrete_function_internal_garbage_collected(  # pylint: disable=protected-access\n\u001b[0;32m--> 506\u001b[0;31m             *args, **kwds))\n\u001b[0m\u001b[1;32m    507\u001b[0m \u001b[0;34m\u001b[0m\u001b[0m\n\u001b[1;32m    508\u001b[0m     \u001b[0;32mdef\u001b[0m \u001b[0minvalid_creator_scope\u001b[0m\u001b[0;34m(\u001b[0m\u001b[0;34m*\u001b[0m\u001b[0munused_args\u001b[0m\u001b[0;34m,\u001b[0m \u001b[0;34m**\u001b[0m\u001b[0munused_kwds\u001b[0m\u001b[0;34m)\u001b[0m\u001b[0;34m:\u001b[0m\u001b[0;34m\u001b[0m\u001b[0;34m\u001b[0m\u001b[0m\n",
            "\u001b[0;32m/usr/local/lib/python3.6/dist-packages/tensorflow/python/eager/function.py\u001b[0m in \u001b[0;36m_get_concrete_function_internal_garbage_collected\u001b[0;34m(self, *args, **kwargs)\u001b[0m\n\u001b[1;32m   2444\u001b[0m       \u001b[0margs\u001b[0m\u001b[0;34m,\u001b[0m \u001b[0mkwargs\u001b[0m \u001b[0;34m=\u001b[0m \u001b[0;32mNone\u001b[0m\u001b[0;34m,\u001b[0m \u001b[0;32mNone\u001b[0m\u001b[0;34m\u001b[0m\u001b[0;34m\u001b[0m\u001b[0m\n\u001b[1;32m   2445\u001b[0m     \u001b[0;32mwith\u001b[0m \u001b[0mself\u001b[0m\u001b[0;34m.\u001b[0m\u001b[0m_lock\u001b[0m\u001b[0;34m:\u001b[0m\u001b[0;34m\u001b[0m\u001b[0;34m\u001b[0m\u001b[0m\n\u001b[0;32m-> 2446\u001b[0;31m       \u001b[0mgraph_function\u001b[0m\u001b[0;34m,\u001b[0m \u001b[0m_\u001b[0m\u001b[0;34m,\u001b[0m \u001b[0m_\u001b[0m \u001b[0;34m=\u001b[0m \u001b[0mself\u001b[0m\u001b[0;34m.\u001b[0m\u001b[0m_maybe_define_function\u001b[0m\u001b[0;34m(\u001b[0m\u001b[0margs\u001b[0m\u001b[0;34m,\u001b[0m \u001b[0mkwargs\u001b[0m\u001b[0;34m)\u001b[0m\u001b[0;34m\u001b[0m\u001b[0;34m\u001b[0m\u001b[0m\n\u001b[0m\u001b[1;32m   2447\u001b[0m     \u001b[0;32mreturn\u001b[0m \u001b[0mgraph_function\u001b[0m\u001b[0;34m\u001b[0m\u001b[0;34m\u001b[0m\u001b[0m\n\u001b[1;32m   2448\u001b[0m \u001b[0;34m\u001b[0m\u001b[0m\n",
            "\u001b[0;32m/usr/local/lib/python3.6/dist-packages/tensorflow/python/eager/function.py\u001b[0m in \u001b[0;36m_maybe_define_function\u001b[0;34m(self, args, kwargs)\u001b[0m\n\u001b[1;32m   2775\u001b[0m \u001b[0;34m\u001b[0m\u001b[0m\n\u001b[1;32m   2776\u001b[0m       \u001b[0mself\u001b[0m\u001b[0;34m.\u001b[0m\u001b[0m_function_cache\u001b[0m\u001b[0;34m.\u001b[0m\u001b[0mmissed\u001b[0m\u001b[0;34m.\u001b[0m\u001b[0madd\u001b[0m\u001b[0;34m(\u001b[0m\u001b[0mcall_context_key\u001b[0m\u001b[0;34m)\u001b[0m\u001b[0;34m\u001b[0m\u001b[0;34m\u001b[0m\u001b[0m\n\u001b[0;32m-> 2777\u001b[0;31m       \u001b[0mgraph_function\u001b[0m \u001b[0;34m=\u001b[0m \u001b[0mself\u001b[0m\u001b[0;34m.\u001b[0m\u001b[0m_create_graph_function\u001b[0m\u001b[0;34m(\u001b[0m\u001b[0margs\u001b[0m\u001b[0;34m,\u001b[0m \u001b[0mkwargs\u001b[0m\u001b[0;34m)\u001b[0m\u001b[0;34m\u001b[0m\u001b[0;34m\u001b[0m\u001b[0m\n\u001b[0m\u001b[1;32m   2778\u001b[0m       \u001b[0mself\u001b[0m\u001b[0;34m.\u001b[0m\u001b[0m_function_cache\u001b[0m\u001b[0;34m.\u001b[0m\u001b[0mprimary\u001b[0m\u001b[0;34m[\u001b[0m\u001b[0mcache_key\u001b[0m\u001b[0;34m]\u001b[0m \u001b[0;34m=\u001b[0m \u001b[0mgraph_function\u001b[0m\u001b[0;34m\u001b[0m\u001b[0;34m\u001b[0m\u001b[0m\n\u001b[1;32m   2779\u001b[0m       \u001b[0;32mreturn\u001b[0m \u001b[0mgraph_function\u001b[0m\u001b[0;34m,\u001b[0m \u001b[0margs\u001b[0m\u001b[0;34m,\u001b[0m \u001b[0mkwargs\u001b[0m\u001b[0;34m\u001b[0m\u001b[0;34m\u001b[0m\u001b[0m\n",
            "\u001b[0;32m/usr/local/lib/python3.6/dist-packages/tensorflow/python/eager/function.py\u001b[0m in \u001b[0;36m_create_graph_function\u001b[0;34m(self, args, kwargs, override_flat_arg_shapes)\u001b[0m\n\u001b[1;32m   2665\u001b[0m             \u001b[0marg_names\u001b[0m\u001b[0;34m=\u001b[0m\u001b[0marg_names\u001b[0m\u001b[0;34m,\u001b[0m\u001b[0;34m\u001b[0m\u001b[0;34m\u001b[0m\u001b[0m\n\u001b[1;32m   2666\u001b[0m             \u001b[0moverride_flat_arg_shapes\u001b[0m\u001b[0;34m=\u001b[0m\u001b[0moverride_flat_arg_shapes\u001b[0m\u001b[0;34m,\u001b[0m\u001b[0;34m\u001b[0m\u001b[0;34m\u001b[0m\u001b[0m\n\u001b[0;32m-> 2667\u001b[0;31m             capture_by_value=self._capture_by_value),\n\u001b[0m\u001b[1;32m   2668\u001b[0m         \u001b[0mself\u001b[0m\u001b[0;34m.\u001b[0m\u001b[0m_function_attributes\u001b[0m\u001b[0;34m,\u001b[0m\u001b[0;34m\u001b[0m\u001b[0;34m\u001b[0m\u001b[0m\n\u001b[1;32m   2669\u001b[0m         \u001b[0;31m# Tell the ConcreteFunction to clean up its graph once it goes out of\u001b[0m\u001b[0;34m\u001b[0m\u001b[0;34m\u001b[0m\u001b[0;34m\u001b[0m\u001b[0m\n",
            "\u001b[0;32m/usr/local/lib/python3.6/dist-packages/tensorflow/python/framework/func_graph.py\u001b[0m in \u001b[0;36mfunc_graph_from_py_func\u001b[0;34m(name, python_func, args, kwargs, signature, func_graph, autograph, autograph_options, add_control_dependencies, arg_names, op_return_value, collections, capture_by_value, override_flat_arg_shapes)\u001b[0m\n\u001b[1;32m    979\u001b[0m         \u001b[0m_\u001b[0m\u001b[0;34m,\u001b[0m \u001b[0moriginal_func\u001b[0m \u001b[0;34m=\u001b[0m \u001b[0mtf_decorator\u001b[0m\u001b[0;34m.\u001b[0m\u001b[0munwrap\u001b[0m\u001b[0;34m(\u001b[0m\u001b[0mpython_func\u001b[0m\u001b[0;34m)\u001b[0m\u001b[0;34m\u001b[0m\u001b[0;34m\u001b[0m\u001b[0m\n\u001b[1;32m    980\u001b[0m \u001b[0;34m\u001b[0m\u001b[0m\n\u001b[0;32m--> 981\u001b[0;31m       \u001b[0mfunc_outputs\u001b[0m \u001b[0;34m=\u001b[0m \u001b[0mpython_func\u001b[0m\u001b[0;34m(\u001b[0m\u001b[0;34m*\u001b[0m\u001b[0mfunc_args\u001b[0m\u001b[0;34m,\u001b[0m \u001b[0;34m**\u001b[0m\u001b[0mfunc_kwargs\u001b[0m\u001b[0;34m)\u001b[0m\u001b[0;34m\u001b[0m\u001b[0;34m\u001b[0m\u001b[0m\n\u001b[0m\u001b[1;32m    982\u001b[0m \u001b[0;34m\u001b[0m\u001b[0m\n\u001b[1;32m    983\u001b[0m       \u001b[0;31m# invariant: `func_outputs` contains only Tensors, CompositeTensors,\u001b[0m\u001b[0;34m\u001b[0m\u001b[0;34m\u001b[0m\u001b[0;34m\u001b[0m\u001b[0m\n",
            "\u001b[0;32m/usr/local/lib/python3.6/dist-packages/tensorflow/python/eager/def_function.py\u001b[0m in \u001b[0;36mwrapped_fn\u001b[0;34m(*args, **kwds)\u001b[0m\n\u001b[1;32m    439\u001b[0m         \u001b[0;31m# __wrapped__ allows AutoGraph to swap in a converted function. We give\u001b[0m\u001b[0;34m\u001b[0m\u001b[0;34m\u001b[0m\u001b[0;34m\u001b[0m\u001b[0m\n\u001b[1;32m    440\u001b[0m         \u001b[0;31m# the function a weak reference to itself to avoid a reference cycle.\u001b[0m\u001b[0;34m\u001b[0m\u001b[0;34m\u001b[0m\u001b[0;34m\u001b[0m\u001b[0m\n\u001b[0;32m--> 441\u001b[0;31m         \u001b[0;32mreturn\u001b[0m \u001b[0mweak_wrapped_fn\u001b[0m\u001b[0;34m(\u001b[0m\u001b[0;34m)\u001b[0m\u001b[0;34m.\u001b[0m\u001b[0m__wrapped__\u001b[0m\u001b[0;34m(\u001b[0m\u001b[0;34m*\u001b[0m\u001b[0margs\u001b[0m\u001b[0;34m,\u001b[0m \u001b[0;34m**\u001b[0m\u001b[0mkwds\u001b[0m\u001b[0;34m)\u001b[0m\u001b[0;34m\u001b[0m\u001b[0;34m\u001b[0m\u001b[0m\n\u001b[0m\u001b[1;32m    442\u001b[0m     \u001b[0mweak_wrapped_fn\u001b[0m \u001b[0;34m=\u001b[0m \u001b[0mweakref\u001b[0m\u001b[0;34m.\u001b[0m\u001b[0mref\u001b[0m\u001b[0;34m(\u001b[0m\u001b[0mwrapped_fn\u001b[0m\u001b[0;34m)\u001b[0m\u001b[0;34m\u001b[0m\u001b[0;34m\u001b[0m\u001b[0m\n\u001b[1;32m    443\u001b[0m \u001b[0;34m\u001b[0m\u001b[0m\n",
            "\u001b[0;32m/usr/local/lib/python3.6/dist-packages/tensorflow/python/framework/func_graph.py\u001b[0m in \u001b[0;36mwrapper\u001b[0;34m(*args, **kwargs)\u001b[0m\n\u001b[1;32m    966\u001b[0m           \u001b[0;32mexcept\u001b[0m \u001b[0mException\u001b[0m \u001b[0;32mas\u001b[0m \u001b[0me\u001b[0m\u001b[0;34m:\u001b[0m  \u001b[0;31m# pylint:disable=broad-except\u001b[0m\u001b[0;34m\u001b[0m\u001b[0;34m\u001b[0m\u001b[0m\n\u001b[1;32m    967\u001b[0m             \u001b[0;32mif\u001b[0m \u001b[0mhasattr\u001b[0m\u001b[0;34m(\u001b[0m\u001b[0me\u001b[0m\u001b[0;34m,\u001b[0m \u001b[0;34m\"ag_error_metadata\"\u001b[0m\u001b[0;34m)\u001b[0m\u001b[0;34m:\u001b[0m\u001b[0;34m\u001b[0m\u001b[0;34m\u001b[0m\u001b[0m\n\u001b[0;32m--> 968\u001b[0;31m               \u001b[0;32mraise\u001b[0m \u001b[0me\u001b[0m\u001b[0;34m.\u001b[0m\u001b[0mag_error_metadata\u001b[0m\u001b[0;34m.\u001b[0m\u001b[0mto_exception\u001b[0m\u001b[0;34m(\u001b[0m\u001b[0me\u001b[0m\u001b[0;34m)\u001b[0m\u001b[0;34m\u001b[0m\u001b[0;34m\u001b[0m\u001b[0m\n\u001b[0m\u001b[1;32m    969\u001b[0m             \u001b[0;32melse\u001b[0m\u001b[0;34m:\u001b[0m\u001b[0;34m\u001b[0m\u001b[0;34m\u001b[0m\u001b[0m\n\u001b[1;32m    970\u001b[0m               \u001b[0;32mraise\u001b[0m\u001b[0;34m\u001b[0m\u001b[0;34m\u001b[0m\u001b[0m\n",
            "\u001b[0;31mValueError\u001b[0m: in user code:\n\n    /usr/local/lib/python3.6/dist-packages/tensorflow/python/keras/engine/training.py:571 train_function  *\n        outputs = self.distribute_strategy.run(\n    /usr/local/lib/python3.6/dist-packages/tensorflow/python/distribute/distribute_lib.py:951 run  **\n        return self._extended.call_for_each_replica(fn, args=args, kwargs=kwargs)\n    /usr/local/lib/python3.6/dist-packages/tensorflow/python/distribute/distribute_lib.py:2290 call_for_each_replica\n        return self._call_for_each_replica(fn, args, kwargs)\n    /usr/local/lib/python3.6/dist-packages/tensorflow/python/distribute/distribute_lib.py:2649 _call_for_each_replica\n        return fn(*args, **kwargs)\n    /usr/local/lib/python3.6/dist-packages/tensorflow/python/keras/engine/training.py:533 train_step  **\n        y, y_pred, sample_weight, regularization_losses=self.losses)\n    /usr/local/lib/python3.6/dist-packages/tensorflow/python/keras/engine/compile_utils.py:204 __call__\n        loss_value = loss_obj(y_t, y_p, sample_weight=sw)\n    /usr/local/lib/python3.6/dist-packages/tensorflow/python/keras/losses.py:143 __call__\n        losses = self.call(y_true, y_pred)\n    /usr/local/lib/python3.6/dist-packages/tensorflow/python/keras/losses.py:246 call\n        return self.fn(y_true, y_pred, **self._fn_kwargs)\n    /usr/local/lib/python3.6/dist-packages/tensorflow/python/keras/losses.py:1558 sparse_categorical_crossentropy\n        y_true, y_pred, from_logits=from_logits, axis=axis)\n    /usr/local/lib/python3.6/dist-packages/tensorflow/python/keras/backend.py:4655 sparse_categorical_crossentropy\n        labels=target, logits=output)\n    /usr/local/lib/python3.6/dist-packages/tensorflow/python/ops/nn_ops.py:3591 sparse_softmax_cross_entropy_with_logits_v2\n        labels=labels, logits=logits, name=name)\n    /usr/local/lib/python3.6/dist-packages/tensorflow/python/ops/nn_ops.py:3507 sparse_softmax_cross_entropy_with_logits\n        logits.get_shape()))\n\n    ValueError: Shape mismatch: The shape of labels (received (25168,)) should equal the shape of logits except for the last dimension (received (6292, 4)).\n"
          ]
        }
      ]
    },
    {
      "cell_type": "markdown",
      "metadata": {
        "id": "ffhg-qYV4dNX",
        "colab_type": "text"
      },
      "source": [
        "Ver como se entrenaron los pesos"
      ]
    },
    {
      "cell_type": "code",
      "metadata": {
        "id": "TBWgDFabeTID",
        "colab_type": "code",
        "outputId": "ec61d4aa-6c53-45a3-877f-ab5636d3f772",
        "colab": {
          "base_uri": "https://localhost:8080/",
          "height": 159
        }
      },
      "source": [
        "print(\"Average test loss: \", np.average(training_history.history['loss']))\n",
        "\n",
        "print('Prediction: {}'.format(model.predict(x_test)))\n",
        "predictions = model.predict(x_test)"
      ],
      "execution_count": 0,
      "outputs": [
        {
          "output_type": "stream",
          "text": [
            "Average test loss:  0.38059904098510744\n",
            "Prediction: [[0. 0. 1. 0.]\n",
            " [0. 0. 1. 0.]\n",
            " [0. 0. 1. 0.]\n",
            " ...\n",
            " [0. 0. 1. 0.]\n",
            " [0. 0. 1. 0.]\n",
            " [0. 0. 1. 0.]]\n"
          ],
          "name": "stdout"
        }
      ]
    },
    {
      "cell_type": "code",
      "metadata": {
        "id": "wa5kseSpEAPj",
        "colab_type": "code",
        "outputId": "011ae290-e591-4ffd-d519-d1ec4481799b",
        "colab": {
          "base_uri": "https://localhost:8080/",
          "height": 532
        }
      },
      "source": [
        "capas = model.layers[0]\n",
        "x,a = capas.get_weights()\n",
        "print(x)\n",
        "print(a)"
      ],
      "execution_count": 0,
      "outputs": [
        {
          "output_type": "stream",
          "text": [
            "[[ 8.46354440e-02 -2.71371305e-01 -2.02702776e-01 -4.00564730e-01]\n",
            " [-2.72714138e-01 -3.76971036e-01  3.38143319e-01  1.44136950e-01]\n",
            " [ 4.45740484e-02  3.90085369e-01  5.16170442e-01  2.26284862e-01]\n",
            " [ 4.36927453e-02  4.26862240e-02 -3.98655655e-03  1.27980933e-01]\n",
            " [ 3.32012236e-01  2.51624078e-01  4.12439615e-01 -1.83718815e-01]\n",
            " [-5.27115501e-02  1.19571418e-01 -1.63915187e-01  1.50052428e-01]\n",
            " [-3.12995583e-01 -9.00611579e-02 -4.09032255e-01  1.38216779e-01]\n",
            " [ 4.19725001e-01  3.11164469e-01 -4.26197529e-01  6.30709380e-02]\n",
            " [ 1.38997674e-01 -2.39277720e-01  1.51062340e-01 -3.18127513e-01]\n",
            " [ 1.96630433e-01  2.36576885e-01  3.95491153e-01 -2.14997545e-01]\n",
            " [-1.41749933e-01 -2.87392020e-01 -3.63212198e-01  1.17941365e-01]\n",
            " [ 1.36106208e-01 -1.17069095e-01 -3.19279820e-01  4.07732546e-01]\n",
            " [ 3.30953628e-01  3.25281888e-01  2.61489779e-01  1.94258377e-01]\n",
            " [-2.08377346e-01 -9.04378295e-03  8.50802511e-02  2.01541126e-01]\n",
            " [ 1.19697660e-01 -9.98768210e-02  1.14689499e-01  4.18892652e-01]\n",
            " [-1.22648925e-01 -1.41730130e-01 -4.18473721e-01  2.14557759e-02]\n",
            " [ 1.33415014e-01 -9.13507044e-02  6.24251477e-02 -4.05455649e-01]\n",
            " [-3.22075963e-01 -5.94900250e-02 -3.93923968e-02  2.20157996e-01]\n",
            " [-4.23117727e-01 -1.29874974e-01 -2.25106537e-01 -3.52892965e-01]\n",
            " [-2.07909614e-01  4.26155478e-01  2.43728265e-01 -1.18252330e-01]\n",
            " [ 3.35171849e-01 -1.08452827e-01  2.92437613e-01  3.97817373e-01]\n",
            " [ 4.24451172e-01 -1.08809948e-01  1.85798958e-01 -3.55165184e-01]\n",
            " [ 3.22092712e-01 -5.64909577e-02  3.65254521e-01 -3.75300236e-02]\n",
            " [-4.02496941e-02  1.86980277e-01  3.78159434e-01 -2.76263893e-01]\n",
            " [-1.62010282e-01 -4.14148778e-01 -2.53257953e-04 -8.20517838e-02]\n",
            " [-3.52286518e-01  3.16806883e-01 -3.58179659e-01  3.90089191e-02]\n",
            " [-3.35254610e-01 -3.38257521e-01  3.41625363e-01  2.25119218e-01]\n",
            " [-3.99393678e-01  3.39631408e-01  7.99604431e-02 -6.95087090e-02]]\n",
            "[-1.0727741e-06  0.0000000e+00  1.9756398e-04 -1.9649090e-04]\n"
          ],
          "name": "stdout"
        }
      ]
    },
    {
      "cell_type": "code",
      "metadata": {
        "id": "KEEKGGkyEKtE",
        "colab_type": "code",
        "colab": {}
      },
      "source": [
        ""
      ],
      "execution_count": 0,
      "outputs": []
    }
  ]
}